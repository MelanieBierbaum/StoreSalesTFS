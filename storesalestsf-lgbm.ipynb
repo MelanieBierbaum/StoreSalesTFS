{
 "cells": [
  {
   "cell_type": "code",
   "execution_count": 1,
   "id": "3baaa92d",
   "metadata": {
    "_cell_guid": "b1076dfc-b9ad-4769-8c92-a6c4dae69d19",
    "_uuid": "8f2839f25d086af736a60e9eeb907d3b93b6e0e5",
    "execution": {
     "iopub.execute_input": "2023-11-21T13:24:53.398943Z",
     "iopub.status.busy": "2023-11-21T13:24:53.398184Z",
     "iopub.status.idle": "2023-11-21T13:24:57.424973Z",
     "shell.execute_reply": "2023-11-21T13:24:57.423590Z"
    },
    "papermill": {
     "duration": 4.050165,
     "end_time": "2023-11-21T13:24:57.427665",
     "exception": false,
     "start_time": "2023-11-21T13:24:53.377500",
     "status": "completed"
    },
    "tags": []
   },
   "outputs": [
    {
     "name": "stdout",
     "output_type": "stream",
     "text": [
      "pandas version:  2.0.3\n",
      "LightGBM version:  3.3.2\n",
      "/kaggle/input/storesalestfs-featureenigneering/__results__.html\n",
      "/kaggle/input/storesalestfs-featureenigneering/__notebook__.ipynb\n",
      "/kaggle/input/storesalestfs-featureenigneering/__output__.json\n",
      "/kaggle/input/storesalestfs-featureenigneering/train_features.csv\n",
      "/kaggle/input/storesalestfs-featureenigneering/test_features.csv\n",
      "/kaggle/input/storesalestfs-featureenigneering/custom.css\n",
      "/kaggle/input/store-sales-time-series-forecasting/oil.csv\n",
      "/kaggle/input/store-sales-time-series-forecasting/sample_submission.csv\n",
      "/kaggle/input/store-sales-time-series-forecasting/holidays_events.csv\n",
      "/kaggle/input/store-sales-time-series-forecasting/stores.csv\n",
      "/kaggle/input/store-sales-time-series-forecasting/train.csv\n",
      "/kaggle/input/store-sales-time-series-forecasting/test.csv\n",
      "/kaggle/input/store-sales-time-series-forecasting/transactions.csv\n"
     ]
    }
   ],
   "source": [
    "# This Python 3 environment comes with many helpful analytics libraries installed\n",
    "# It is defined by the kaggle/python Docker image: https://github.com/kaggle/docker-python\n",
    "# For example, here's several helpful packages to load\n",
    "\n",
    "import numpy as np # linear algebra\n",
    "import pandas as pd # data processing, CSV file I/O (e.g. pd.read_csv)\n",
    "print (\"pandas version:  {}\".format(pd.__version__))\n",
    "import time\n",
    "from sklearn.preprocessing import LabelEncoder\n",
    "import matplotlib.pyplot as plt\n",
    "\n",
    "import lightgbm as lgb\n",
    "from lightgbm import early_stopping, log_evaluation, record_evaluation\n",
    "print(\"LightGBM version:  {}\".format(lgb.__version__))\n",
    "\n",
    "# Input data files are available in the read-only \"../input/\" directory\n",
    "# For example, running this (by clicking run or pressing Shift+Enter) will list all files under the input directory\n",
    "\n",
    "import os\n",
    "for dirname, _, filenames in os.walk('/kaggle/input'):\n",
    "    for filename in filenames:\n",
    "        print(os.path.join(dirname, filename))\n",
    "\n",
    "# You can write up to 20GB to the current directory (/kaggle/working/) that gets preserved as output when you create a version using \"Save & Run All\" \n",
    "# You can also write temporary files to /kaggle/temp/, but they won't be saved outside of the current session"
   ]
  },
  {
   "cell_type": "markdown",
   "id": "a7da951a",
   "metadata": {
    "papermill": {
     "duration": 0.015974,
     "end_time": "2023-11-21T13:24:57.460074",
     "exception": false,
     "start_time": "2023-11-21T13:24:57.444100",
     "status": "completed"
    },
    "tags": []
   },
   "source": [
    "The goal of this competition is to predict daily sales based on date, store number, item category (aka family). Additionally, information about the stores (regions & types), about holidays and the oil price during the whole time period (train+test) is available. "
   ]
  },
  {
   "cell_type": "markdown",
   "id": "167e2f08",
   "metadata": {
    "papermill": {
     "duration": 0.015488,
     "end_time": "2023-11-21T13:24:57.491642",
     "exception": false,
     "start_time": "2023-11-21T13:24:57.476154",
     "status": "completed"
    },
    "tags": []
   },
   "source": [
    "This notebook is used for modelling. The data is prepared in a separate notebook."
   ]
  },
  {
   "cell_type": "code",
   "execution_count": 2,
   "id": "2bce71d3",
   "metadata": {
    "execution": {
     "iopub.execute_input": "2023-11-21T13:24:57.526430Z",
     "iopub.status.busy": "2023-11-21T13:24:57.525993Z",
     "iopub.status.idle": "2023-11-21T13:25:26.003940Z",
     "shell.execute_reply": "2023-11-21T13:25:26.002833Z"
    },
    "papermill": {
     "duration": 28.499439,
     "end_time": "2023-11-21T13:25:26.007550",
     "exception": false,
     "start_time": "2023-11-21T13:24:57.508111",
     "status": "completed"
    },
    "tags": []
   },
   "outputs": [],
   "source": [
    "# read the output file of the prepare data notebook here\n",
    "train = pd.read_csv('/kaggle/input/storesalestfs-featureenigneering/train_features.csv')\n",
    "test = pd.read_csv('/kaggle/input/storesalestfs-featureenigneering/test_features.csv')\n",
    "# and sample submission\n",
    "sample_submission = pd.read_csv('/kaggle/input/store-sales-time-series-forecasting/sample_submission.csv')"
   ]
  },
  {
   "cell_type": "code",
   "execution_count": 3,
   "id": "75266216",
   "metadata": {
    "execution": {
     "iopub.execute_input": "2023-11-21T13:25:26.050986Z",
     "iopub.status.busy": "2023-11-21T13:25:26.049657Z",
     "iopub.status.idle": "2023-11-21T13:25:26.096693Z",
     "shell.execute_reply": "2023-11-21T13:25:26.095397Z"
    },
    "papermill": {
     "duration": 0.071926,
     "end_time": "2023-11-21T13:25:26.100406",
     "exception": false,
     "start_time": "2023-11-21T13:25:26.028480",
     "status": "completed"
    },
    "tags": []
   },
   "outputs": [
    {
     "data": {
      "text/html": [
       "<div>\n",
       "<style scoped>\n",
       "    .dataframe tbody tr th:only-of-type {\n",
       "        vertical-align: middle;\n",
       "    }\n",
       "\n",
       "    .dataframe tbody tr th {\n",
       "        vertical-align: top;\n",
       "    }\n",
       "\n",
       "    .dataframe thead th {\n",
       "        text-align: right;\n",
       "    }\n",
       "</style>\n",
       "<table border=\"1\" class=\"dataframe\">\n",
       "  <thead>\n",
       "    <tr style=\"text-align: right;\">\n",
       "      <th></th>\n",
       "      <th>id</th>\n",
       "      <th>date</th>\n",
       "      <th>store_nbr</th>\n",
       "      <th>family</th>\n",
       "      <th>sales</th>\n",
       "      <th>onpromotion</th>\n",
       "      <th>year</th>\n",
       "      <th>month</th>\n",
       "      <th>day</th>\n",
       "      <th>dayofweek</th>\n",
       "      <th>...</th>\n",
       "      <th>c_sales_std</th>\n",
       "      <th>is_onpromotion</th>\n",
       "      <th>op_sales_median</th>\n",
       "      <th>op_sales_mean</th>\n",
       "      <th>op_sales_min</th>\n",
       "      <th>op_sales_max</th>\n",
       "      <th>dcoilwtico</th>\n",
       "      <th>is_national_hol</th>\n",
       "      <th>is_local_hol</th>\n",
       "      <th>is_holiday</th>\n",
       "    </tr>\n",
       "  </thead>\n",
       "  <tbody>\n",
       "    <tr>\n",
       "      <th>0</th>\n",
       "      <td>648648</td>\n",
       "      <td>2014-01-01</td>\n",
       "      <td>1</td>\n",
       "      <td>AUTOMOTIVE</td>\n",
       "      <td>0.0</td>\n",
       "      <td>0</td>\n",
       "      <td>2014</td>\n",
       "      <td>1</td>\n",
       "      <td>1</td>\n",
       "      <td>2</td>\n",
       "      <td>...</td>\n",
       "      <td>6.250549</td>\n",
       "      <td>0</td>\n",
       "      <td>3.0</td>\n",
       "      <td>3.542113</td>\n",
       "      <td>0.0</td>\n",
       "      <td>19.0</td>\n",
       "      <td>98.17</td>\n",
       "      <td>True</td>\n",
       "      <td>False</td>\n",
       "      <td>True</td>\n",
       "    </tr>\n",
       "    <tr>\n",
       "      <th>1</th>\n",
       "      <td>648649</td>\n",
       "      <td>2014-01-01</td>\n",
       "      <td>1</td>\n",
       "      <td>BABY CARE</td>\n",
       "      <td>0.0</td>\n",
       "      <td>0</td>\n",
       "      <td>2014</td>\n",
       "      <td>1</td>\n",
       "      <td>1</td>\n",
       "      <td>2</td>\n",
       "      <td>...</td>\n",
       "      <td>0.766963</td>\n",
       "      <td>0</td>\n",
       "      <td>0.0</td>\n",
       "      <td>0.000000</td>\n",
       "      <td>0.0</td>\n",
       "      <td>0.0</td>\n",
       "      <td>98.17</td>\n",
       "      <td>True</td>\n",
       "      <td>False</td>\n",
       "      <td>True</td>\n",
       "    </tr>\n",
       "    <tr>\n",
       "      <th>2</th>\n",
       "      <td>648650</td>\n",
       "      <td>2014-01-01</td>\n",
       "      <td>1</td>\n",
       "      <td>BEAUTY</td>\n",
       "      <td>0.0</td>\n",
       "      <td>0</td>\n",
       "      <td>2014</td>\n",
       "      <td>1</td>\n",
       "      <td>1</td>\n",
       "      <td>2</td>\n",
       "      <td>...</td>\n",
       "      <td>5.110346</td>\n",
       "      <td>0</td>\n",
       "      <td>2.0</td>\n",
       "      <td>2.263397</td>\n",
       "      <td>0.0</td>\n",
       "      <td>11.0</td>\n",
       "      <td>98.17</td>\n",
       "      <td>True</td>\n",
       "      <td>False</td>\n",
       "      <td>True</td>\n",
       "    </tr>\n",
       "    <tr>\n",
       "      <th>3</th>\n",
       "      <td>648651</td>\n",
       "      <td>2014-01-01</td>\n",
       "      <td>1</td>\n",
       "      <td>BEVERAGES</td>\n",
       "      <td>0.0</td>\n",
       "      <td>0</td>\n",
       "      <td>2014</td>\n",
       "      <td>1</td>\n",
       "      <td>1</td>\n",
       "      <td>2</td>\n",
       "      <td>...</td>\n",
       "      <td>2431.441640</td>\n",
       "      <td>0</td>\n",
       "      <td>1093.0</td>\n",
       "      <td>1266.943522</td>\n",
       "      <td>0.0</td>\n",
       "      <td>3366.0</td>\n",
       "      <td>98.17</td>\n",
       "      <td>True</td>\n",
       "      <td>False</td>\n",
       "      <td>True</td>\n",
       "    </tr>\n",
       "    <tr>\n",
       "      <th>4</th>\n",
       "      <td>648652</td>\n",
       "      <td>2014-01-01</td>\n",
       "      <td>1</td>\n",
       "      <td>BOOKS</td>\n",
       "      <td>0.0</td>\n",
       "      <td>0</td>\n",
       "      <td>2014</td>\n",
       "      <td>1</td>\n",
       "      <td>1</td>\n",
       "      <td>2</td>\n",
       "      <td>...</td>\n",
       "      <td>0.618165</td>\n",
       "      <td>0</td>\n",
       "      <td>0.0</td>\n",
       "      <td>0.159848</td>\n",
       "      <td>0.0</td>\n",
       "      <td>8.0</td>\n",
       "      <td>98.17</td>\n",
       "      <td>True</td>\n",
       "      <td>False</td>\n",
       "      <td>True</td>\n",
       "    </tr>\n",
       "  </tbody>\n",
       "</table>\n",
       "<p>5 rows × 45 columns</p>\n",
       "</div>"
      ],
      "text/plain": [
       "       id        date  store_nbr      family  sales  onpromotion  year  month  \\\n",
       "0  648648  2014-01-01          1  AUTOMOTIVE    0.0            0  2014      1   \n",
       "1  648649  2014-01-01          1   BABY CARE    0.0            0  2014      1   \n",
       "2  648650  2014-01-01          1      BEAUTY    0.0            0  2014      1   \n",
       "3  648651  2014-01-01          1   BEVERAGES    0.0            0  2014      1   \n",
       "4  648652  2014-01-01          1       BOOKS    0.0            0  2014      1   \n",
       "\n",
       "   day  dayofweek  ...  c_sales_std  is_onpromotion  op_sales_median  \\\n",
       "0    1          2  ...     6.250549               0              3.0   \n",
       "1    1          2  ...     0.766963               0              0.0   \n",
       "2    1          2  ...     5.110346               0              2.0   \n",
       "3    1          2  ...  2431.441640               0           1093.0   \n",
       "4    1          2  ...     0.618165               0              0.0   \n",
       "\n",
       "   op_sales_mean  op_sales_min  op_sales_max  dcoilwtico  is_national_hol  \\\n",
       "0       3.542113           0.0          19.0       98.17             True   \n",
       "1       0.000000           0.0           0.0       98.17             True   \n",
       "2       2.263397           0.0          11.0       98.17             True   \n",
       "3    1266.943522           0.0        3366.0       98.17             True   \n",
       "4       0.159848           0.0           8.0       98.17             True   \n",
       "\n",
       "   is_local_hol  is_holiday  \n",
       "0         False        True  \n",
       "1         False        True  \n",
       "2         False        True  \n",
       "3         False        True  \n",
       "4         False        True  \n",
       "\n",
       "[5 rows x 45 columns]"
      ]
     },
     "execution_count": 3,
     "metadata": {},
     "output_type": "execute_result"
    }
   ],
   "source": [
    "train.head()"
   ]
  },
  {
   "cell_type": "code",
   "execution_count": 4,
   "id": "2fdd2bf5",
   "metadata": {
    "execution": {
     "iopub.execute_input": "2023-11-21T13:25:26.142400Z",
     "iopub.status.busy": "2023-11-21T13:25:26.141977Z",
     "iopub.status.idle": "2023-11-21T13:25:26.176903Z",
     "shell.execute_reply": "2023-11-21T13:25:26.175695Z"
    },
    "papermill": {
     "duration": 0.057774,
     "end_time": "2023-11-21T13:25:26.180131",
     "exception": false,
     "start_time": "2023-11-21T13:25:26.122357",
     "status": "completed"
    },
    "tags": []
   },
   "outputs": [
    {
     "data": {
      "text/html": [
       "<div>\n",
       "<style scoped>\n",
       "    .dataframe tbody tr th:only-of-type {\n",
       "        vertical-align: middle;\n",
       "    }\n",
       "\n",
       "    .dataframe tbody tr th {\n",
       "        vertical-align: top;\n",
       "    }\n",
       "\n",
       "    .dataframe thead th {\n",
       "        text-align: right;\n",
       "    }\n",
       "</style>\n",
       "<table border=\"1\" class=\"dataframe\">\n",
       "  <thead>\n",
       "    <tr style=\"text-align: right;\">\n",
       "      <th></th>\n",
       "      <th>id</th>\n",
       "      <th>date</th>\n",
       "      <th>store_nbr</th>\n",
       "      <th>family</th>\n",
       "      <th>sales</th>\n",
       "      <th>onpromotion</th>\n",
       "      <th>year</th>\n",
       "      <th>month</th>\n",
       "      <th>day</th>\n",
       "      <th>dayofweek</th>\n",
       "      <th>...</th>\n",
       "      <th>c_sales_std</th>\n",
       "      <th>is_onpromotion</th>\n",
       "      <th>op_sales_median</th>\n",
       "      <th>op_sales_mean</th>\n",
       "      <th>op_sales_min</th>\n",
       "      <th>op_sales_max</th>\n",
       "      <th>dcoilwtico</th>\n",
       "      <th>is_national_hol</th>\n",
       "      <th>is_local_hol</th>\n",
       "      <th>is_holiday</th>\n",
       "    </tr>\n",
       "  </thead>\n",
       "  <tbody>\n",
       "    <tr>\n",
       "      <th>0</th>\n",
       "      <td>3000888</td>\n",
       "      <td>2017-08-16</td>\n",
       "      <td>1</td>\n",
       "      <td>AUTOMOTIVE</td>\n",
       "      <td>0.0</td>\n",
       "      <td>0</td>\n",
       "      <td>2017</td>\n",
       "      <td>8</td>\n",
       "      <td>16</td>\n",
       "      <td>2</td>\n",
       "      <td>...</td>\n",
       "      <td>6.250549</td>\n",
       "      <td>0</td>\n",
       "      <td>3.0</td>\n",
       "      <td>3.542113</td>\n",
       "      <td>0.0</td>\n",
       "      <td>19.0</td>\n",
       "      <td>46.8</td>\n",
       "      <td>False</td>\n",
       "      <td>False</td>\n",
       "      <td>False</td>\n",
       "    </tr>\n",
       "    <tr>\n",
       "      <th>1</th>\n",
       "      <td>3000889</td>\n",
       "      <td>2017-08-16</td>\n",
       "      <td>1</td>\n",
       "      <td>BABY CARE</td>\n",
       "      <td>0.0</td>\n",
       "      <td>0</td>\n",
       "      <td>2017</td>\n",
       "      <td>8</td>\n",
       "      <td>16</td>\n",
       "      <td>2</td>\n",
       "      <td>...</td>\n",
       "      <td>0.766963</td>\n",
       "      <td>0</td>\n",
       "      <td>0.0</td>\n",
       "      <td>0.000000</td>\n",
       "      <td>0.0</td>\n",
       "      <td>0.0</td>\n",
       "      <td>46.8</td>\n",
       "      <td>False</td>\n",
       "      <td>False</td>\n",
       "      <td>False</td>\n",
       "    </tr>\n",
       "    <tr>\n",
       "      <th>2</th>\n",
       "      <td>3000890</td>\n",
       "      <td>2017-08-16</td>\n",
       "      <td>1</td>\n",
       "      <td>BEAUTY</td>\n",
       "      <td>0.0</td>\n",
       "      <td>2</td>\n",
       "      <td>2017</td>\n",
       "      <td>8</td>\n",
       "      <td>16</td>\n",
       "      <td>2</td>\n",
       "      <td>...</td>\n",
       "      <td>5.110346</td>\n",
       "      <td>1</td>\n",
       "      <td>4.0</td>\n",
       "      <td>4.173516</td>\n",
       "      <td>1.0</td>\n",
       "      <td>12.0</td>\n",
       "      <td>46.8</td>\n",
       "      <td>False</td>\n",
       "      <td>False</td>\n",
       "      <td>False</td>\n",
       "    </tr>\n",
       "    <tr>\n",
       "      <th>3</th>\n",
       "      <td>3000891</td>\n",
       "      <td>2017-08-16</td>\n",
       "      <td>1</td>\n",
       "      <td>BEVERAGES</td>\n",
       "      <td>0.0</td>\n",
       "      <td>20</td>\n",
       "      <td>2017</td>\n",
       "      <td>8</td>\n",
       "      <td>16</td>\n",
       "      <td>2</td>\n",
       "      <td>...</td>\n",
       "      <td>2431.441640</td>\n",
       "      <td>1</td>\n",
       "      <td>2097.0</td>\n",
       "      <td>1942.677134</td>\n",
       "      <td>325.0</td>\n",
       "      <td>5051.0</td>\n",
       "      <td>46.8</td>\n",
       "      <td>False</td>\n",
       "      <td>False</td>\n",
       "      <td>False</td>\n",
       "    </tr>\n",
       "    <tr>\n",
       "      <th>4</th>\n",
       "      <td>3000892</td>\n",
       "      <td>2017-08-16</td>\n",
       "      <td>1</td>\n",
       "      <td>BOOKS</td>\n",
       "      <td>0.0</td>\n",
       "      <td>0</td>\n",
       "      <td>2017</td>\n",
       "      <td>8</td>\n",
       "      <td>16</td>\n",
       "      <td>2</td>\n",
       "      <td>...</td>\n",
       "      <td>0.618165</td>\n",
       "      <td>0</td>\n",
       "      <td>0.0</td>\n",
       "      <td>0.159848</td>\n",
       "      <td>0.0</td>\n",
       "      <td>8.0</td>\n",
       "      <td>46.8</td>\n",
       "      <td>False</td>\n",
       "      <td>False</td>\n",
       "      <td>False</td>\n",
       "    </tr>\n",
       "  </tbody>\n",
       "</table>\n",
       "<p>5 rows × 45 columns</p>\n",
       "</div>"
      ],
      "text/plain": [
       "        id        date  store_nbr      family  sales  onpromotion  year  \\\n",
       "0  3000888  2017-08-16          1  AUTOMOTIVE    0.0            0  2017   \n",
       "1  3000889  2017-08-16          1   BABY CARE    0.0            0  2017   \n",
       "2  3000890  2017-08-16          1      BEAUTY    0.0            2  2017   \n",
       "3  3000891  2017-08-16          1   BEVERAGES    0.0           20  2017   \n",
       "4  3000892  2017-08-16          1       BOOKS    0.0            0  2017   \n",
       "\n",
       "   month  day  dayofweek  ...  c_sales_std  is_onpromotion  op_sales_median  \\\n",
       "0      8   16          2  ...     6.250549               0              3.0   \n",
       "1      8   16          2  ...     0.766963               0              0.0   \n",
       "2      8   16          2  ...     5.110346               1              4.0   \n",
       "3      8   16          2  ...  2431.441640               1           2097.0   \n",
       "4      8   16          2  ...     0.618165               0              0.0   \n",
       "\n",
       "   op_sales_mean  op_sales_min  op_sales_max  dcoilwtico  is_national_hol  \\\n",
       "0       3.542113           0.0          19.0        46.8            False   \n",
       "1       0.000000           0.0           0.0        46.8            False   \n",
       "2       4.173516           1.0          12.0        46.8            False   \n",
       "3    1942.677134         325.0        5051.0        46.8            False   \n",
       "4       0.159848           0.0           8.0        46.8            False   \n",
       "\n",
       "   is_local_hol  is_holiday  \n",
       "0         False       False  \n",
       "1         False       False  \n",
       "2         False       False  \n",
       "3         False       False  \n",
       "4         False       False  \n",
       "\n",
       "[5 rows x 45 columns]"
      ]
     },
     "execution_count": 4,
     "metadata": {},
     "output_type": "execute_result"
    }
   ],
   "source": [
    "test.head()"
   ]
  },
  {
   "cell_type": "code",
   "execution_count": 5,
   "id": "407fe8bf",
   "metadata": {
    "execution": {
     "iopub.execute_input": "2023-11-21T13:25:26.219269Z",
     "iopub.status.busy": "2023-11-21T13:25:26.218703Z",
     "iopub.status.idle": "2023-11-21T13:25:26.943235Z",
     "shell.execute_reply": "2023-11-21T13:25:26.942140Z"
    },
    "papermill": {
     "duration": 0.745509,
     "end_time": "2023-11-21T13:25:26.946047",
     "exception": false,
     "start_time": "2023-11-21T13:25:26.200538",
     "status": "completed"
    },
    "tags": []
   },
   "outputs": [],
   "source": [
    "# append train and test temporarily\n",
    "train = pd.concat( [train,test])"
   ]
  },
  {
   "cell_type": "code",
   "execution_count": 6,
   "id": "4dd9e9be",
   "metadata": {
    "execution": {
     "iopub.execute_input": "2023-11-21T13:25:26.982765Z",
     "iopub.status.busy": "2023-11-21T13:25:26.982010Z",
     "iopub.status.idle": "2023-11-21T13:25:26.991012Z",
     "shell.execute_reply": "2023-11-21T13:25:26.989989Z"
    },
    "papermill": {
     "duration": 0.030007,
     "end_time": "2023-11-21T13:25:26.993445",
     "exception": false,
     "start_time": "2023-11-21T13:25:26.963438",
     "status": "completed"
    },
    "tags": []
   },
   "outputs": [
    {
     "data": {
      "text/plain": [
       "id                     int64\n",
       "date                  object\n",
       "store_nbr              int64\n",
       "family                object\n",
       "sales                float64\n",
       "onpromotion            int64\n",
       "year                   int64\n",
       "month                  int64\n",
       "day                    int64\n",
       "dayofweek              int64\n",
       "dayofyear              int64\n",
       "weekofyear             int64\n",
       "is_weekend              bool\n",
       "weekIdContinous        int64\n",
       "sales_lag2w          float64\n",
       "sales_lag4w          float64\n",
       "sales_lag8w          float64\n",
       "sales_lag1y          float64\n",
       "is_payday              int64\n",
       "sf_monthly_mean      float64\n",
       "sf_yearly_mean       float64\n",
       "s_sales_median       float64\n",
       "s_sales_mean         float64\n",
       "s_sales_max          float64\n",
       "s_sales_std          float64\n",
       "city                  object\n",
       "state                 object\n",
       "type                  object\n",
       "cluster                int64\n",
       "transactions_mean    float64\n",
       "transactions_std     float64\n",
       "st_ratio             float64\n",
       "c_sales_median       float64\n",
       "c_sales_mean         float64\n",
       "c_sales_max          float64\n",
       "c_sales_std          float64\n",
       "is_onpromotion         int64\n",
       "op_sales_median      float64\n",
       "op_sales_mean        float64\n",
       "op_sales_min         float64\n",
       "op_sales_max         float64\n",
       "dcoilwtico           float64\n",
       "is_national_hol         bool\n",
       "is_local_hol            bool\n",
       "is_holiday              bool\n",
       "dtype: object"
      ]
     },
     "execution_count": 6,
     "metadata": {},
     "output_type": "execute_result"
    }
   ],
   "source": [
    "train.dtypes"
   ]
  },
  {
   "cell_type": "code",
   "execution_count": 7,
   "id": "404faa8f",
   "metadata": {
    "execution": {
     "iopub.execute_input": "2023-11-21T13:25:27.030524Z",
     "iopub.status.busy": "2023-11-21T13:25:27.030107Z",
     "iopub.status.idle": "2023-11-21T13:25:28.363143Z",
     "shell.execute_reply": "2023-11-21T13:25:28.362301Z"
    },
    "papermill": {
     "duration": 1.354678,
     "end_time": "2023-11-21T13:25:28.365368",
     "exception": false,
     "start_time": "2023-11-21T13:25:27.010690",
     "status": "completed"
    },
    "tags": []
   },
   "outputs": [
    {
     "data": {
      "text/plain": [
       "id                   0\n",
       "date                 0\n",
       "store_nbr            0\n",
       "family               0\n",
       "sales                0\n",
       "onpromotion          0\n",
       "year                 0\n",
       "month                0\n",
       "day                  0\n",
       "dayofweek            0\n",
       "dayofyear            0\n",
       "weekofyear           0\n",
       "is_weekend           0\n",
       "weekIdContinous      0\n",
       "sales_lag2w          0\n",
       "sales_lag4w          0\n",
       "sales_lag8w          0\n",
       "sales_lag1y          0\n",
       "is_payday            0\n",
       "sf_monthly_mean      0\n",
       "sf_yearly_mean       0\n",
       "s_sales_median       0\n",
       "s_sales_mean         0\n",
       "s_sales_max          0\n",
       "s_sales_std          0\n",
       "city                 0\n",
       "state                0\n",
       "type                 0\n",
       "cluster              0\n",
       "transactions_mean    0\n",
       "transactions_std     0\n",
       "st_ratio             0\n",
       "c_sales_median       0\n",
       "c_sales_mean         0\n",
       "c_sales_max          0\n",
       "c_sales_std          0\n",
       "is_onpromotion       0\n",
       "op_sales_median      0\n",
       "op_sales_mean        0\n",
       "op_sales_min         0\n",
       "op_sales_max         0\n",
       "dcoilwtico           0\n",
       "is_national_hol      0\n",
       "is_local_hol         0\n",
       "is_holiday           0\n",
       "dtype: int64"
      ]
     },
     "execution_count": 7,
     "metadata": {},
     "output_type": "execute_result"
    }
   ],
   "source": [
    "train.isna().sum()"
   ]
  },
  {
   "cell_type": "markdown",
   "id": "fa709c76",
   "metadata": {
    "papermill": {
     "duration": 0.01684,
     "end_time": "2023-11-21T13:25:28.399310",
     "exception": false,
     "start_time": "2023-11-21T13:25:28.382470",
     "status": "completed"
    },
    "tags": []
   },
   "source": [
    "# Label Encoding"
   ]
  },
  {
   "cell_type": "code",
   "execution_count": 8,
   "id": "0a87089f",
   "metadata": {
    "execution": {
     "iopub.execute_input": "2023-11-21T13:25:28.436585Z",
     "iopub.status.busy": "2023-11-21T13:25:28.435497Z",
     "iopub.status.idle": "2023-11-21T13:25:32.264088Z",
     "shell.execute_reply": "2023-11-21T13:25:32.262839Z"
    },
    "papermill": {
     "duration": 3.850412,
     "end_time": "2023-11-21T13:25:32.266890",
     "exception": false,
     "start_time": "2023-11-21T13:25:28.416478",
     "status": "completed"
    },
    "tags": []
   },
   "outputs": [
    {
     "data": {
      "text/plain": [
       "id                     int64\n",
       "date                  object\n",
       "store_nbr              int64\n",
       "family                 int64\n",
       "sales                float64\n",
       "onpromotion            int64\n",
       "year                   int64\n",
       "month                  int64\n",
       "day                    int64\n",
       "dayofweek              int64\n",
       "dayofyear              int64\n",
       "weekofyear             int64\n",
       "is_weekend             int64\n",
       "weekIdContinous        int64\n",
       "sales_lag2w          float64\n",
       "sales_lag4w          float64\n",
       "sales_lag8w          float64\n",
       "sales_lag1y          float64\n",
       "is_payday              int64\n",
       "sf_monthly_mean      float64\n",
       "sf_yearly_mean       float64\n",
       "s_sales_median       float64\n",
       "s_sales_mean         float64\n",
       "s_sales_max          float64\n",
       "s_sales_std          float64\n",
       "city                   int64\n",
       "state                  int64\n",
       "type                   int64\n",
       "cluster                int64\n",
       "transactions_mean    float64\n",
       "transactions_std     float64\n",
       "st_ratio             float64\n",
       "c_sales_median       float64\n",
       "c_sales_mean         float64\n",
       "c_sales_max          float64\n",
       "c_sales_std          float64\n",
       "is_onpromotion         int64\n",
       "op_sales_median      float64\n",
       "op_sales_mean        float64\n",
       "op_sales_min         float64\n",
       "op_sales_max         float64\n",
       "dcoilwtico           float64\n",
       "is_national_hol        int64\n",
       "is_local_hol           int64\n",
       "is_holiday             int64\n",
       "dtype: object"
      ]
     },
     "execution_count": 8,
     "metadata": {},
     "output_type": "execute_result"
    }
   ],
   "source": [
    "# convert text columns to numbers, lightGBM want numbers! \n",
    "label_encoder = LabelEncoder()\n",
    "\n",
    "train.city = label_encoder.fit_transform(train.city)\n",
    "train.state = label_encoder.fit_transform(train.state)\n",
    "train.cluster = label_encoder.fit_transform(train.cluster)\n",
    "train.type = label_encoder.fit_transform(train.type)\n",
    "train.family = label_encoder.fit_transform(train.family)\n",
    "train.is_national_hol = label_encoder.fit_transform(train.is_national_hol)\n",
    "train.is_local_hol = label_encoder.fit_transform(train.is_local_hol)\n",
    "train.is_holiday = label_encoder.fit_transform(train.is_holiday)\n",
    "train.is_weekend = label_encoder.fit_transform(train.is_weekend)\n",
    "train.dtypes"
   ]
  },
  {
   "cell_type": "markdown",
   "id": "7c644bd3",
   "metadata": {
    "papermill": {
     "duration": 0.017552,
     "end_time": "2023-11-21T13:25:32.301911",
     "exception": false,
     "start_time": "2023-11-21T13:25:32.284359",
     "status": "completed"
    },
    "tags": []
   },
   "source": [
    "# Reduce Data Size"
   ]
  },
  {
   "cell_type": "code",
   "execution_count": 9,
   "id": "d7f4fdf8",
   "metadata": {
    "execution": {
     "iopub.execute_input": "2023-11-21T13:25:32.405432Z",
     "iopub.status.busy": "2023-11-21T13:25:32.405027Z",
     "iopub.status.idle": "2023-11-21T13:25:32.487579Z",
     "shell.execute_reply": "2023-11-21T13:25:32.486160Z"
    },
    "papermill": {
     "duration": 0.104637,
     "end_time": "2023-11-21T13:25:32.490633",
     "exception": false,
     "start_time": "2023-11-21T13:25:32.385996",
     "status": "completed"
    },
    "tags": []
   },
   "outputs": [],
   "source": [
    "# convert whole numbers to smaller data type \n",
    "train.store_nbr = train.store_nbr.astype('int8')\n",
    "train.month = train.month.astype('int8')\n",
    "train.day = train.day.astype('int8')\n",
    "train.weekofyear = train.weekofyear.astype('int8')\n",
    "train.dayofyear = train.dayofyear.astype('int16')\n",
    "train.year = train.year.astype('int16')\n",
    "train.family = train.family.astype('int8')\n",
    "train.onpromotion = train.onpromotion.astype('int16')\n",
    "train.is_onpromotion = train.is_onpromotion.astype('int8')\n",
    "train.dayofweek = train.dayofweek.astype('int8')\n",
    "train.city = train.city.astype('int8')\n",
    "train.state = train.state.astype('int8')\n",
    "train.type = train.type.astype('int8')\n",
    "train.cluster = train.cluster.astype('int8')\n",
    "train.is_national_hol = train.is_national_hol.astype('int8')\n",
    "train.is_local_hol = train.is_local_hol.astype('int8')\n",
    "train.is_holiday = train.is_holiday.astype('int8')\n",
    "train.is_weekend = train.is_weekend.astype('int8')\n",
    "train.is_payday = train.is_payday.astype('int8')\n",
    "train.dcoilwtico = train.dcoilwtico.astype('float32')"
   ]
  },
  {
   "cell_type": "code",
   "execution_count": 10,
   "id": "122e643c",
   "metadata": {
    "execution": {
     "iopub.execute_input": "2023-11-21T13:25:32.530324Z",
     "iopub.status.busy": "2023-11-21T13:25:32.529657Z",
     "iopub.status.idle": "2023-11-21T13:25:32.539157Z",
     "shell.execute_reply": "2023-11-21T13:25:32.538039Z"
    },
    "papermill": {
     "duration": 0.031192,
     "end_time": "2023-11-21T13:25:32.541440",
     "exception": false,
     "start_time": "2023-11-21T13:25:32.510248",
     "status": "completed"
    },
    "tags": []
   },
   "outputs": [
    {
     "data": {
      "text/plain": [
       "id                     int64\n",
       "date                  object\n",
       "store_nbr               int8\n",
       "family                  int8\n",
       "sales                float64\n",
       "onpromotion            int16\n",
       "year                   int16\n",
       "month                   int8\n",
       "day                     int8\n",
       "dayofweek               int8\n",
       "dayofyear              int16\n",
       "weekofyear              int8\n",
       "is_weekend              int8\n",
       "weekIdContinous        int64\n",
       "sales_lag2w          float64\n",
       "sales_lag4w          float64\n",
       "sales_lag8w          float64\n",
       "sales_lag1y          float64\n",
       "is_payday               int8\n",
       "sf_monthly_mean      float64\n",
       "sf_yearly_mean       float64\n",
       "s_sales_median       float64\n",
       "s_sales_mean         float64\n",
       "s_sales_max          float64\n",
       "s_sales_std          float64\n",
       "city                    int8\n",
       "state                   int8\n",
       "type                    int8\n",
       "cluster                 int8\n",
       "transactions_mean    float64\n",
       "transactions_std     float64\n",
       "st_ratio             float64\n",
       "c_sales_median       float64\n",
       "c_sales_mean         float64\n",
       "c_sales_max          float64\n",
       "c_sales_std          float64\n",
       "is_onpromotion          int8\n",
       "op_sales_median      float64\n",
       "op_sales_mean        float64\n",
       "op_sales_min         float64\n",
       "op_sales_max         float64\n",
       "dcoilwtico           float32\n",
       "is_national_hol         int8\n",
       "is_local_hol            int8\n",
       "is_holiday              int8\n",
       "dtype: object"
      ]
     },
     "execution_count": 10,
     "metadata": {},
     "output_type": "execute_result"
    }
   ],
   "source": [
    "train.dtypes"
   ]
  },
  {
   "cell_type": "code",
   "execution_count": 11,
   "id": "e1aadcfb",
   "metadata": {
    "execution": {
     "iopub.execute_input": "2023-11-21T13:25:32.580616Z",
     "iopub.status.busy": "2023-11-21T13:25:32.579918Z",
     "iopub.status.idle": "2023-11-21T13:25:32.606556Z",
     "shell.execute_reply": "2023-11-21T13:25:32.605198Z"
    },
    "papermill": {
     "duration": 0.049772,
     "end_time": "2023-11-21T13:25:32.609336",
     "exception": false,
     "start_time": "2023-11-21T13:25:32.559564",
     "status": "completed"
    },
    "tags": []
   },
   "outputs": [
    {
     "data": {
      "text/html": [
       "<div>\n",
       "<style scoped>\n",
       "    .dataframe tbody tr th:only-of-type {\n",
       "        vertical-align: middle;\n",
       "    }\n",
       "\n",
       "    .dataframe tbody tr th {\n",
       "        vertical-align: top;\n",
       "    }\n",
       "\n",
       "    .dataframe thead th {\n",
       "        text-align: right;\n",
       "    }\n",
       "</style>\n",
       "<table border=\"1\" class=\"dataframe\">\n",
       "  <thead>\n",
       "    <tr style=\"text-align: right;\">\n",
       "      <th></th>\n",
       "      <th>id</th>\n",
       "      <th>date</th>\n",
       "      <th>store_nbr</th>\n",
       "      <th>family</th>\n",
       "      <th>sales</th>\n",
       "      <th>onpromotion</th>\n",
       "      <th>year</th>\n",
       "      <th>month</th>\n",
       "      <th>day</th>\n",
       "      <th>dayofweek</th>\n",
       "      <th>...</th>\n",
       "      <th>c_sales_std</th>\n",
       "      <th>is_onpromotion</th>\n",
       "      <th>op_sales_median</th>\n",
       "      <th>op_sales_mean</th>\n",
       "      <th>op_sales_min</th>\n",
       "      <th>op_sales_max</th>\n",
       "      <th>dcoilwtico</th>\n",
       "      <th>is_national_hol</th>\n",
       "      <th>is_local_hol</th>\n",
       "      <th>is_holiday</th>\n",
       "    </tr>\n",
       "  </thead>\n",
       "  <tbody>\n",
       "    <tr>\n",
       "      <th>0</th>\n",
       "      <td>648648</td>\n",
       "      <td>2014-01-01</td>\n",
       "      <td>1</td>\n",
       "      <td>0</td>\n",
       "      <td>0.0</td>\n",
       "      <td>0</td>\n",
       "      <td>2014</td>\n",
       "      <td>1</td>\n",
       "      <td>1</td>\n",
       "      <td>2</td>\n",
       "      <td>...</td>\n",
       "      <td>6.250549</td>\n",
       "      <td>0</td>\n",
       "      <td>3.0</td>\n",
       "      <td>3.542113</td>\n",
       "      <td>0.0</td>\n",
       "      <td>19.0</td>\n",
       "      <td>98.169998</td>\n",
       "      <td>1</td>\n",
       "      <td>0</td>\n",
       "      <td>1</td>\n",
       "    </tr>\n",
       "    <tr>\n",
       "      <th>1</th>\n",
       "      <td>648649</td>\n",
       "      <td>2014-01-01</td>\n",
       "      <td>1</td>\n",
       "      <td>1</td>\n",
       "      <td>0.0</td>\n",
       "      <td>0</td>\n",
       "      <td>2014</td>\n",
       "      <td>1</td>\n",
       "      <td>1</td>\n",
       "      <td>2</td>\n",
       "      <td>...</td>\n",
       "      <td>0.766963</td>\n",
       "      <td>0</td>\n",
       "      <td>0.0</td>\n",
       "      <td>0.000000</td>\n",
       "      <td>0.0</td>\n",
       "      <td>0.0</td>\n",
       "      <td>98.169998</td>\n",
       "      <td>1</td>\n",
       "      <td>0</td>\n",
       "      <td>1</td>\n",
       "    </tr>\n",
       "    <tr>\n",
       "      <th>2</th>\n",
       "      <td>648650</td>\n",
       "      <td>2014-01-01</td>\n",
       "      <td>1</td>\n",
       "      <td>2</td>\n",
       "      <td>0.0</td>\n",
       "      <td>0</td>\n",
       "      <td>2014</td>\n",
       "      <td>1</td>\n",
       "      <td>1</td>\n",
       "      <td>2</td>\n",
       "      <td>...</td>\n",
       "      <td>5.110346</td>\n",
       "      <td>0</td>\n",
       "      <td>2.0</td>\n",
       "      <td>2.263397</td>\n",
       "      <td>0.0</td>\n",
       "      <td>11.0</td>\n",
       "      <td>98.169998</td>\n",
       "      <td>1</td>\n",
       "      <td>0</td>\n",
       "      <td>1</td>\n",
       "    </tr>\n",
       "    <tr>\n",
       "      <th>3</th>\n",
       "      <td>648651</td>\n",
       "      <td>2014-01-01</td>\n",
       "      <td>1</td>\n",
       "      <td>3</td>\n",
       "      <td>0.0</td>\n",
       "      <td>0</td>\n",
       "      <td>2014</td>\n",
       "      <td>1</td>\n",
       "      <td>1</td>\n",
       "      <td>2</td>\n",
       "      <td>...</td>\n",
       "      <td>2431.441640</td>\n",
       "      <td>0</td>\n",
       "      <td>1093.0</td>\n",
       "      <td>1266.943522</td>\n",
       "      <td>0.0</td>\n",
       "      <td>3366.0</td>\n",
       "      <td>98.169998</td>\n",
       "      <td>1</td>\n",
       "      <td>0</td>\n",
       "      <td>1</td>\n",
       "    </tr>\n",
       "    <tr>\n",
       "      <th>4</th>\n",
       "      <td>648652</td>\n",
       "      <td>2014-01-01</td>\n",
       "      <td>1</td>\n",
       "      <td>4</td>\n",
       "      <td>0.0</td>\n",
       "      <td>0</td>\n",
       "      <td>2014</td>\n",
       "      <td>1</td>\n",
       "      <td>1</td>\n",
       "      <td>2</td>\n",
       "      <td>...</td>\n",
       "      <td>0.618165</td>\n",
       "      <td>0</td>\n",
       "      <td>0.0</td>\n",
       "      <td>0.159848</td>\n",
       "      <td>0.0</td>\n",
       "      <td>8.0</td>\n",
       "      <td>98.169998</td>\n",
       "      <td>1</td>\n",
       "      <td>0</td>\n",
       "      <td>1</td>\n",
       "    </tr>\n",
       "  </tbody>\n",
       "</table>\n",
       "<p>5 rows × 45 columns</p>\n",
       "</div>"
      ],
      "text/plain": [
       "       id        date  store_nbr  family  sales  onpromotion  year  month  \\\n",
       "0  648648  2014-01-01          1       0    0.0            0  2014      1   \n",
       "1  648649  2014-01-01          1       1    0.0            0  2014      1   \n",
       "2  648650  2014-01-01          1       2    0.0            0  2014      1   \n",
       "3  648651  2014-01-01          1       3    0.0            0  2014      1   \n",
       "4  648652  2014-01-01          1       4    0.0            0  2014      1   \n",
       "\n",
       "   day  dayofweek  ...  c_sales_std  is_onpromotion  op_sales_median  \\\n",
       "0    1          2  ...     6.250549               0              3.0   \n",
       "1    1          2  ...     0.766963               0              0.0   \n",
       "2    1          2  ...     5.110346               0              2.0   \n",
       "3    1          2  ...  2431.441640               0           1093.0   \n",
       "4    1          2  ...     0.618165               0              0.0   \n",
       "\n",
       "   op_sales_mean  op_sales_min  op_sales_max  dcoilwtico  is_national_hol  \\\n",
       "0       3.542113           0.0          19.0   98.169998                1   \n",
       "1       0.000000           0.0           0.0   98.169998                1   \n",
       "2       2.263397           0.0          11.0   98.169998                1   \n",
       "3    1266.943522           0.0        3366.0   98.169998                1   \n",
       "4       0.159848           0.0           8.0   98.169998                1   \n",
       "\n",
       "   is_local_hol  is_holiday  \n",
       "0             0           1  \n",
       "1             0           1  \n",
       "2             0           1  \n",
       "3             0           1  \n",
       "4             0           1  \n",
       "\n",
       "[5 rows x 45 columns]"
      ]
     },
     "execution_count": 11,
     "metadata": {},
     "output_type": "execute_result"
    }
   ],
   "source": [
    "train.head()"
   ]
  },
  {
   "cell_type": "code",
   "execution_count": 12,
   "id": "271d0a74",
   "metadata": {
    "execution": {
     "iopub.execute_input": "2023-11-21T13:25:32.648032Z",
     "iopub.status.busy": "2023-11-21T13:25:32.646645Z",
     "iopub.status.idle": "2023-11-21T13:25:32.668370Z",
     "shell.execute_reply": "2023-11-21T13:25:32.667061Z"
    },
    "papermill": {
     "duration": 0.044248,
     "end_time": "2023-11-21T13:25:32.671641",
     "exception": false,
     "start_time": "2023-11-21T13:25:32.627393",
     "status": "completed"
    },
    "tags": []
   },
   "outputs": [
    {
     "data": {
      "text/plain": [
       "(28512, 45)"
      ]
     },
     "execution_count": 12,
     "metadata": {},
     "output_type": "execute_result"
    }
   ],
   "source": [
    "# split train and test again\n",
    "test = train.loc[train.id >= 3000888]\n",
    "test.shape"
   ]
  },
  {
   "cell_type": "code",
   "execution_count": 13,
   "id": "9a172688",
   "metadata": {
    "execution": {
     "iopub.execute_input": "2023-11-21T13:25:32.710436Z",
     "iopub.status.busy": "2023-11-21T13:25:32.709797Z",
     "iopub.status.idle": "2023-11-21T13:25:33.248596Z",
     "shell.execute_reply": "2023-11-21T13:25:33.247704Z"
    },
    "papermill": {
     "duration": 0.561298,
     "end_time": "2023-11-21T13:25:33.251259",
     "exception": false,
     "start_time": "2023-11-21T13:25:32.689961",
     "status": "completed"
    },
    "tags": []
   },
   "outputs": [
    {
     "data": {
      "text/plain": [
       "(2361414, 45)"
      ]
     },
     "execution_count": 13,
     "metadata": {},
     "output_type": "execute_result"
    }
   ],
   "source": [
    "train = train.loc[train.id < 3000888]\n",
    "train.shape"
   ]
  },
  {
   "cell_type": "markdown",
   "id": "6fff560a",
   "metadata": {
    "papermill": {
     "duration": 0.018361,
     "end_time": "2023-11-21T13:25:33.288113",
     "exception": false,
     "start_time": "2023-11-21T13:25:33.269752",
     "status": "completed"
    },
    "tags": []
   },
   "source": [
    "# Modelling"
   ]
  },
  {
   "cell_type": "code",
   "execution_count": 14,
   "id": "026b79b0",
   "metadata": {
    "execution": {
     "iopub.execute_input": "2023-11-21T13:25:33.328429Z",
     "iopub.status.busy": "2023-11-21T13:25:33.327321Z",
     "iopub.status.idle": "2023-11-21T13:25:33.332790Z",
     "shell.execute_reply": "2023-11-21T13:25:33.331788Z"
    },
    "papermill": {
     "duration": 0.028264,
     "end_time": "2023-11-21T13:25:33.335303",
     "exception": false,
     "start_time": "2023-11-21T13:25:33.307039",
     "status": "completed"
    },
    "tags": []
   },
   "outputs": [],
   "source": [
    "columns_to_drop = ['sales','id','date','is_national_hol','is_local_hol']"
   ]
  },
  {
   "cell_type": "code",
   "execution_count": 15,
   "id": "c055955d",
   "metadata": {
    "execution": {
     "iopub.execute_input": "2023-11-21T13:25:33.375441Z",
     "iopub.status.busy": "2023-11-21T13:25:33.375004Z",
     "iopub.status.idle": "2023-11-21T13:25:34.955435Z",
     "shell.execute_reply": "2023-11-21T13:25:34.954188Z"
    },
    "papermill": {
     "duration": 1.604505,
     "end_time": "2023-11-21T13:25:34.958267",
     "exception": false,
     "start_time": "2023-11-21T13:25:33.353762",
     "status": "completed"
    },
    "tags": []
   },
   "outputs": [],
   "source": [
    "# create validation set based on time, I use 2 weeks because the test set is 2 weeks\n",
    "#train.date.max()\n",
    "X_train = train.loc[train.date < '2017-08-01']\n",
    "X_train.tail()\n",
    "y_train = X_train.sales\n",
    "X_train = X_train.drop(columns_to_drop, axis = 1)\n",
    "X_val = train.loc[train.date >= '2017-08-01']\n",
    "y_val = X_val.sales\n",
    "X_val = X_val.drop(columns_to_drop, axis = 1)"
   ]
  },
  {
   "cell_type": "code",
   "execution_count": 16,
   "id": "05c6238a",
   "metadata": {
    "execution": {
     "iopub.execute_input": "2023-11-21T13:25:34.997106Z",
     "iopub.status.busy": "2023-11-21T13:25:34.996704Z",
     "iopub.status.idle": "2023-11-21T13:25:35.025334Z",
     "shell.execute_reply": "2023-11-21T13:25:35.024046Z"
    },
    "papermill": {
     "duration": 0.050837,
     "end_time": "2023-11-21T13:25:35.027661",
     "exception": false,
     "start_time": "2023-11-21T13:25:34.976824",
     "status": "completed"
    },
    "tags": []
   },
   "outputs": [
    {
     "data": {
      "text/html": [
       "<div>\n",
       "<style scoped>\n",
       "    .dataframe tbody tr th:only-of-type {\n",
       "        vertical-align: middle;\n",
       "    }\n",
       "\n",
       "    .dataframe tbody tr th {\n",
       "        vertical-align: top;\n",
       "    }\n",
       "\n",
       "    .dataframe thead th {\n",
       "        text-align: right;\n",
       "    }\n",
       "</style>\n",
       "<table border=\"1\" class=\"dataframe\">\n",
       "  <thead>\n",
       "    <tr style=\"text-align: right;\">\n",
       "      <th></th>\n",
       "      <th>store_nbr</th>\n",
       "      <th>family</th>\n",
       "      <th>onpromotion</th>\n",
       "      <th>year</th>\n",
       "      <th>month</th>\n",
       "      <th>day</th>\n",
       "      <th>dayofweek</th>\n",
       "      <th>dayofyear</th>\n",
       "      <th>weekofyear</th>\n",
       "      <th>is_weekend</th>\n",
       "      <th>...</th>\n",
       "      <th>c_sales_mean</th>\n",
       "      <th>c_sales_max</th>\n",
       "      <th>c_sales_std</th>\n",
       "      <th>is_onpromotion</th>\n",
       "      <th>op_sales_median</th>\n",
       "      <th>op_sales_mean</th>\n",
       "      <th>op_sales_min</th>\n",
       "      <th>op_sales_max</th>\n",
       "      <th>dcoilwtico</th>\n",
       "      <th>is_holiday</th>\n",
       "    </tr>\n",
       "  </thead>\n",
       "  <tbody>\n",
       "    <tr>\n",
       "      <th>2334684</th>\n",
       "      <td>1</td>\n",
       "      <td>0</td>\n",
       "      <td>0</td>\n",
       "      <td>2017</td>\n",
       "      <td>8</td>\n",
       "      <td>1</td>\n",
       "      <td>1</td>\n",
       "      <td>213</td>\n",
       "      <td>31</td>\n",
       "      <td>0</td>\n",
       "      <td>...</td>\n",
       "      <td>6.491400</td>\n",
       "      <td>255.0</td>\n",
       "      <td>6.250549</td>\n",
       "      <td>0</td>\n",
       "      <td>3.0</td>\n",
       "      <td>3.542113</td>\n",
       "      <td>0.0</td>\n",
       "      <td>19.0</td>\n",
       "      <td>49.189999</td>\n",
       "      <td>0</td>\n",
       "    </tr>\n",
       "    <tr>\n",
       "      <th>2334685</th>\n",
       "      <td>1</td>\n",
       "      <td>1</td>\n",
       "      <td>0</td>\n",
       "      <td>2017</td>\n",
       "      <td>8</td>\n",
       "      <td>1</td>\n",
       "      <td>1</td>\n",
       "      <td>213</td>\n",
       "      <td>31</td>\n",
       "      <td>0</td>\n",
       "      <td>...</td>\n",
       "      <td>0.141260</td>\n",
       "      <td>116.0</td>\n",
       "      <td>0.766963</td>\n",
       "      <td>0</td>\n",
       "      <td>0.0</td>\n",
       "      <td>0.000000</td>\n",
       "      <td>0.0</td>\n",
       "      <td>0.0</td>\n",
       "      <td>49.189999</td>\n",
       "      <td>0</td>\n",
       "    </tr>\n",
       "    <tr>\n",
       "      <th>2334686</th>\n",
       "      <td>1</td>\n",
       "      <td>2</td>\n",
       "      <td>0</td>\n",
       "      <td>2017</td>\n",
       "      <td>8</td>\n",
       "      <td>1</td>\n",
       "      <td>1</td>\n",
       "      <td>213</td>\n",
       "      <td>31</td>\n",
       "      <td>0</td>\n",
       "      <td>...</td>\n",
       "      <td>4.076740</td>\n",
       "      <td>136.0</td>\n",
       "      <td>5.110346</td>\n",
       "      <td>0</td>\n",
       "      <td>2.0</td>\n",
       "      <td>2.263397</td>\n",
       "      <td>0.0</td>\n",
       "      <td>11.0</td>\n",
       "      <td>49.189999</td>\n",
       "      <td>0</td>\n",
       "    </tr>\n",
       "    <tr>\n",
       "      <th>2334687</th>\n",
       "      <td>1</td>\n",
       "      <td>3</td>\n",
       "      <td>26</td>\n",
       "      <td>2017</td>\n",
       "      <td>8</td>\n",
       "      <td>1</td>\n",
       "      <td>1</td>\n",
       "      <td>213</td>\n",
       "      <td>31</td>\n",
       "      <td>0</td>\n",
       "      <td>...</td>\n",
       "      <td>2738.754588</td>\n",
       "      <td>25413.0</td>\n",
       "      <td>2431.441640</td>\n",
       "      <td>1</td>\n",
       "      <td>2097.0</td>\n",
       "      <td>1942.677134</td>\n",
       "      <td>325.0</td>\n",
       "      <td>5051.0</td>\n",
       "      <td>49.189999</td>\n",
       "      <td>0</td>\n",
       "    </tr>\n",
       "    <tr>\n",
       "      <th>2334688</th>\n",
       "      <td>1</td>\n",
       "      <td>4</td>\n",
       "      <td>0</td>\n",
       "      <td>2017</td>\n",
       "      <td>8</td>\n",
       "      <td>1</td>\n",
       "      <td>1</td>\n",
       "      <td>213</td>\n",
       "      <td>31</td>\n",
       "      <td>0</td>\n",
       "      <td>...</td>\n",
       "      <td>0.090614</td>\n",
       "      <td>51.0</td>\n",
       "      <td>0.618165</td>\n",
       "      <td>0</td>\n",
       "      <td>0.0</td>\n",
       "      <td>0.159848</td>\n",
       "      <td>0.0</td>\n",
       "      <td>8.0</td>\n",
       "      <td>49.189999</td>\n",
       "      <td>0</td>\n",
       "    </tr>\n",
       "  </tbody>\n",
       "</table>\n",
       "<p>5 rows × 40 columns</p>\n",
       "</div>"
      ],
      "text/plain": [
       "         store_nbr  family  onpromotion  year  month  day  dayofweek  \\\n",
       "2334684          1       0            0  2017      8    1          1   \n",
       "2334685          1       1            0  2017      8    1          1   \n",
       "2334686          1       2            0  2017      8    1          1   \n",
       "2334687          1       3           26  2017      8    1          1   \n",
       "2334688          1       4            0  2017      8    1          1   \n",
       "\n",
       "         dayofyear  weekofyear  is_weekend  ...  c_sales_mean  c_sales_max  \\\n",
       "2334684        213          31           0  ...      6.491400        255.0   \n",
       "2334685        213          31           0  ...      0.141260        116.0   \n",
       "2334686        213          31           0  ...      4.076740        136.0   \n",
       "2334687        213          31           0  ...   2738.754588      25413.0   \n",
       "2334688        213          31           0  ...      0.090614         51.0   \n",
       "\n",
       "         c_sales_std  is_onpromotion  op_sales_median  op_sales_mean  \\\n",
       "2334684     6.250549               0              3.0       3.542113   \n",
       "2334685     0.766963               0              0.0       0.000000   \n",
       "2334686     5.110346               0              2.0       2.263397   \n",
       "2334687  2431.441640               1           2097.0    1942.677134   \n",
       "2334688     0.618165               0              0.0       0.159848   \n",
       "\n",
       "         op_sales_min  op_sales_max  dcoilwtico  is_holiday  \n",
       "2334684           0.0          19.0   49.189999           0  \n",
       "2334685           0.0           0.0   49.189999           0  \n",
       "2334686           0.0          11.0   49.189999           0  \n",
       "2334687         325.0        5051.0   49.189999           0  \n",
       "2334688           0.0           8.0   49.189999           0  \n",
       "\n",
       "[5 rows x 40 columns]"
      ]
     },
     "execution_count": 16,
     "metadata": {},
     "output_type": "execute_result"
    }
   ],
   "source": [
    "X_val.head()"
   ]
  },
  {
   "cell_type": "code",
   "execution_count": 17,
   "id": "fa21e8e6",
   "metadata": {
    "execution": {
     "iopub.execute_input": "2023-11-21T13:25:35.069206Z",
     "iopub.status.busy": "2023-11-21T13:25:35.068797Z",
     "iopub.status.idle": "2023-11-21T13:25:35.097133Z",
     "shell.execute_reply": "2023-11-21T13:25:35.096042Z"
    },
    "papermill": {
     "duration": 0.051882,
     "end_time": "2023-11-21T13:25:35.099469",
     "exception": false,
     "start_time": "2023-11-21T13:25:35.047587",
     "status": "completed"
    },
    "tags": []
   },
   "outputs": [
    {
     "data": {
      "text/html": [
       "<div>\n",
       "<style scoped>\n",
       "    .dataframe tbody tr th:only-of-type {\n",
       "        vertical-align: middle;\n",
       "    }\n",
       "\n",
       "    .dataframe tbody tr th {\n",
       "        vertical-align: top;\n",
       "    }\n",
       "\n",
       "    .dataframe thead th {\n",
       "        text-align: right;\n",
       "    }\n",
       "</style>\n",
       "<table border=\"1\" class=\"dataframe\">\n",
       "  <thead>\n",
       "    <tr style=\"text-align: right;\">\n",
       "      <th></th>\n",
       "      <th>store_nbr</th>\n",
       "      <th>family</th>\n",
       "      <th>onpromotion</th>\n",
       "      <th>year</th>\n",
       "      <th>month</th>\n",
       "      <th>day</th>\n",
       "      <th>dayofweek</th>\n",
       "      <th>dayofyear</th>\n",
       "      <th>weekofyear</th>\n",
       "      <th>is_weekend</th>\n",
       "      <th>...</th>\n",
       "      <th>c_sales_mean</th>\n",
       "      <th>c_sales_max</th>\n",
       "      <th>c_sales_std</th>\n",
       "      <th>is_onpromotion</th>\n",
       "      <th>op_sales_median</th>\n",
       "      <th>op_sales_mean</th>\n",
       "      <th>op_sales_min</th>\n",
       "      <th>op_sales_max</th>\n",
       "      <th>dcoilwtico</th>\n",
       "      <th>is_holiday</th>\n",
       "    </tr>\n",
       "  </thead>\n",
       "  <tbody>\n",
       "    <tr>\n",
       "      <th>0</th>\n",
       "      <td>1</td>\n",
       "      <td>0</td>\n",
       "      <td>0</td>\n",
       "      <td>2014</td>\n",
       "      <td>1</td>\n",
       "      <td>1</td>\n",
       "      <td>2</td>\n",
       "      <td>1</td>\n",
       "      <td>1</td>\n",
       "      <td>0</td>\n",
       "      <td>...</td>\n",
       "      <td>6.491400</td>\n",
       "      <td>255.0</td>\n",
       "      <td>6.250549</td>\n",
       "      <td>0</td>\n",
       "      <td>3.0</td>\n",
       "      <td>3.542113</td>\n",
       "      <td>0.0</td>\n",
       "      <td>19.0</td>\n",
       "      <td>98.169998</td>\n",
       "      <td>1</td>\n",
       "    </tr>\n",
       "    <tr>\n",
       "      <th>1</th>\n",
       "      <td>1</td>\n",
       "      <td>1</td>\n",
       "      <td>0</td>\n",
       "      <td>2014</td>\n",
       "      <td>1</td>\n",
       "      <td>1</td>\n",
       "      <td>2</td>\n",
       "      <td>1</td>\n",
       "      <td>1</td>\n",
       "      <td>0</td>\n",
       "      <td>...</td>\n",
       "      <td>0.141260</td>\n",
       "      <td>116.0</td>\n",
       "      <td>0.766963</td>\n",
       "      <td>0</td>\n",
       "      <td>0.0</td>\n",
       "      <td>0.000000</td>\n",
       "      <td>0.0</td>\n",
       "      <td>0.0</td>\n",
       "      <td>98.169998</td>\n",
       "      <td>1</td>\n",
       "    </tr>\n",
       "    <tr>\n",
       "      <th>2</th>\n",
       "      <td>1</td>\n",
       "      <td>2</td>\n",
       "      <td>0</td>\n",
       "      <td>2014</td>\n",
       "      <td>1</td>\n",
       "      <td>1</td>\n",
       "      <td>2</td>\n",
       "      <td>1</td>\n",
       "      <td>1</td>\n",
       "      <td>0</td>\n",
       "      <td>...</td>\n",
       "      <td>4.076740</td>\n",
       "      <td>136.0</td>\n",
       "      <td>5.110346</td>\n",
       "      <td>0</td>\n",
       "      <td>2.0</td>\n",
       "      <td>2.263397</td>\n",
       "      <td>0.0</td>\n",
       "      <td>11.0</td>\n",
       "      <td>98.169998</td>\n",
       "      <td>1</td>\n",
       "    </tr>\n",
       "    <tr>\n",
       "      <th>3</th>\n",
       "      <td>1</td>\n",
       "      <td>3</td>\n",
       "      <td>0</td>\n",
       "      <td>2014</td>\n",
       "      <td>1</td>\n",
       "      <td>1</td>\n",
       "      <td>2</td>\n",
       "      <td>1</td>\n",
       "      <td>1</td>\n",
       "      <td>0</td>\n",
       "      <td>...</td>\n",
       "      <td>2738.754588</td>\n",
       "      <td>25413.0</td>\n",
       "      <td>2431.441640</td>\n",
       "      <td>0</td>\n",
       "      <td>1093.0</td>\n",
       "      <td>1266.943522</td>\n",
       "      <td>0.0</td>\n",
       "      <td>3366.0</td>\n",
       "      <td>98.169998</td>\n",
       "      <td>1</td>\n",
       "    </tr>\n",
       "    <tr>\n",
       "      <th>4</th>\n",
       "      <td>1</td>\n",
       "      <td>4</td>\n",
       "      <td>0</td>\n",
       "      <td>2014</td>\n",
       "      <td>1</td>\n",
       "      <td>1</td>\n",
       "      <td>2</td>\n",
       "      <td>1</td>\n",
       "      <td>1</td>\n",
       "      <td>0</td>\n",
       "      <td>...</td>\n",
       "      <td>0.090614</td>\n",
       "      <td>51.0</td>\n",
       "      <td>0.618165</td>\n",
       "      <td>0</td>\n",
       "      <td>0.0</td>\n",
       "      <td>0.159848</td>\n",
       "      <td>0.0</td>\n",
       "      <td>8.0</td>\n",
       "      <td>98.169998</td>\n",
       "      <td>1</td>\n",
       "    </tr>\n",
       "  </tbody>\n",
       "</table>\n",
       "<p>5 rows × 40 columns</p>\n",
       "</div>"
      ],
      "text/plain": [
       "   store_nbr  family  onpromotion  year  month  day  dayofweek  dayofyear  \\\n",
       "0          1       0            0  2014      1    1          2          1   \n",
       "1          1       1            0  2014      1    1          2          1   \n",
       "2          1       2            0  2014      1    1          2          1   \n",
       "3          1       3            0  2014      1    1          2          1   \n",
       "4          1       4            0  2014      1    1          2          1   \n",
       "\n",
       "   weekofyear  is_weekend  ...  c_sales_mean  c_sales_max  c_sales_std  \\\n",
       "0           1           0  ...      6.491400        255.0     6.250549   \n",
       "1           1           0  ...      0.141260        116.0     0.766963   \n",
       "2           1           0  ...      4.076740        136.0     5.110346   \n",
       "3           1           0  ...   2738.754588      25413.0  2431.441640   \n",
       "4           1           0  ...      0.090614         51.0     0.618165   \n",
       "\n",
       "   is_onpromotion  op_sales_median  op_sales_mean  op_sales_min  op_sales_max  \\\n",
       "0               0              3.0       3.542113           0.0          19.0   \n",
       "1               0              0.0       0.000000           0.0           0.0   \n",
       "2               0              2.0       2.263397           0.0          11.0   \n",
       "3               0           1093.0    1266.943522           0.0        3366.0   \n",
       "4               0              0.0       0.159848           0.0           8.0   \n",
       "\n",
       "   dcoilwtico  is_holiday  \n",
       "0   98.169998           1  \n",
       "1   98.169998           1  \n",
       "2   98.169998           1  \n",
       "3   98.169998           1  \n",
       "4   98.169998           1  \n",
       "\n",
       "[5 rows x 40 columns]"
      ]
     },
     "execution_count": 17,
     "metadata": {},
     "output_type": "execute_result"
    }
   ],
   "source": [
    "X_train.head()"
   ]
  },
  {
   "cell_type": "markdown",
   "id": "b88c3396",
   "metadata": {
    "papermill": {
     "duration": 0.019275,
     "end_time": "2023-11-21T13:25:35.137957",
     "exception": false,
     "start_time": "2023-11-21T13:25:35.118682",
     "status": "completed"
    },
    "tags": []
   },
   "source": [
    "# Model - 2. lgbm with rsmle \n",
    "in previous versions of this notebook I tried LGBM with RSME as error metric, because it does not support RSMLE per se.\n",
    "2 different approaches to use RMSLE nevertheless.\n",
    "\n",
    "1. write custom eval function\n",
    "\n",
    "thanks to: https://stackoverflow.com/questions/61630331/early-stopping-for-lightgbm-not-working-when-rmsle-is-the-eval-metric (could not get this working)\n",
    "\n",
    "2. log-transform the target, use RSME and transform the predictions back\n",
    "\n",
    "thanks to: https://github.com/microsoft/LightGBM/issues/4886"
   ]
  },
  {
   "cell_type": "code",
   "execution_count": 18,
   "id": "7d680db2",
   "metadata": {
    "execution": {
     "iopub.execute_input": "2023-11-21T13:25:35.180565Z",
     "iopub.status.busy": "2023-11-21T13:25:35.179430Z",
     "iopub.status.idle": "2023-11-21T13:25:35.197418Z",
     "shell.execute_reply": "2023-11-21T13:25:35.195969Z"
    },
    "papermill": {
     "duration": 0.042324,
     "end_time": "2023-11-21T13:25:35.200247",
     "exception": false,
     "start_time": "2023-11-21T13:25:35.157923",
     "status": "completed"
    },
    "tags": []
   },
   "outputs": [
    {
     "data": {
      "text/html": [
       "<div>\n",
       "<style scoped>\n",
       "    .dataframe tbody tr th:only-of-type {\n",
       "        vertical-align: middle;\n",
       "    }\n",
       "\n",
       "    .dataframe tbody tr th {\n",
       "        vertical-align: top;\n",
       "    }\n",
       "\n",
       "    .dataframe thead th {\n",
       "        text-align: right;\n",
       "    }\n",
       "</style>\n",
       "<table border=\"1\" class=\"dataframe\">\n",
       "  <thead>\n",
       "    <tr style=\"text-align: right;\">\n",
       "      <th></th>\n",
       "      <th>yhat</th>\n",
       "      <th>y</th>\n",
       "      <th>lny</th>\n",
       "      <th>transformback</th>\n",
       "    </tr>\n",
       "  </thead>\n",
       "  <tbody>\n",
       "    <tr>\n",
       "      <th>0</th>\n",
       "      <td>5000</td>\n",
       "      <td>10000</td>\n",
       "      <td>9.210440</td>\n",
       "      <td>10000.0</td>\n",
       "    </tr>\n",
       "    <tr>\n",
       "      <th>1</th>\n",
       "      <td>2500</td>\n",
       "      <td>5000</td>\n",
       "      <td>8.517393</td>\n",
       "      <td>5000.0</td>\n",
       "    </tr>\n",
       "    <tr>\n",
       "      <th>2</th>\n",
       "      <td>500</td>\n",
       "      <td>1000</td>\n",
       "      <td>6.908755</td>\n",
       "      <td>1000.0</td>\n",
       "    </tr>\n",
       "  </tbody>\n",
       "</table>\n",
       "</div>"
      ],
      "text/plain": [
       "   yhat      y       lny  transformback\n",
       "0  5000  10000  9.210440        10000.0\n",
       "1  2500   5000  8.517393         5000.0\n",
       "2   500   1000  6.908755         1000.0"
      ]
     },
     "execution_count": 18,
     "metadata": {},
     "output_type": "execute_result"
    }
   ],
   "source": [
    "# like this\n",
    "df=pd.DataFrame({'yhat': [5000,2500,500], 'y': [10000,5000,1000]})\n",
    "df['lny'] = np.log1p(df.y)\n",
    "df['transformback'] = np.expm1(df.lny)\n",
    "df"
   ]
  },
  {
   "cell_type": "code",
   "execution_count": 19,
   "id": "86955c47",
   "metadata": {
    "execution": {
     "iopub.execute_input": "2023-11-21T13:25:35.241340Z",
     "iopub.status.busy": "2023-11-21T13:25:35.240957Z",
     "iopub.status.idle": "2023-11-21T13:25:35.246322Z",
     "shell.execute_reply": "2023-11-21T13:25:35.245173Z"
    },
    "papermill": {
     "duration": 0.028572,
     "end_time": "2023-11-21T13:25:35.248586",
     "exception": false,
     "start_time": "2023-11-21T13:25:35.220014",
     "status": "completed"
    },
    "tags": []
   },
   "outputs": [],
   "source": [
    "categorical_columns = ['store_nbr', 'cluster' , 'type', 'city', 'state' , 'family']"
   ]
  },
  {
   "cell_type": "code",
   "execution_count": 20,
   "id": "eca627a2",
   "metadata": {
    "execution": {
     "iopub.execute_input": "2023-11-21T13:25:35.290173Z",
     "iopub.status.busy": "2023-11-21T13:25:35.289781Z",
     "iopub.status.idle": "2023-11-21T13:25:35.335933Z",
     "shell.execute_reply": "2023-11-21T13:25:35.334824Z"
    },
    "papermill": {
     "duration": 0.069817,
     "end_time": "2023-11-21T13:25:35.338617",
     "exception": false,
     "start_time": "2023-11-21T13:25:35.268800",
     "status": "completed"
    },
    "tags": []
   },
   "outputs": [],
   "source": [
    "# create lgbm datasets\n",
    "dtrain = lgb.Dataset(X_train, label=np.log1p(y_train), categorical_feature = categorical_columns)\n",
    "dval = lgb.Dataset(X_val, label=np.log1p(y_val), categorical_feature = categorical_columns)"
   ]
  },
  {
   "cell_type": "code",
   "execution_count": 21,
   "id": "7c011208",
   "metadata": {
    "execution": {
     "iopub.execute_input": "2023-11-21T13:25:35.380381Z",
     "iopub.status.busy": "2023-11-21T13:25:35.379961Z",
     "iopub.status.idle": "2023-11-21T13:25:35.385974Z",
     "shell.execute_reply": "2023-11-21T13:25:35.384681Z"
    },
    "papermill": {
     "duration": 0.03004,
     "end_time": "2023-11-21T13:25:35.388498",
     "exception": false,
     "start_time": "2023-11-21T13:25:35.358458",
     "status": "completed"
    },
    "tags": []
   },
   "outputs": [],
   "source": [
    "# light gbm parameters\n",
    "lgb_params = {'objective': 'regression',\n",
    "    'metric': 'RMSE',\n",
    "    'boosting_type': 'gbdt',\n",
    "    'num_iterations': 1000,\n",
    "    'learning_rate': 0.09705467290117309, \n",
    "    'num_leaves': 899, \n",
    "    'subsample': 0.14538536276241876, \n",
    "    'colsample_bytree': 0.99582859725253, \n",
    "    'min_data_in_leaf': 10\n",
    "             }"
   ]
  },
  {
   "cell_type": "code",
   "execution_count": 22,
   "id": "8043f331",
   "metadata": {
    "execution": {
     "iopub.execute_input": "2023-11-21T13:25:35.429888Z",
     "iopub.status.busy": "2023-11-21T13:25:35.429447Z",
     "iopub.status.idle": "2023-11-21T13:29:36.256857Z",
     "shell.execute_reply": "2023-11-21T13:29:36.255298Z"
    },
    "papermill": {
     "duration": 240.85167,
     "end_time": "2023-11-21T13:29:36.259985",
     "exception": false,
     "start_time": "2023-11-21T13:25:35.408315",
     "status": "completed"
    },
    "tags": []
   },
   "outputs": [
    {
     "name": "stderr",
     "output_type": "stream",
     "text": [
      "/opt/conda/lib/python3.10/site-packages/lightgbm/engine.py:177: UserWarning: Found `num_iterations` in params. Will use it instead of argument\n",
      "  _log_warning(f\"Found `{alias}` in params. Will use it instead of argument\")\n",
      "/opt/conda/lib/python3.10/site-packages/lightgbm/basic.py:2065: UserWarning: Using categorical_feature in Dataset.\n",
      "  _log_warning('Using categorical_feature in Dataset.')\n"
     ]
    },
    {
     "name": "stdout",
     "output_type": "stream",
     "text": [
      "[LightGBM] [Warning] Auto-choosing col-wise multi-threading, the overhead of testing was 0.987126 seconds.\n",
      "You can set `force_col_wise=true` to remove the overhead.\n",
      "[LightGBM] [Info] Total Bins 4121\n",
      "[LightGBM] [Info] Number of data points in the train set: 2334684, number of used features: 40\n",
      "[LightGBM] [Info] Start training from score 3.134631\n"
     ]
    },
    {
     "name": "stderr",
     "output_type": "stream",
     "text": [
      "/opt/conda/lib/python3.10/site-packages/lightgbm/basic.py:1780: UserWarning: Overriding the parameters from Reference Dataset.\n",
      "  _log_warning('Overriding the parameters from Reference Dataset.')\n",
      "/opt/conda/lib/python3.10/site-packages/lightgbm/basic.py:1513: UserWarning: categorical_column in param dict is overridden.\n",
      "  _log_warning(f'{cat_alias} in param dict is overridden.')\n"
     ]
    },
    {
     "name": "stdout",
     "output_type": "stream",
     "text": [
      "Training until validation scores don't improve for 100 rounds\n",
      "[100]\ttrain's rmse: 0.330688\tval's rmse: 0.375533\n",
      "[200]\ttrain's rmse: 0.312491\tval's rmse: 0.374162\n",
      "[300]\ttrain's rmse: 0.299203\tval's rmse: 0.374244\n",
      "Early stopping, best iteration is:\n",
      "[236]\ttrain's rmse: 0.307294\tval's rmse: 0.373884\n",
      "\n",
      "Training time: 240.82s\n"
     ]
    }
   ],
   "source": [
    "ts = time.time()\n",
    "\n",
    "metric_over_time = {} # dict for logging the evaluation metrics\n",
    "\n",
    "model = lgb.train(        \n",
    "        lgb_params, \n",
    "        dtrain, \n",
    "        valid_sets=[dtrain, dval],\n",
    "        valid_names=['train','val'],\n",
    "        callbacks=[early_stopping(100), log_evaluation(100), record_evaluation(metric_over_time)]\n",
    "    )\n",
    "\n",
    "\n",
    "execution_time = time.time() - ts\n",
    "print(\"\\nTraining time: \" + str(round(execution_time,3)) + \"s\")"
   ]
  },
  {
   "cell_type": "code",
   "execution_count": 23,
   "id": "7692bf4a",
   "metadata": {
    "execution": {
     "iopub.execute_input": "2023-11-21T13:29:36.303144Z",
     "iopub.status.busy": "2023-11-21T13:29:36.302698Z",
     "iopub.status.idle": "2023-11-21T13:29:36.688562Z",
     "shell.execute_reply": "2023-11-21T13:29:36.687026Z"
    },
    "papermill": {
     "duration": 0.411095,
     "end_time": "2023-11-21T13:29:36.691987",
     "exception": false,
     "start_time": "2023-11-21T13:29:36.280892",
     "status": "completed"
    },
    "tags": []
   },
   "outputs": [
    {
     "data": {
      "image/png": "[encoded data removed]",
      "text/plain": [
       "<Figure size 1000x500 with 1 Axes>"
      ]
     },
     "metadata": {},
     "output_type": "display_data"
    }
   ],
   "source": [
    "lgb.plot_metric(metric_over_time, figsize=(10,5))\n",
    "plt.show()"
   ]
  },
  {
   "cell_type": "code",
   "execution_count": 24,
   "id": "a00e24a0",
   "metadata": {
    "execution": {
     "iopub.execute_input": "2023-11-21T13:29:36.736841Z",
     "iopub.status.busy": "2023-11-21T13:29:36.736425Z",
     "iopub.status.idle": "2023-11-21T13:29:37.656219Z",
     "shell.execute_reply": "2023-11-21T13:29:37.654903Z"
    },
    "papermill": {
     "duration": 0.944716,
     "end_time": "2023-11-21T13:29:37.658998",
     "exception": false,
     "start_time": "2023-11-21T13:29:36.714282",
     "status": "completed"
    },
    "tags": []
   },
   "outputs": [
    {
     "data": {
      "image/png": "[encoded data removed]",
      "text/plain": [
       "<Figure size 1000x1000 with 1 Axes>"
      ]
     },
     "metadata": {},
     "output_type": "display_data"
    }
   ],
   "source": [
    "lgb.plot_importance(model, figsize=(10,10))\n",
    "plt.show()"
   ]
  },
  {
   "cell_type": "code",
   "execution_count": 25,
   "id": "e29d363c",
   "metadata": {
    "execution": {
     "iopub.execute_input": "2023-11-21T13:29:37.708825Z",
     "iopub.status.busy": "2023-11-21T13:29:37.707947Z",
     "iopub.status.idle": "2023-11-21T13:29:37.713035Z",
     "shell.execute_reply": "2023-11-21T13:29:37.711909Z"
    },
    "papermill": {
     "duration": 0.034184,
     "end_time": "2023-11-21T13:29:37.716452",
     "exception": false,
     "start_time": "2023-11-21T13:29:37.682268",
     "status": "completed"
    },
    "tags": []
   },
   "outputs": [],
   "source": [
    "# go again without specifying categorical features, not again, gave worse results, see previous versions\n",
    "#dtrain = lgb.Dataset(X_train, label=y_train)\n",
    "#dval = lgb.Dataset(X_val, label=y_val)"
   ]
  },
  {
   "cell_type": "code",
   "execution_count": 26,
   "id": "e355cc11",
   "metadata": {
    "execution": {
     "iopub.execute_input": "2023-11-21T13:29:37.787009Z",
     "iopub.status.busy": "2023-11-21T13:29:37.786566Z",
     "iopub.status.idle": "2023-11-21T13:38:55.588205Z",
     "shell.execute_reply": "2023-11-21T13:38:55.586750Z"
    },
    "papermill": {
     "duration": 557.861836,
     "end_time": "2023-11-21T13:38:55.614740",
     "exception": false,
     "start_time": "2023-11-21T13:29:37.752904",
     "status": "completed"
    },
    "tags": []
   },
   "outputs": [
    {
     "name": "stderr",
     "output_type": "stream",
     "text": [
      "/opt/conda/lib/python3.10/site-packages/lightgbm/engine.py:177: UserWarning: Found `num_iterations` in params. Will use it instead of argument\n",
      "  _log_warning(f\"Found `{alias}` in params. Will use it instead of argument\")\n",
      "/opt/conda/lib/python3.10/site-packages/lightgbm/basic.py:2065: UserWarning: Using categorical_feature in Dataset.\n",
      "  _log_warning('Using categorical_feature in Dataset.')\n"
     ]
    },
    {
     "name": "stdout",
     "output_type": "stream",
     "text": [
      "[LightGBM] [Warning] Auto-choosing col-wise multi-threading, the overhead of testing was 0.866795 seconds.\n",
      "You can set `force_col_wise=true` to remove the overhead.\n",
      "[LightGBM] [Info] Total Bins 4124\n",
      "[LightGBM] [Info] Number of data points in the train set: 2361414, number of used features: 40\n",
      "[LightGBM] [Info] Start training from score 3.140228\n",
      "\n",
      "Training time: 557.453s\n"
     ]
    }
   ],
   "source": [
    "# retrain on whole training data\n",
    "# create lgbm datasets\n",
    "dtrain = lgb.Dataset(train.drop(columns_to_drop, axis = 1), label=np.log1p(train.sales), categorical_feature = categorical_columns)\n",
    "ts = time.time()\n",
    "\n",
    "\n",
    "model = lgb.train(        \n",
    "        lgb_params, \n",
    "        dtrain\n",
    "    )\n",
    "\n",
    "\n",
    "execution_time = time.time() - ts\n",
    "print(\"\\nTraining time: \" + str(round(execution_time,3)) + \"s\")"
   ]
  },
  {
   "cell_type": "code",
   "execution_count": 27,
   "id": "459ec384",
   "metadata": {
    "execution": {
     "iopub.execute_input": "2023-11-21T13:38:55.664097Z",
     "iopub.status.busy": "2023-11-21T13:38:55.663716Z",
     "iopub.status.idle": "2023-11-21T13:38:55.673800Z",
     "shell.execute_reply": "2023-11-21T13:38:55.672518Z"
    },
    "papermill": {
     "duration": 0.037701,
     "end_time": "2023-11-21T13:38:55.676093",
     "exception": false,
     "start_time": "2023-11-21T13:38:55.638392",
     "status": "completed"
    },
    "tags": []
   },
   "outputs": [],
   "source": [
    "X_test = test.drop(columns_to_drop, axis = 1)"
   ]
  },
  {
   "cell_type": "code",
   "execution_count": 28,
   "id": "2ea23aff",
   "metadata": {
    "execution": {
     "iopub.execute_input": "2023-11-21T13:38:55.725400Z",
     "iopub.status.busy": "2023-11-21T13:38:55.724620Z",
     "iopub.status.idle": "2023-11-21T13:38:57.621133Z",
     "shell.execute_reply": "2023-11-21T13:38:57.620032Z"
    },
    "papermill": {
     "duration": 1.924439,
     "end_time": "2023-11-21T13:38:57.623688",
     "exception": false,
     "start_time": "2023-11-21T13:38:55.699249",
     "status": "completed"
    },
    "tags": []
   },
   "outputs": [],
   "source": [
    "preds = np.expm1(model.predict(X_test, num_iteration=model.best_iteration)) # transform predictions back immediatelly\n"
   ]
  },
  {
   "cell_type": "code",
   "execution_count": 29,
   "id": "bf4c5ea9",
   "metadata": {
    "execution": {
     "iopub.execute_input": "2023-11-21T13:38:57.672516Z",
     "iopub.status.busy": "2023-11-21T13:38:57.671776Z",
     "iopub.status.idle": "2023-11-21T13:38:57.678028Z",
     "shell.execute_reply": "2023-11-21T13:38:57.677132Z"
    },
    "papermill": {
     "duration": 0.033291,
     "end_time": "2023-11-21T13:38:57.680133",
     "exception": false,
     "start_time": "2023-11-21T13:38:57.646842",
     "status": "completed"
    },
    "tags": []
   },
   "outputs": [
    {
     "data": {
      "text/plain": [
       "-0.19959759218343567"
      ]
     },
     "execution_count": 29,
     "metadata": {},
     "output_type": "execute_result"
    }
   ],
   "source": [
    "preds.min()"
   ]
  },
  {
   "cell_type": "code",
   "execution_count": 30,
   "id": "955dfab0",
   "metadata": {
    "execution": {
     "iopub.execute_input": "2023-11-21T13:38:57.728638Z",
     "iopub.status.busy": "2023-11-21T13:38:57.727886Z",
     "iopub.status.idle": "2023-11-21T13:38:57.734078Z",
     "shell.execute_reply": "2023-11-21T13:38:57.733233Z"
    },
    "papermill": {
     "duration": 0.032908,
     "end_time": "2023-11-21T13:38:57.736323",
     "exception": false,
     "start_time": "2023-11-21T13:38:57.703415",
     "status": "completed"
    },
    "tags": []
   },
   "outputs": [
    {
     "data": {
      "text/plain": [
       "14771.915355032339"
      ]
     },
     "execution_count": 30,
     "metadata": {},
     "output_type": "execute_result"
    }
   ],
   "source": [
    "preds.max()"
   ]
  },
  {
   "cell_type": "code",
   "execution_count": 31,
   "id": "18e254a0",
   "metadata": {
    "execution": {
     "iopub.execute_input": "2023-11-21T13:38:57.786310Z",
     "iopub.status.busy": "2023-11-21T13:38:57.785260Z",
     "iopub.status.idle": "2023-11-21T13:38:57.790318Z",
     "shell.execute_reply": "2023-11-21T13:38:57.789362Z"
    },
    "papermill": {
     "duration": 0.032314,
     "end_time": "2023-11-21T13:38:57.792672",
     "exception": false,
     "start_time": "2023-11-21T13:38:57.760358",
     "status": "completed"
    },
    "tags": []
   },
   "outputs": [],
   "source": [
    "# clip negative values and set a max to the predictions\n",
    "preds=preds.clip(0,60000)"
   ]
  },
  {
   "cell_type": "code",
   "execution_count": 32,
   "id": "8b0c33de",
   "metadata": {
    "execution": {
     "iopub.execute_input": "2023-11-21T13:38:57.842004Z",
     "iopub.status.busy": "2023-11-21T13:38:57.841277Z",
     "iopub.status.idle": "2023-11-21T13:38:57.854168Z",
     "shell.execute_reply": "2023-11-21T13:38:57.852839Z"
    },
    "papermill": {
     "duration": 0.040694,
     "end_time": "2023-11-21T13:38:57.856804",
     "exception": false,
     "start_time": "2023-11-21T13:38:57.816110",
     "status": "completed"
    },
    "tags": []
   },
   "outputs": [
    {
     "data": {
      "text/plain": [
       "0.0"
      ]
     },
     "execution_count": 32,
     "metadata": {},
     "output_type": "execute_result"
    }
   ],
   "source": [
    "train.sales.min()"
   ]
  },
  {
   "cell_type": "code",
   "execution_count": 33,
   "id": "2a731595",
   "metadata": {
    "execution": {
     "iopub.execute_input": "2023-11-21T13:38:57.906756Z",
     "iopub.status.busy": "2023-11-21T13:38:57.906324Z",
     "iopub.status.idle": "2023-11-21T13:38:57.920656Z",
     "shell.execute_reply": "2023-11-21T13:38:57.919630Z"
    },
    "papermill": {
     "duration": 0.042818,
     "end_time": "2023-11-21T13:38:57.923138",
     "exception": false,
     "start_time": "2023-11-21T13:38:57.880320",
     "status": "completed"
    },
    "tags": []
   },
   "outputs": [
    {
     "data": {
      "text/plain": [
       "124717.0"
      ]
     },
     "execution_count": 33,
     "metadata": {},
     "output_type": "execute_result"
    }
   ],
   "source": [
    "train.sales.max()"
   ]
  },
  {
   "cell_type": "markdown",
   "id": "62b5d071",
   "metadata": {
    "papermill": {
     "duration": 0.023928,
     "end_time": "2023-11-21T13:38:57.971927",
     "exception": false,
     "start_time": "2023-11-21T13:38:57.947999",
     "status": "completed"
    },
    "tags": []
   },
   "source": [
    "# Postprocessing\n",
    "\n",
    "Not all stores sell all categories/families of items. Set all those predicitions to 0."
   ]
  },
  {
   "cell_type": "code",
   "execution_count": 34,
   "id": "d134beba",
   "metadata": {
    "execution": {
     "iopub.execute_input": "2023-11-21T13:38:58.021455Z",
     "iopub.status.busy": "2023-11-21T13:38:58.021014Z",
     "iopub.status.idle": "2023-11-21T13:39:01.793985Z",
     "shell.execute_reply": "2023-11-21T13:39:01.792520Z"
    },
    "papermill": {
     "duration": 3.802105,
     "end_time": "2023-11-21T13:39:01.797795",
     "exception": false,
     "start_time": "2023-11-21T13:38:57.995690",
     "status": "completed"
    },
    "tags": []
   },
   "outputs": [],
   "source": [
    "test = pd.read_csv('/kaggle/input/store-sales-time-series-forecasting/test.csv')\n",
    "train = pd.read_csv('/kaggle/input/store-sales-time-series-forecasting/train.csv')"
   ]
  },
  {
   "cell_type": "code",
   "execution_count": 35,
   "id": "741624cd",
   "metadata": {
    "execution": {
     "iopub.execute_input": "2023-11-21T13:39:01.848529Z",
     "iopub.status.busy": "2023-11-21T13:39:01.848113Z",
     "iopub.status.idle": "2023-11-21T13:39:01.855869Z",
     "shell.execute_reply": "2023-11-21T13:39:01.854089Z"
    },
    "papermill": {
     "duration": 0.036745,
     "end_time": "2023-11-21T13:39:01.858958",
     "exception": false,
     "start_time": "2023-11-21T13:39:01.822213",
     "status": "completed"
    },
    "tags": []
   },
   "outputs": [],
   "source": [
    "submission_pre = pd.DataFrame(data={\"id\" : sample_submission.id,\n",
    "                                   \"preds\" : preds})"
   ]
  },
  {
   "cell_type": "code",
   "execution_count": 36,
   "id": "f0838044",
   "metadata": {
    "execution": {
     "iopub.execute_input": "2023-11-21T13:39:01.911209Z",
     "iopub.status.busy": "2023-11-21T13:39:01.910781Z",
     "iopub.status.idle": "2023-11-21T13:39:01.935231Z",
     "shell.execute_reply": "2023-11-21T13:39:01.934114Z"
    },
    "papermill": {
     "duration": 0.053344,
     "end_time": "2023-11-21T13:39:01.938040",
     "exception": false,
     "start_time": "2023-11-21T13:39:01.884696",
     "status": "completed"
    },
    "tags": []
   },
   "outputs": [],
   "source": [
    "submission_pre = pd.merge(test,submission_pre, on='id',how='left')"
   ]
  },
  {
   "cell_type": "code",
   "execution_count": 37,
   "id": "85e84906",
   "metadata": {
    "execution": {
     "iopub.execute_input": "2023-11-21T13:39:01.988210Z",
     "iopub.status.busy": "2023-11-21T13:39:01.987800Z",
     "iopub.status.idle": "2023-11-21T13:39:02.002705Z",
     "shell.execute_reply": "2023-11-21T13:39:02.001297Z"
    },
    "papermill": {
     "duration": 0.042776,
     "end_time": "2023-11-21T13:39:02.005251",
     "exception": false,
     "start_time": "2023-11-21T13:39:01.962475",
     "status": "completed"
    },
    "tags": []
   },
   "outputs": [
    {
     "data": {
      "text/html": [
       "<div>\n",
       "<style scoped>\n",
       "    .dataframe tbody tr th:only-of-type {\n",
       "        vertical-align: middle;\n",
       "    }\n",
       "\n",
       "    .dataframe tbody tr th {\n",
       "        vertical-align: top;\n",
       "    }\n",
       "\n",
       "    .dataframe thead th {\n",
       "        text-align: right;\n",
       "    }\n",
       "</style>\n",
       "<table border=\"1\" class=\"dataframe\">\n",
       "  <thead>\n",
       "    <tr style=\"text-align: right;\">\n",
       "      <th></th>\n",
       "      <th>id</th>\n",
       "      <th>date</th>\n",
       "      <th>store_nbr</th>\n",
       "      <th>family</th>\n",
       "      <th>onpromotion</th>\n",
       "      <th>preds</th>\n",
       "    </tr>\n",
       "  </thead>\n",
       "  <tbody>\n",
       "    <tr>\n",
       "      <th>0</th>\n",
       "      <td>3000888</td>\n",
       "      <td>2017-08-16</td>\n",
       "      <td>1</td>\n",
       "      <td>AUTOMOTIVE</td>\n",
       "      <td>0</td>\n",
       "      <td>5.364986</td>\n",
       "    </tr>\n",
       "    <tr>\n",
       "      <th>1</th>\n",
       "      <td>3000889</td>\n",
       "      <td>2017-08-16</td>\n",
       "      <td>1</td>\n",
       "      <td>BABY CARE</td>\n",
       "      <td>0</td>\n",
       "      <td>0.023176</td>\n",
       "    </tr>\n",
       "    <tr>\n",
       "      <th>2</th>\n",
       "      <td>3000890</td>\n",
       "      <td>2017-08-16</td>\n",
       "      <td>1</td>\n",
       "      <td>BEAUTY</td>\n",
       "      <td>2</td>\n",
       "      <td>5.516083</td>\n",
       "    </tr>\n",
       "    <tr>\n",
       "      <th>3</th>\n",
       "      <td>3000891</td>\n",
       "      <td>2017-08-16</td>\n",
       "      <td>1</td>\n",
       "      <td>BEVERAGES</td>\n",
       "      <td>20</td>\n",
       "      <td>2516.829172</td>\n",
       "    </tr>\n",
       "    <tr>\n",
       "      <th>4</th>\n",
       "      <td>3000892</td>\n",
       "      <td>2017-08-16</td>\n",
       "      <td>1</td>\n",
       "      <td>BOOKS</td>\n",
       "      <td>0</td>\n",
       "      <td>0.021164</td>\n",
       "    </tr>\n",
       "  </tbody>\n",
       "</table>\n",
       "</div>"
      ],
      "text/plain": [
       "        id        date  store_nbr      family  onpromotion        preds\n",
       "0  3000888  2017-08-16          1  AUTOMOTIVE            0     5.364986\n",
       "1  3000889  2017-08-16          1   BABY CARE            0     0.023176\n",
       "2  3000890  2017-08-16          1      BEAUTY            2     5.516083\n",
       "3  3000891  2017-08-16          1   BEVERAGES           20  2516.829172\n",
       "4  3000892  2017-08-16          1       BOOKS            0     0.021164"
      ]
     },
     "execution_count": 37,
     "metadata": {},
     "output_type": "execute_result"
    }
   ],
   "source": [
    "submission_pre.head()"
   ]
  },
  {
   "cell_type": "code",
   "execution_count": 38,
   "id": "194fb689",
   "metadata": {
    "execution": {
     "iopub.execute_input": "2023-11-21T13:39:02.056287Z",
     "iopub.status.busy": "2023-11-21T13:39:02.055889Z",
     "iopub.status.idle": "2023-11-21T13:39:02.519480Z",
     "shell.execute_reply": "2023-11-21T13:39:02.518166Z"
    },
    "papermill": {
     "duration": 0.491936,
     "end_time": "2023-11-21T13:39:02.521824",
     "exception": false,
     "start_time": "2023-11-21T13:39:02.029888",
     "status": "completed"
    },
    "tags": []
   },
   "outputs": [
    {
     "data": {
      "text/html": [
       "<div>\n",
       "<style scoped>\n",
       "    .dataframe tbody tr th:only-of-type {\n",
       "        vertical-align: middle;\n",
       "    }\n",
       "\n",
       "    .dataframe tbody tr th {\n",
       "        vertical-align: top;\n",
       "    }\n",
       "\n",
       "    .dataframe thead th {\n",
       "        text-align: right;\n",
       "    }\n",
       "</style>\n",
       "<table border=\"1\" class=\"dataframe\">\n",
       "  <thead>\n",
       "    <tr style=\"text-align: right;\">\n",
       "      <th></th>\n",
       "      <th>store_nbr</th>\n",
       "      <th>family</th>\n",
       "      <th>sales</th>\n",
       "    </tr>\n",
       "  </thead>\n",
       "  <tbody>\n",
       "    <tr>\n",
       "      <th>1</th>\n",
       "      <td>1</td>\n",
       "      <td>BABY CARE</td>\n",
       "      <td>0.0</td>\n",
       "    </tr>\n",
       "    <tr>\n",
       "      <th>268</th>\n",
       "      <td>9</td>\n",
       "      <td>BOOKS</td>\n",
       "      <td>0.0</td>\n",
       "    </tr>\n",
       "    <tr>\n",
       "      <th>301</th>\n",
       "      <td>10</td>\n",
       "      <td>BOOKS</td>\n",
       "      <td>0.0</td>\n",
       "    </tr>\n",
       "    <tr>\n",
       "      <th>334</th>\n",
       "      <td>11</td>\n",
       "      <td>BOOKS</td>\n",
       "      <td>0.0</td>\n",
       "    </tr>\n",
       "    <tr>\n",
       "      <th>367</th>\n",
       "      <td>12</td>\n",
       "      <td>BOOKS</td>\n",
       "      <td>0.0</td>\n",
       "    </tr>\n",
       "  </tbody>\n",
       "</table>\n",
       "</div>"
      ],
      "text/plain": [
       "     store_nbr     family  sales\n",
       "1            1  BABY CARE    0.0\n",
       "268          9      BOOKS    0.0\n",
       "301         10      BOOKS    0.0\n",
       "334         11      BOOKS    0.0\n",
       "367         12      BOOKS    0.0"
      ]
     },
     "execution_count": 38,
     "metadata": {},
     "output_type": "execute_result"
    }
   ],
   "source": [
    "# get info about which stores have 0 sales for which categories out of train\n",
    "store_info=train[['store_nbr','family','sales']].groupby(['store_nbr','family']).sum().reset_index()\n",
    "store_info = store_info.loc[store_info.sales == 0] #reduce to those without sales\n",
    "store_info.head()"
   ]
  },
  {
   "cell_type": "code",
   "execution_count": 39,
   "id": "f75d3e39",
   "metadata": {
    "execution": {
     "iopub.execute_input": "2023-11-21T13:39:02.574059Z",
     "iopub.status.busy": "2023-11-21T13:39:02.573646Z",
     "iopub.status.idle": "2023-11-21T13:39:02.582804Z",
     "shell.execute_reply": "2023-11-21T13:39:02.581680Z"
    },
    "papermill": {
     "duration": 0.037832,
     "end_time": "2023-11-21T13:39:02.585329",
     "exception": false,
     "start_time": "2023-11-21T13:39:02.547497",
     "status": "completed"
    },
    "tags": []
   },
   "outputs": [
    {
     "data": {
      "text/plain": [
       "array(['BABY CARE', 'BOOKS', 'LAWN AND GARDEN', 'LADIESWEAR'],\n",
       "      dtype=object)"
      ]
     },
     "execution_count": 39,
     "metadata": {},
     "output_type": "execute_result"
    }
   ],
   "source": [
    "categories_not_sold_in_all_stores = store_info.family.unique()\n",
    "categories_not_sold_in_all_stores"
   ]
  },
  {
   "cell_type": "code",
   "execution_count": 40,
   "id": "a0eb086d",
   "metadata": {
    "execution": {
     "iopub.execute_input": "2023-11-21T13:39:02.637101Z",
     "iopub.status.busy": "2023-11-21T13:39:02.636697Z",
     "iopub.status.idle": "2023-11-21T13:39:02.677083Z",
     "shell.execute_reply": "2023-11-21T13:39:02.675464Z"
    },
    "papermill": {
     "duration": 0.070126,
     "end_time": "2023-11-21T13:39:02.680274",
     "exception": false,
     "start_time": "2023-11-21T13:39:02.610148",
     "status": "completed"
    },
    "tags": []
   },
   "outputs": [],
   "source": [
    "# set all predictions to 0 for the categories that are not sold in certain stores\n",
    "for cat in categories_not_sold_in_all_stores:\n",
    "    category = cat\n",
    "    stores_that_dont_sell_category = list(store_info.loc[(store_info.family == category)].store_nbr)\n",
    "    submission_pre.loc[submission_pre.store_nbr.isin(stores_that_dont_sell_category) & (submission_pre.family==category),['preds']] = 0"
   ]
  },
  {
   "cell_type": "code",
   "execution_count": 41,
   "id": "b0ccba3c",
   "metadata": {
    "execution": {
     "iopub.execute_input": "2023-11-21T13:39:02.731953Z",
     "iopub.status.busy": "2023-11-21T13:39:02.731498Z",
     "iopub.status.idle": "2023-11-21T13:39:02.745176Z",
     "shell.execute_reply": "2023-11-21T13:39:02.744004Z"
    },
    "papermill": {
     "duration": 0.042737,
     "end_time": "2023-11-21T13:39:02.747724",
     "exception": false,
     "start_time": "2023-11-21T13:39:02.704987",
     "status": "completed"
    },
    "tags": []
   },
   "outputs": [
    {
     "data": {
      "text/html": [
       "<div>\n",
       "<style scoped>\n",
       "    .dataframe tbody tr th:only-of-type {\n",
       "        vertical-align: middle;\n",
       "    }\n",
       "\n",
       "    .dataframe tbody tr th {\n",
       "        vertical-align: top;\n",
       "    }\n",
       "\n",
       "    .dataframe thead th {\n",
       "        text-align: right;\n",
       "    }\n",
       "</style>\n",
       "<table border=\"1\" class=\"dataframe\">\n",
       "  <thead>\n",
       "    <tr style=\"text-align: right;\">\n",
       "      <th></th>\n",
       "      <th>id</th>\n",
       "      <th>date</th>\n",
       "      <th>store_nbr</th>\n",
       "      <th>family</th>\n",
       "      <th>onpromotion</th>\n",
       "      <th>preds</th>\n",
       "    </tr>\n",
       "  </thead>\n",
       "  <tbody>\n",
       "    <tr>\n",
       "      <th>0</th>\n",
       "      <td>3000888</td>\n",
       "      <td>2017-08-16</td>\n",
       "      <td>1</td>\n",
       "      <td>AUTOMOTIVE</td>\n",
       "      <td>0</td>\n",
       "      <td>5.364986</td>\n",
       "    </tr>\n",
       "    <tr>\n",
       "      <th>1</th>\n",
       "      <td>3000889</td>\n",
       "      <td>2017-08-16</td>\n",
       "      <td>1</td>\n",
       "      <td>BABY CARE</td>\n",
       "      <td>0</td>\n",
       "      <td>0.000000</td>\n",
       "    </tr>\n",
       "    <tr>\n",
       "      <th>2</th>\n",
       "      <td>3000890</td>\n",
       "      <td>2017-08-16</td>\n",
       "      <td>1</td>\n",
       "      <td>BEAUTY</td>\n",
       "      <td>2</td>\n",
       "      <td>5.516083</td>\n",
       "    </tr>\n",
       "    <tr>\n",
       "      <th>3</th>\n",
       "      <td>3000891</td>\n",
       "      <td>2017-08-16</td>\n",
       "      <td>1</td>\n",
       "      <td>BEVERAGES</td>\n",
       "      <td>20</td>\n",
       "      <td>2516.829172</td>\n",
       "    </tr>\n",
       "    <tr>\n",
       "      <th>4</th>\n",
       "      <td>3000892</td>\n",
       "      <td>2017-08-16</td>\n",
       "      <td>1</td>\n",
       "      <td>BOOKS</td>\n",
       "      <td>0</td>\n",
       "      <td>0.021164</td>\n",
       "    </tr>\n",
       "  </tbody>\n",
       "</table>\n",
       "</div>"
      ],
      "text/plain": [
       "        id        date  store_nbr      family  onpromotion        preds\n",
       "0  3000888  2017-08-16          1  AUTOMOTIVE            0     5.364986\n",
       "1  3000889  2017-08-16          1   BABY CARE            0     0.000000\n",
       "2  3000890  2017-08-16          1      BEAUTY            2     5.516083\n",
       "3  3000891  2017-08-16          1   BEVERAGES           20  2516.829172\n",
       "4  3000892  2017-08-16          1       BOOKS            0     0.021164"
      ]
     },
     "execution_count": 41,
     "metadata": {},
     "output_type": "execute_result"
    }
   ],
   "source": [
    "submission_pre.head()"
   ]
  },
  {
   "cell_type": "markdown",
   "id": "ff73aec6",
   "metadata": {
    "papermill": {
     "duration": 0.024311,
     "end_time": "2023-11-21T13:39:02.798159",
     "exception": false,
     "start_time": "2023-11-21T13:39:02.773848",
     "status": "completed"
    },
    "tags": []
   },
   "source": [
    "# Submission"
   ]
  },
  {
   "cell_type": "code",
   "execution_count": 42,
   "id": "00a86575",
   "metadata": {
    "execution": {
     "iopub.execute_input": "2023-11-21T13:39:02.850310Z",
     "iopub.status.busy": "2023-11-21T13:39:02.849902Z",
     "iopub.status.idle": "2023-11-21T13:39:02.864797Z",
     "shell.execute_reply": "2023-11-21T13:39:02.863472Z"
    },
    "papermill": {
     "duration": 0.044573,
     "end_time": "2023-11-21T13:39:02.867715",
     "exception": false,
     "start_time": "2023-11-21T13:39:02.823142",
     "status": "completed"
    },
    "tags": []
   },
   "outputs": [
    {
     "data": {
      "text/html": [
       "<div>\n",
       "<style scoped>\n",
       "    .dataframe tbody tr th:only-of-type {\n",
       "        vertical-align: middle;\n",
       "    }\n",
       "\n",
       "    .dataframe tbody tr th {\n",
       "        vertical-align: top;\n",
       "    }\n",
       "\n",
       "    .dataframe thead th {\n",
       "        text-align: right;\n",
       "    }\n",
       "</style>\n",
       "<table border=\"1\" class=\"dataframe\">\n",
       "  <thead>\n",
       "    <tr style=\"text-align: right;\">\n",
       "      <th></th>\n",
       "      <th>id</th>\n",
       "      <th>sales</th>\n",
       "    </tr>\n",
       "  </thead>\n",
       "  <tbody>\n",
       "    <tr>\n",
       "      <th>0</th>\n",
       "      <td>3000888</td>\n",
       "      <td>0.0</td>\n",
       "    </tr>\n",
       "    <tr>\n",
       "      <th>1</th>\n",
       "      <td>3000889</td>\n",
       "      <td>0.0</td>\n",
       "    </tr>\n",
       "    <tr>\n",
       "      <th>2</th>\n",
       "      <td>3000890</td>\n",
       "      <td>0.0</td>\n",
       "    </tr>\n",
       "    <tr>\n",
       "      <th>3</th>\n",
       "      <td>3000891</td>\n",
       "      <td>0.0</td>\n",
       "    </tr>\n",
       "    <tr>\n",
       "      <th>4</th>\n",
       "      <td>3000892</td>\n",
       "      <td>0.0</td>\n",
       "    </tr>\n",
       "  </tbody>\n",
       "</table>\n",
       "</div>"
      ],
      "text/plain": [
       "        id  sales\n",
       "0  3000888    0.0\n",
       "1  3000889    0.0\n",
       "2  3000890    0.0\n",
       "3  3000891    0.0\n",
       "4  3000892    0.0"
      ]
     },
     "execution_count": 42,
     "metadata": {},
     "output_type": "execute_result"
    }
   ],
   "source": [
    "sample_submission.head()"
   ]
  },
  {
   "cell_type": "code",
   "execution_count": 43,
   "id": "ff96dffc",
   "metadata": {
    "execution": {
     "iopub.execute_input": "2023-11-21T13:39:02.920260Z",
     "iopub.status.busy": "2023-11-21T13:39:02.919839Z",
     "iopub.status.idle": "2023-11-21T13:39:03.058476Z",
     "shell.execute_reply": "2023-11-21T13:39:03.057234Z"
    },
    "papermill": {
     "duration": 0.168495,
     "end_time": "2023-11-21T13:39:03.061144",
     "exception": false,
     "start_time": "2023-11-21T13:39:02.892649",
     "status": "completed"
    },
    "tags": []
   },
   "outputs": [
    {
     "data": {
      "text/html": [
       "<div>\n",
       "<style scoped>\n",
       "    .dataframe tbody tr th:only-of-type {\n",
       "        vertical-align: middle;\n",
       "    }\n",
       "\n",
       "    .dataframe tbody tr th {\n",
       "        vertical-align: top;\n",
       "    }\n",
       "\n",
       "    .dataframe thead th {\n",
       "        text-align: right;\n",
       "    }\n",
       "</style>\n",
       "<table border=\"1\" class=\"dataframe\">\n",
       "  <thead>\n",
       "    <tr style=\"text-align: right;\">\n",
       "      <th></th>\n",
       "      <th>id</th>\n",
       "      <th>sales</th>\n",
       "    </tr>\n",
       "  </thead>\n",
       "  <tbody>\n",
       "    <tr>\n",
       "      <th>0</th>\n",
       "      <td>3000888</td>\n",
       "      <td>5.364986</td>\n",
       "    </tr>\n",
       "    <tr>\n",
       "      <th>1</th>\n",
       "      <td>3000889</td>\n",
       "      <td>0.000000</td>\n",
       "    </tr>\n",
       "    <tr>\n",
       "      <th>2</th>\n",
       "      <td>3000890</td>\n",
       "      <td>5.516083</td>\n",
       "    </tr>\n",
       "    <tr>\n",
       "      <th>3</th>\n",
       "      <td>3000891</td>\n",
       "      <td>2516.829172</td>\n",
       "    </tr>\n",
       "    <tr>\n",
       "      <th>4</th>\n",
       "      <td>3000892</td>\n",
       "      <td>0.021164</td>\n",
       "    </tr>\n",
       "  </tbody>\n",
       "</table>\n",
       "</div>"
      ],
      "text/plain": [
       "        id        sales\n",
       "0  3000888     5.364986\n",
       "1  3000889     0.000000\n",
       "2  3000890     5.516083\n",
       "3  3000891  2516.829172\n",
       "4  3000892     0.021164"
      ]
     },
     "execution_count": 43,
     "metadata": {},
     "output_type": "execute_result"
    }
   ],
   "source": [
    "# generate submission file \n",
    "submission = submission_pre[['id','preds']]\n",
    "submission = submission.rename(columns={'preds':'sales'})\n",
    "\n",
    "submission.to_csv('submission.csv', index=False)\n",
    "submission.head()"
   ]
  },
  {
   "cell_type": "code",
   "execution_count": null,
   "id": "02ede017",
   "metadata": {
    "papermill": {
     "duration": 0.024734,
     "end_time": "2023-11-21T13:39:03.111485",
     "exception": false,
     "start_time": "2023-11-21T13:39:03.086751",
     "status": "completed"
    },
    "tags": []
   },
   "outputs": [],
   "source": []
  },
  {
   "cell_type": "code",
   "execution_count": null,
   "id": "ca07eaa9",
   "metadata": {
    "papermill": {
     "duration": 0.025284,
     "end_time": "2023-11-21T13:39:03.162122",
     "exception": false,
     "start_time": "2023-11-21T13:39:03.136838",
     "status": "completed"
    },
    "tags": []
   },
   "outputs": [],
   "source": []
  }
 ],
 "metadata": {
  "kaggle": {
   "accelerator": "none",
   "dataSources": [
    {
     "databundleVersionId": 2887556,
     "sourceId": 29781,
     "sourceType": "competition"
    },
    {
     "sourceId": 150976677,
     "sourceType": "kernelVersion"
    }
   ],
   "dockerImageVersionId": 30558,
   "isGpuEnabled": false,
   "isInternetEnabled": true,
   "language": "python",
   "sourceType": "notebook"
  },
  "kernelspec": {
   "display_name": "Python 3",
   "language": "python",
   "name": "python3"
  },
  "language_info": {
   "codemirror_mode": {
    "name": "ipython",
    "version": 3
   },
   "file_extension": ".py",
   "mimetype": "text/x-python",
   "name": "python",
   "nbconvert_exporter": "python",
   "pygments_lexer": "ipython3",
   "version": "3.10.12"
  },
  "papermill": {
   "default_parameters": {},
   "duration": 855.339884,
   "end_time": "2023-11-21T13:39:04.216995",
   "environment_variables": {},
   "exception": null,
   "input_path": "__notebook__.ipynb",
   "output_path": "__notebook__.ipynb",
   "parameters": {},
   "start_time": "2023-11-21T13:24:48.877111",
   "version": "2.4.0"
  }
 },
 "nbformat": 4,
 "nbformat_minor": 5
}
