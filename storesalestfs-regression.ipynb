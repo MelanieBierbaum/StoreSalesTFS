{
 "cells": [
  {
   "cell_type": "code",
   "execution_count": 1,
   "id": "8c9acc78",
   "metadata": {
    "_cell_guid": "b1076dfc-b9ad-4769-8c92-a6c4dae69d19",
    "_uuid": "8f2839f25d086af736a60e9eeb907d3b93b6e0e5",
    "execution": {
     "iopub.execute_input": "2023-11-21T13:37:11.556832Z",
     "iopub.status.busy": "2023-11-21T13:37:11.556548Z",
     "iopub.status.idle": "2023-11-21T13:37:12.811875Z",
     "shell.execute_reply": "2023-11-21T13:37:12.811224Z"
    },
    "papermill": {
     "duration": 1.26491,
     "end_time": "2023-11-21T13:37:12.813504",
     "exception": false,
     "start_time": "2023-11-21T13:37:11.548594",
     "status": "completed"
    },
    "tags": []
   },
   "outputs": [
    {
     "name": "stdout",
     "output_type": "stream",
     "text": [
      "pandas version:  2.0.3\n",
      "sklearn version:  1.2.2\n",
      "/kaggle/input/storesalestfs-featureenigneering/__results__.html\n",
      "/kaggle/input/storesalestfs-featureenigneering/__notebook__.ipynb\n",
      "/kaggle/input/storesalestfs-featureenigneering/__output__.json\n",
      "/kaggle/input/storesalestfs-featureenigneering/train_features.csv\n",
      "/kaggle/input/storesalestfs-featureenigneering/test_features.csv\n",
      "/kaggle/input/storesalestfs-featureenigneering/custom.css\n",
      "/kaggle/input/store-sales-time-series-forecasting/oil.csv\n",
      "/kaggle/input/store-sales-time-series-forecasting/sample_submission.csv\n",
      "/kaggle/input/store-sales-time-series-forecasting/holidays_events.csv\n",
      "/kaggle/input/store-sales-time-series-forecasting/stores.csv\n",
      "/kaggle/input/store-sales-time-series-forecasting/train.csv\n",
      "/kaggle/input/store-sales-time-series-forecasting/test.csv\n",
      "/kaggle/input/store-sales-time-series-forecasting/transactions.csv\n"
     ]
    }
   ],
   "source": [
    "# This Python 3 environment comes with many helpful analytics libraries installed\n",
    "# It is defined by the kaggle/python Docker image: https://github.com/kaggle/docker-python\n",
    "# For example, here's several helpful packages to load\n",
    "\n",
    "import numpy as np # linear algebra\n",
    "import pandas as pd # data processing, CSV file I/O (e.g. pd.read_csv)\n",
    "print (\"pandas version:  {}\".format(pd.__version__))\n",
    "import time\n",
    "from sklearn.preprocessing import LabelEncoder\n",
    "import matplotlib.pyplot as plt\n",
    "\n",
    "import sklearn\n",
    "from sklearn import linear_model\n",
    "print(\"sklearn version:  {}\".format(sklearn.__version__))\n",
    "from sklearn.metrics import mean_squared_log_error\n",
    "\n",
    "# Input data files are available in the read-only \"../input/\" directory\n",
    "# For example, running this (by clicking run or pressing Shift+Enter) will list all files under the input directory\n",
    "\n",
    "import os\n",
    "for dirname, _, filenames in os.walk('/kaggle/input'):\n",
    "    for filename in filenames:\n",
    "        print(os.path.join(dirname, filename))\n",
    "\n",
    "# You can write up to 20GB to the current directory (/kaggle/working/) that gets preserved as output when you create a version using \"Save & Run All\" \n",
    "# You can also write temporary files to /kaggle/temp/, but they won't be saved outside of the current session"
   ]
  },
  {
   "cell_type": "markdown",
   "id": "1c518347",
   "metadata": {
    "papermill": {
     "duration": 0.006063,
     "end_time": "2023-11-21T13:37:12.826241",
     "exception": false,
     "start_time": "2023-11-21T13:37:12.820178",
     "status": "completed"
    },
    "tags": []
   },
   "source": [
    "Most of the structure is copied from the LGBM notebook for this competition."
   ]
  },
  {
   "cell_type": "code",
   "execution_count": 2,
   "id": "58c9c281",
   "metadata": {
    "execution": {
     "iopub.execute_input": "2023-11-21T13:37:12.840889Z",
     "iopub.status.busy": "2023-11-21T13:37:12.839974Z",
     "iopub.status.idle": "2023-11-21T13:37:28.290317Z",
     "shell.execute_reply": "2023-11-21T13:37:28.288713Z"
    },
    "papermill": {
     "duration": 15.460142,
     "end_time": "2023-11-21T13:37:28.292685",
     "exception": false,
     "start_time": "2023-11-21T13:37:12.832543",
     "status": "completed"
    },
    "tags": []
   },
   "outputs": [],
   "source": [
    "# read the output file of the prepare data notebook here\n",
    "train = pd.read_csv('/kaggle/input/storesalestfs-featureenigneering/train_features.csv')\n",
    "test = pd.read_csv('/kaggle/input/storesalestfs-featureenigneering/test_features.csv')\n",
    "# and sample submission\n",
    "sample_submission = pd.read_csv('/kaggle/input/store-sales-time-series-forecasting/sample_submission.csv')"
   ]
  },
  {
   "cell_type": "code",
   "execution_count": 3,
   "id": "5b0e13da",
   "metadata": {
    "execution": {
     "iopub.execute_input": "2023-11-21T13:37:28.307777Z",
     "iopub.status.busy": "2023-11-21T13:37:28.306926Z",
     "iopub.status.idle": "2023-11-21T13:37:28.338594Z",
     "shell.execute_reply": "2023-11-21T13:37:28.337709Z"
    },
    "papermill": {
     "duration": 0.041742,
     "end_time": "2023-11-21T13:37:28.341511",
     "exception": false,
     "start_time": "2023-11-21T13:37:28.299769",
     "status": "completed"
    },
    "tags": []
   },
   "outputs": [
    {
     "data": {
      "text/html": [
       "<div>\n",
       "<style scoped>\n",
       "    .dataframe tbody tr th:only-of-type {\n",
       "        vertical-align: middle;\n",
       "    }\n",
       "\n",
       "    .dataframe tbody tr th {\n",
       "        vertical-align: top;\n",
       "    }\n",
       "\n",
       "    .dataframe thead th {\n",
       "        text-align: right;\n",
       "    }\n",
       "</style>\n",
       "<table border=\"1\" class=\"dataframe\">\n",
       "  <thead>\n",
       "    <tr style=\"text-align: right;\">\n",
       "      <th></th>\n",
       "      <th>id</th>\n",
       "      <th>date</th>\n",
       "      <th>store_nbr</th>\n",
       "      <th>family</th>\n",
       "      <th>sales</th>\n",
       "      <th>onpromotion</th>\n",
       "      <th>year</th>\n",
       "      <th>month</th>\n",
       "      <th>day</th>\n",
       "      <th>dayofweek</th>\n",
       "      <th>...</th>\n",
       "      <th>c_sales_std</th>\n",
       "      <th>is_onpromotion</th>\n",
       "      <th>op_sales_median</th>\n",
       "      <th>op_sales_mean</th>\n",
       "      <th>op_sales_min</th>\n",
       "      <th>op_sales_max</th>\n",
       "      <th>dcoilwtico</th>\n",
       "      <th>is_national_hol</th>\n",
       "      <th>is_local_hol</th>\n",
       "      <th>is_holiday</th>\n",
       "    </tr>\n",
       "  </thead>\n",
       "  <tbody>\n",
       "    <tr>\n",
       "      <th>0</th>\n",
       "      <td>648648</td>\n",
       "      <td>2014-01-01</td>\n",
       "      <td>1</td>\n",
       "      <td>AUTOMOTIVE</td>\n",
       "      <td>0.0</td>\n",
       "      <td>0</td>\n",
       "      <td>2014</td>\n",
       "      <td>1</td>\n",
       "      <td>1</td>\n",
       "      <td>2</td>\n",
       "      <td>...</td>\n",
       "      <td>6.250549</td>\n",
       "      <td>0</td>\n",
       "      <td>3.0</td>\n",
       "      <td>3.542113</td>\n",
       "      <td>0.0</td>\n",
       "      <td>19.0</td>\n",
       "      <td>98.17</td>\n",
       "      <td>True</td>\n",
       "      <td>False</td>\n",
       "      <td>True</td>\n",
       "    </tr>\n",
       "    <tr>\n",
       "      <th>1</th>\n",
       "      <td>648649</td>\n",
       "      <td>2014-01-01</td>\n",
       "      <td>1</td>\n",
       "      <td>BABY CARE</td>\n",
       "      <td>0.0</td>\n",
       "      <td>0</td>\n",
       "      <td>2014</td>\n",
       "      <td>1</td>\n",
       "      <td>1</td>\n",
       "      <td>2</td>\n",
       "      <td>...</td>\n",
       "      <td>0.766963</td>\n",
       "      <td>0</td>\n",
       "      <td>0.0</td>\n",
       "      <td>0.000000</td>\n",
       "      <td>0.0</td>\n",
       "      <td>0.0</td>\n",
       "      <td>98.17</td>\n",
       "      <td>True</td>\n",
       "      <td>False</td>\n",
       "      <td>True</td>\n",
       "    </tr>\n",
       "    <tr>\n",
       "      <th>2</th>\n",
       "      <td>648650</td>\n",
       "      <td>2014-01-01</td>\n",
       "      <td>1</td>\n",
       "      <td>BEAUTY</td>\n",
       "      <td>0.0</td>\n",
       "      <td>0</td>\n",
       "      <td>2014</td>\n",
       "      <td>1</td>\n",
       "      <td>1</td>\n",
       "      <td>2</td>\n",
       "      <td>...</td>\n",
       "      <td>5.110346</td>\n",
       "      <td>0</td>\n",
       "      <td>2.0</td>\n",
       "      <td>2.263397</td>\n",
       "      <td>0.0</td>\n",
       "      <td>11.0</td>\n",
       "      <td>98.17</td>\n",
       "      <td>True</td>\n",
       "      <td>False</td>\n",
       "      <td>True</td>\n",
       "    </tr>\n",
       "    <tr>\n",
       "      <th>3</th>\n",
       "      <td>648651</td>\n",
       "      <td>2014-01-01</td>\n",
       "      <td>1</td>\n",
       "      <td>BEVERAGES</td>\n",
       "      <td>0.0</td>\n",
       "      <td>0</td>\n",
       "      <td>2014</td>\n",
       "      <td>1</td>\n",
       "      <td>1</td>\n",
       "      <td>2</td>\n",
       "      <td>...</td>\n",
       "      <td>2431.441640</td>\n",
       "      <td>0</td>\n",
       "      <td>1093.0</td>\n",
       "      <td>1266.943522</td>\n",
       "      <td>0.0</td>\n",
       "      <td>3366.0</td>\n",
       "      <td>98.17</td>\n",
       "      <td>True</td>\n",
       "      <td>False</td>\n",
       "      <td>True</td>\n",
       "    </tr>\n",
       "    <tr>\n",
       "      <th>4</th>\n",
       "      <td>648652</td>\n",
       "      <td>2014-01-01</td>\n",
       "      <td>1</td>\n",
       "      <td>BOOKS</td>\n",
       "      <td>0.0</td>\n",
       "      <td>0</td>\n",
       "      <td>2014</td>\n",
       "      <td>1</td>\n",
       "      <td>1</td>\n",
       "      <td>2</td>\n",
       "      <td>...</td>\n",
       "      <td>0.618165</td>\n",
       "      <td>0</td>\n",
       "      <td>0.0</td>\n",
       "      <td>0.159848</td>\n",
       "      <td>0.0</td>\n",
       "      <td>8.0</td>\n",
       "      <td>98.17</td>\n",
       "      <td>True</td>\n",
       "      <td>False</td>\n",
       "      <td>True</td>\n",
       "    </tr>\n",
       "  </tbody>\n",
       "</table>\n",
       "<p>5 rows × 45 columns</p>\n",
       "</div>"
      ],
      "text/plain": [
       "       id        date  store_nbr      family  sales  onpromotion  year  month  \\\n",
       "0  648648  2014-01-01          1  AUTOMOTIVE    0.0            0  2014      1   \n",
       "1  648649  2014-01-01          1   BABY CARE    0.0            0  2014      1   \n",
       "2  648650  2014-01-01          1      BEAUTY    0.0            0  2014      1   \n",
       "3  648651  2014-01-01          1   BEVERAGES    0.0            0  2014      1   \n",
       "4  648652  2014-01-01          1       BOOKS    0.0            0  2014      1   \n",
       "\n",
       "   day  dayofweek  ...  c_sales_std  is_onpromotion  op_sales_median  \\\n",
       "0    1          2  ...     6.250549               0              3.0   \n",
       "1    1          2  ...     0.766963               0              0.0   \n",
       "2    1          2  ...     5.110346               0              2.0   \n",
       "3    1          2  ...  2431.441640               0           1093.0   \n",
       "4    1          2  ...     0.618165               0              0.0   \n",
       "\n",
       "   op_sales_mean  op_sales_min  op_sales_max  dcoilwtico  is_national_hol  \\\n",
       "0       3.542113           0.0          19.0       98.17             True   \n",
       "1       0.000000           0.0           0.0       98.17             True   \n",
       "2       2.263397           0.0          11.0       98.17             True   \n",
       "3    1266.943522           0.0        3366.0       98.17             True   \n",
       "4       0.159848           0.0           8.0       98.17             True   \n",
       "\n",
       "   is_local_hol  is_holiday  \n",
       "0         False        True  \n",
       "1         False        True  \n",
       "2         False        True  \n",
       "3         False        True  \n",
       "4         False        True  \n",
       "\n",
       "[5 rows x 45 columns]"
      ]
     },
     "execution_count": 3,
     "metadata": {},
     "output_type": "execute_result"
    }
   ],
   "source": [
    "train.head()"
   ]
  },
  {
   "cell_type": "code",
   "execution_count": 4,
   "id": "b07ec097",
   "metadata": {
    "execution": {
     "iopub.execute_input": "2023-11-21T13:37:28.360945Z",
     "iopub.status.busy": "2023-11-21T13:37:28.359913Z",
     "iopub.status.idle": "2023-11-21T13:37:28.437281Z",
     "shell.execute_reply": "2023-11-21T13:37:28.436694Z"
    },
    "papermill": {
     "duration": 0.089206,
     "end_time": "2023-11-21T13:37:28.438881",
     "exception": false,
     "start_time": "2023-11-21T13:37:28.349675",
     "status": "completed"
    },
    "tags": []
   },
   "outputs": [
    {
     "data": {
      "text/html": [
       "<div>\n",
       "<style scoped>\n",
       "    .dataframe tbody tr th:only-of-type {\n",
       "        vertical-align: middle;\n",
       "    }\n",
       "\n",
       "    .dataframe tbody tr th {\n",
       "        vertical-align: top;\n",
       "    }\n",
       "\n",
       "    .dataframe thead th {\n",
       "        text-align: right;\n",
       "    }\n",
       "</style>\n",
       "<table border=\"1\" class=\"dataframe\">\n",
       "  <thead>\n",
       "    <tr style=\"text-align: right;\">\n",
       "      <th></th>\n",
       "      <th>id</th>\n",
       "      <th>date</th>\n",
       "      <th>store_nbr</th>\n",
       "      <th>family</th>\n",
       "      <th>sales</th>\n",
       "      <th>onpromotion</th>\n",
       "      <th>year</th>\n",
       "      <th>month</th>\n",
       "      <th>day</th>\n",
       "      <th>dayofweek</th>\n",
       "      <th>...</th>\n",
       "      <th>c_sales_std</th>\n",
       "      <th>is_onpromotion</th>\n",
       "      <th>op_sales_median</th>\n",
       "      <th>op_sales_mean</th>\n",
       "      <th>op_sales_min</th>\n",
       "      <th>op_sales_max</th>\n",
       "      <th>dcoilwtico</th>\n",
       "      <th>is_national_hol</th>\n",
       "      <th>is_local_hol</th>\n",
       "      <th>is_holiday</th>\n",
       "    </tr>\n",
       "  </thead>\n",
       "  <tbody>\n",
       "    <tr>\n",
       "      <th>0</th>\n",
       "      <td>3000888</td>\n",
       "      <td>2017-08-16</td>\n",
       "      <td>1</td>\n",
       "      <td>AUTOMOTIVE</td>\n",
       "      <td>0.0</td>\n",
       "      <td>0</td>\n",
       "      <td>2017</td>\n",
       "      <td>8</td>\n",
       "      <td>16</td>\n",
       "      <td>2</td>\n",
       "      <td>...</td>\n",
       "      <td>6.250549</td>\n",
       "      <td>0</td>\n",
       "      <td>3.0</td>\n",
       "      <td>3.542113</td>\n",
       "      <td>0.0</td>\n",
       "      <td>19.0</td>\n",
       "      <td>46.8</td>\n",
       "      <td>False</td>\n",
       "      <td>False</td>\n",
       "      <td>False</td>\n",
       "    </tr>\n",
       "    <tr>\n",
       "      <th>1</th>\n",
       "      <td>3000889</td>\n",
       "      <td>2017-08-16</td>\n",
       "      <td>1</td>\n",
       "      <td>BABY CARE</td>\n",
       "      <td>0.0</td>\n",
       "      <td>0</td>\n",
       "      <td>2017</td>\n",
       "      <td>8</td>\n",
       "      <td>16</td>\n",
       "      <td>2</td>\n",
       "      <td>...</td>\n",
       "      <td>0.766963</td>\n",
       "      <td>0</td>\n",
       "      <td>0.0</td>\n",
       "      <td>0.000000</td>\n",
       "      <td>0.0</td>\n",
       "      <td>0.0</td>\n",
       "      <td>46.8</td>\n",
       "      <td>False</td>\n",
       "      <td>False</td>\n",
       "      <td>False</td>\n",
       "    </tr>\n",
       "    <tr>\n",
       "      <th>2</th>\n",
       "      <td>3000890</td>\n",
       "      <td>2017-08-16</td>\n",
       "      <td>1</td>\n",
       "      <td>BEAUTY</td>\n",
       "      <td>0.0</td>\n",
       "      <td>2</td>\n",
       "      <td>2017</td>\n",
       "      <td>8</td>\n",
       "      <td>16</td>\n",
       "      <td>2</td>\n",
       "      <td>...</td>\n",
       "      <td>5.110346</td>\n",
       "      <td>1</td>\n",
       "      <td>4.0</td>\n",
       "      <td>4.173516</td>\n",
       "      <td>1.0</td>\n",
       "      <td>12.0</td>\n",
       "      <td>46.8</td>\n",
       "      <td>False</td>\n",
       "      <td>False</td>\n",
       "      <td>False</td>\n",
       "    </tr>\n",
       "    <tr>\n",
       "      <th>3</th>\n",
       "      <td>3000891</td>\n",
       "      <td>2017-08-16</td>\n",
       "      <td>1</td>\n",
       "      <td>BEVERAGES</td>\n",
       "      <td>0.0</td>\n",
       "      <td>20</td>\n",
       "      <td>2017</td>\n",
       "      <td>8</td>\n",
       "      <td>16</td>\n",
       "      <td>2</td>\n",
       "      <td>...</td>\n",
       "      <td>2431.441640</td>\n",
       "      <td>1</td>\n",
       "      <td>2097.0</td>\n",
       "      <td>1942.677134</td>\n",
       "      <td>325.0</td>\n",
       "      <td>5051.0</td>\n",
       "      <td>46.8</td>\n",
       "      <td>False</td>\n",
       "      <td>False</td>\n",
       "      <td>False</td>\n",
       "    </tr>\n",
       "    <tr>\n",
       "      <th>4</th>\n",
       "      <td>3000892</td>\n",
       "      <td>2017-08-16</td>\n",
       "      <td>1</td>\n",
       "      <td>BOOKS</td>\n",
       "      <td>0.0</td>\n",
       "      <td>0</td>\n",
       "      <td>2017</td>\n",
       "      <td>8</td>\n",
       "      <td>16</td>\n",
       "      <td>2</td>\n",
       "      <td>...</td>\n",
       "      <td>0.618165</td>\n",
       "      <td>0</td>\n",
       "      <td>0.0</td>\n",
       "      <td>0.159848</td>\n",
       "      <td>0.0</td>\n",
       "      <td>8.0</td>\n",
       "      <td>46.8</td>\n",
       "      <td>False</td>\n",
       "      <td>False</td>\n",
       "      <td>False</td>\n",
       "    </tr>\n",
       "  </tbody>\n",
       "</table>\n",
       "<p>5 rows × 45 columns</p>\n",
       "</div>"
      ],
      "text/plain": [
       "        id        date  store_nbr      family  sales  onpromotion  year  \\\n",
       "0  3000888  2017-08-16          1  AUTOMOTIVE    0.0            0  2017   \n",
       "1  3000889  2017-08-16          1   BABY CARE    0.0            0  2017   \n",
       "2  3000890  2017-08-16          1      BEAUTY    0.0            2  2017   \n",
       "3  3000891  2017-08-16          1   BEVERAGES    0.0           20  2017   \n",
       "4  3000892  2017-08-16          1       BOOKS    0.0            0  2017   \n",
       "\n",
       "   month  day  dayofweek  ...  c_sales_std  is_onpromotion  op_sales_median  \\\n",
       "0      8   16          2  ...     6.250549               0              3.0   \n",
       "1      8   16          2  ...     0.766963               0              0.0   \n",
       "2      8   16          2  ...     5.110346               1              4.0   \n",
       "3      8   16          2  ...  2431.441640               1           2097.0   \n",
       "4      8   16          2  ...     0.618165               0              0.0   \n",
       "\n",
       "   op_sales_mean  op_sales_min  op_sales_max  dcoilwtico  is_national_hol  \\\n",
       "0       3.542113           0.0          19.0        46.8            False   \n",
       "1       0.000000           0.0           0.0        46.8            False   \n",
       "2       4.173516           1.0          12.0        46.8            False   \n",
       "3    1942.677134         325.0        5051.0        46.8            False   \n",
       "4       0.159848           0.0           8.0        46.8            False   \n",
       "\n",
       "   is_local_hol  is_holiday  \n",
       "0         False       False  \n",
       "1         False       False  \n",
       "2         False       False  \n",
       "3         False       False  \n",
       "4         False       False  \n",
       "\n",
       "[5 rows x 45 columns]"
      ]
     },
     "execution_count": 4,
     "metadata": {},
     "output_type": "execute_result"
    }
   ],
   "source": [
    "test.head()"
   ]
  },
  {
   "cell_type": "code",
   "execution_count": 5,
   "id": "a06a2ced",
   "metadata": {
    "execution": {
     "iopub.execute_input": "2023-11-21T13:37:28.453824Z",
     "iopub.status.busy": "2023-11-21T13:37:28.453590Z",
     "iopub.status.idle": "2023-11-21T13:37:28.806517Z",
     "shell.execute_reply": "2023-11-21T13:37:28.805753Z"
    },
    "papermill": {
     "duration": 0.362709,
     "end_time": "2023-11-21T13:37:28.808731",
     "exception": false,
     "start_time": "2023-11-21T13:37:28.446022",
     "status": "completed"
    },
    "tags": []
   },
   "outputs": [],
   "source": [
    "# append train and test temporarily\n",
    "train = pd.concat( [train,test])"
   ]
  },
  {
   "cell_type": "code",
   "execution_count": 6,
   "id": "f8c44428",
   "metadata": {
    "execution": {
     "iopub.execute_input": "2023-11-21T13:37:28.824178Z",
     "iopub.status.busy": "2023-11-21T13:37:28.823839Z",
     "iopub.status.idle": "2023-11-21T13:37:30.658816Z",
     "shell.execute_reply": "2023-11-21T13:37:30.657942Z"
    },
    "papermill": {
     "duration": 1.844766,
     "end_time": "2023-11-21T13:37:30.660659",
     "exception": false,
     "start_time": "2023-11-21T13:37:28.815893",
     "status": "completed"
    },
    "tags": []
   },
   "outputs": [
    {
     "data": {
      "text/plain": [
       "id                     int64\n",
       "date                  object\n",
       "store_nbr              int64\n",
       "family                 int64\n",
       "sales                float64\n",
       "onpromotion            int64\n",
       "year                   int64\n",
       "month                  int64\n",
       "day                    int64\n",
       "dayofweek              int64\n",
       "dayofyear              int64\n",
       "weekofyear             int64\n",
       "is_weekend             int64\n",
       "weekIdContinous        int64\n",
       "sales_lag2w          float64\n",
       "sales_lag4w          float64\n",
       "sales_lag8w          float64\n",
       "sales_lag1y          float64\n",
       "is_payday              int64\n",
       "sf_monthly_mean      float64\n",
       "sf_yearly_mean       float64\n",
       "s_sales_median       float64\n",
       "s_sales_mean         float64\n",
       "s_sales_max          float64\n",
       "s_sales_std          float64\n",
       "city                   int64\n",
       "state                  int64\n",
       "type                   int64\n",
       "cluster                int64\n",
       "transactions_mean    float64\n",
       "transactions_std     float64\n",
       "st_ratio             float64\n",
       "c_sales_median       float64\n",
       "c_sales_mean         float64\n",
       "c_sales_max          float64\n",
       "c_sales_std          float64\n",
       "is_onpromotion         int64\n",
       "op_sales_median      float64\n",
       "op_sales_mean        float64\n",
       "op_sales_min         float64\n",
       "op_sales_max         float64\n",
       "dcoilwtico           float64\n",
       "is_national_hol        int64\n",
       "is_local_hol           int64\n",
       "is_holiday             int64\n",
       "dtype: object"
      ]
     },
     "execution_count": 6,
     "metadata": {},
     "output_type": "execute_result"
    }
   ],
   "source": [
    "# convert text columns to numbers\n",
    "label_encoder = LabelEncoder()\n",
    "\n",
    "train.city = label_encoder.fit_transform(train.city)\n",
    "train.state = label_encoder.fit_transform(train.state)\n",
    "train.cluster = label_encoder.fit_transform(train.cluster)\n",
    "train.type = label_encoder.fit_transform(train.type)\n",
    "train.family = label_encoder.fit_transform(train.family)\n",
    "train.is_national_hol = label_encoder.fit_transform(train.is_national_hol)\n",
    "train.is_local_hol = label_encoder.fit_transform(train.is_local_hol)\n",
    "train.is_holiday = label_encoder.fit_transform(train.is_holiday)\n",
    "train.is_weekend = label_encoder.fit_transform(train.is_weekend)\n",
    "train.dtypes"
   ]
  },
  {
   "cell_type": "code",
   "execution_count": 7,
   "id": "dc52a78b",
   "metadata": {
    "execution": {
     "iopub.execute_input": "2023-11-21T13:37:30.676337Z",
     "iopub.status.busy": "2023-11-21T13:37:30.675876Z",
     "iopub.status.idle": "2023-11-21T13:37:30.713824Z",
     "shell.execute_reply": "2023-11-21T13:37:30.713137Z"
    },
    "papermill": {
     "duration": 0.047779,
     "end_time": "2023-11-21T13:37:30.715839",
     "exception": false,
     "start_time": "2023-11-21T13:37:30.668060",
     "status": "completed"
    },
    "tags": []
   },
   "outputs": [],
   "source": [
    "# convert whole numbers to smaller data type \n",
    "train.store_nbr = train.store_nbr.astype('int8')\n",
    "train.month = train.month.astype('int8')\n",
    "train.day = train.day.astype('int8')\n",
    "train.weekofyear = train.weekofyear.astype('int8')\n",
    "train.dayofyear = train.dayofyear.astype('int16')\n",
    "train.year = train.year.astype('int16')\n",
    "train.family = train.family.astype('int8')\n",
    "train.onpromotion = train.onpromotion.astype('int16')\n",
    "train.is_onpromotion = train.is_onpromotion.astype('int8')\n",
    "train.dayofweek = train.dayofweek.astype('int8')\n",
    "train.city = train.city.astype('int8')\n",
    "train.state = train.state.astype('int8')\n",
    "train.type = train.type.astype('int8')\n",
    "train.cluster = train.cluster.astype('int8')\n",
    "train.is_national_hol = train.is_national_hol.astype('int8')\n",
    "train.is_local_hol = train.is_local_hol.astype('int8')\n",
    "train.is_holiday = train.is_holiday.astype('int8')\n",
    "train.is_weekend = train.is_weekend.astype('int8')\n",
    "train.is_payday = train.is_payday.astype('int8')\n",
    "train.dcoilwtico = train.dcoilwtico.astype('float32')"
   ]
  },
  {
   "cell_type": "code",
   "execution_count": 8,
   "id": "1db2a26c",
   "metadata": {
    "execution": {
     "iopub.execute_input": "2023-11-21T13:37:30.731173Z",
     "iopub.status.busy": "2023-11-21T13:37:30.730880Z",
     "iopub.status.idle": "2023-11-21T13:37:30.863443Z",
     "shell.execute_reply": "2023-11-21T13:37:30.862611Z"
    },
    "papermill": {
     "duration": 0.141886,
     "end_time": "2023-11-21T13:37:30.865081",
     "exception": false,
     "start_time": "2023-11-21T13:37:30.723195",
     "status": "completed"
    },
    "tags": []
   },
   "outputs": [
    {
     "data": {
      "text/plain": [
       "id                   0\n",
       "date                 0\n",
       "store_nbr            0\n",
       "family               0\n",
       "sales                0\n",
       "onpromotion          0\n",
       "year                 0\n",
       "month                0\n",
       "day                  0\n",
       "dayofweek            0\n",
       "dayofyear            0\n",
       "weekofyear           0\n",
       "is_weekend           0\n",
       "weekIdContinous      0\n",
       "sales_lag2w          0\n",
       "sales_lag4w          0\n",
       "sales_lag8w          0\n",
       "sales_lag1y          0\n",
       "is_payday            0\n",
       "sf_monthly_mean      0\n",
       "sf_yearly_mean       0\n",
       "s_sales_median       0\n",
       "s_sales_mean         0\n",
       "s_sales_max          0\n",
       "s_sales_std          0\n",
       "city                 0\n",
       "state                0\n",
       "type                 0\n",
       "cluster              0\n",
       "transactions_mean    0\n",
       "transactions_std     0\n",
       "st_ratio             0\n",
       "c_sales_median       0\n",
       "c_sales_mean         0\n",
       "c_sales_max          0\n",
       "c_sales_std          0\n",
       "is_onpromotion       0\n",
       "op_sales_median      0\n",
       "op_sales_mean        0\n",
       "op_sales_min         0\n",
       "op_sales_max         0\n",
       "dcoilwtico           0\n",
       "is_national_hol      0\n",
       "is_local_hol         0\n",
       "is_holiday           0\n",
       "dtype: int64"
      ]
     },
     "execution_count": 8,
     "metadata": {},
     "output_type": "execute_result"
    }
   ],
   "source": [
    "train.isna().sum()"
   ]
  },
  {
   "cell_type": "code",
   "execution_count": 9,
   "id": "6413b2bd",
   "metadata": {
    "execution": {
     "iopub.execute_input": "2023-11-21T13:37:30.880247Z",
     "iopub.status.busy": "2023-11-21T13:37:30.879968Z",
     "iopub.status.idle": "2023-11-21T13:37:30.892650Z",
     "shell.execute_reply": "2023-11-21T13:37:30.891918Z"
    },
    "papermill": {
     "duration": 0.021873,
     "end_time": "2023-11-21T13:37:30.894167",
     "exception": false,
     "start_time": "2023-11-21T13:37:30.872294",
     "status": "completed"
    },
    "tags": []
   },
   "outputs": [
    {
     "data": {
      "text/plain": [
       "(28512, 45)"
      ]
     },
     "execution_count": 9,
     "metadata": {},
     "output_type": "execute_result"
    }
   ],
   "source": [
    "# split train and test again\n",
    "test = train.loc[train.id >= 3000888]\n",
    "test.shape"
   ]
  },
  {
   "cell_type": "code",
   "execution_count": 10,
   "id": "c72bbd0b",
   "metadata": {
    "execution": {
     "iopub.execute_input": "2023-11-21T13:37:30.909662Z",
     "iopub.status.busy": "2023-11-21T13:37:30.909422Z",
     "iopub.status.idle": "2023-11-21T13:37:31.236994Z",
     "shell.execute_reply": "2023-11-21T13:37:31.236019Z"
    },
    "papermill": {
     "duration": 0.337331,
     "end_time": "2023-11-21T13:37:31.238844",
     "exception": false,
     "start_time": "2023-11-21T13:37:30.901513",
     "status": "completed"
    },
    "tags": []
   },
   "outputs": [
    {
     "data": {
      "text/plain": [
       "(2361414, 45)"
      ]
     },
     "execution_count": 10,
     "metadata": {},
     "output_type": "execute_result"
    }
   ],
   "source": [
    "train = train.loc[train.id < 3000888]\n",
    "train.shape"
   ]
  },
  {
   "cell_type": "markdown",
   "id": "13726400",
   "metadata": {
    "papermill": {
     "duration": 0.007233,
     "end_time": "2023-11-21T13:37:31.253731",
     "exception": false,
     "start_time": "2023-11-21T13:37:31.246498",
     "status": "completed"
    },
    "tags": []
   },
   "source": [
    "# Model: Ridge Regression (regularized Regression)"
   ]
  },
  {
   "cell_type": "code",
   "execution_count": 11,
   "id": "a96b67a0",
   "metadata": {
    "execution": {
     "iopub.execute_input": "2023-11-21T13:37:31.269889Z",
     "iopub.status.busy": "2023-11-21T13:37:31.269556Z",
     "iopub.status.idle": "2023-11-21T13:37:31.273570Z",
     "shell.execute_reply": "2023-11-21T13:37:31.272828Z"
    },
    "papermill": {
     "duration": 0.013997,
     "end_time": "2023-11-21T13:37:31.275247",
     "exception": false,
     "start_time": "2023-11-21T13:37:31.261250",
     "status": "completed"
    },
    "tags": []
   },
   "outputs": [],
   "source": [
    "columns_to_drop = ['sales','id','date','is_national_hol','is_local_hol']"
   ]
  },
  {
   "cell_type": "code",
   "execution_count": 12,
   "id": "8a894699",
   "metadata": {
    "execution": {
     "iopub.execute_input": "2023-11-21T13:37:31.291308Z",
     "iopub.status.busy": "2023-11-21T13:37:31.291033Z",
     "iopub.status.idle": "2023-11-21T13:37:32.019360Z",
     "shell.execute_reply": "2023-11-21T13:37:32.018488Z"
    },
    "papermill": {
     "duration": 0.738376,
     "end_time": "2023-11-21T13:37:32.021208",
     "exception": false,
     "start_time": "2023-11-21T13:37:31.282832",
     "status": "completed"
    },
    "tags": []
   },
   "outputs": [],
   "source": [
    "# create validation set based on time, I use 2 weeks because the test set is 2 weeks\n",
    "#train.date.max()\n",
    "X_train = train.loc[train.date < '2017-08-01']\n",
    "X_train.tail()\n",
    "y_train = X_train.sales\n",
    "X_train = X_train.drop(columns_to_drop, axis = 1)\n",
    "X_val = train.loc[train.date >= '2017-08-01']\n",
    "y_val = X_val.sales\n",
    "X_val = X_val.drop(columns_to_drop, axis = 1)"
   ]
  },
  {
   "cell_type": "code",
   "execution_count": 13,
   "id": "c26d4c1d",
   "metadata": {
    "execution": {
     "iopub.execute_input": "2023-11-21T13:37:32.037174Z",
     "iopub.status.busy": "2023-11-21T13:37:32.036849Z",
     "iopub.status.idle": "2023-11-21T13:37:32.053979Z",
     "shell.execute_reply": "2023-11-21T13:37:32.053264Z"
    },
    "papermill": {
     "duration": 0.026976,
     "end_time": "2023-11-21T13:37:32.055755",
     "exception": false,
     "start_time": "2023-11-21T13:37:32.028779",
     "status": "completed"
    },
    "tags": []
   },
   "outputs": [
    {
     "data": {
      "text/html": [
       "<div>\n",
       "<style scoped>\n",
       "    .dataframe tbody tr th:only-of-type {\n",
       "        vertical-align: middle;\n",
       "    }\n",
       "\n",
       "    .dataframe tbody tr th {\n",
       "        vertical-align: top;\n",
       "    }\n",
       "\n",
       "    .dataframe thead th {\n",
       "        text-align: right;\n",
       "    }\n",
       "</style>\n",
       "<table border=\"1\" class=\"dataframe\">\n",
       "  <thead>\n",
       "    <tr style=\"text-align: right;\">\n",
       "      <th></th>\n",
       "      <th>store_nbr</th>\n",
       "      <th>family</th>\n",
       "      <th>onpromotion</th>\n",
       "      <th>year</th>\n",
       "      <th>month</th>\n",
       "      <th>day</th>\n",
       "      <th>dayofweek</th>\n",
       "      <th>dayofyear</th>\n",
       "      <th>weekofyear</th>\n",
       "      <th>is_weekend</th>\n",
       "      <th>...</th>\n",
       "      <th>c_sales_mean</th>\n",
       "      <th>c_sales_max</th>\n",
       "      <th>c_sales_std</th>\n",
       "      <th>is_onpromotion</th>\n",
       "      <th>op_sales_median</th>\n",
       "      <th>op_sales_mean</th>\n",
       "      <th>op_sales_min</th>\n",
       "      <th>op_sales_max</th>\n",
       "      <th>dcoilwtico</th>\n",
       "      <th>is_holiday</th>\n",
       "    </tr>\n",
       "  </thead>\n",
       "  <tbody>\n",
       "    <tr>\n",
       "      <th>2334684</th>\n",
       "      <td>1</td>\n",
       "      <td>0</td>\n",
       "      <td>0</td>\n",
       "      <td>2017</td>\n",
       "      <td>8</td>\n",
       "      <td>1</td>\n",
       "      <td>1</td>\n",
       "      <td>213</td>\n",
       "      <td>31</td>\n",
       "      <td>0</td>\n",
       "      <td>...</td>\n",
       "      <td>6.491400</td>\n",
       "      <td>255.0</td>\n",
       "      <td>6.250549</td>\n",
       "      <td>0</td>\n",
       "      <td>3.0</td>\n",
       "      <td>3.542113</td>\n",
       "      <td>0.0</td>\n",
       "      <td>19.0</td>\n",
       "      <td>49.189999</td>\n",
       "      <td>0</td>\n",
       "    </tr>\n",
       "    <tr>\n",
       "      <th>2334685</th>\n",
       "      <td>1</td>\n",
       "      <td>1</td>\n",
       "      <td>0</td>\n",
       "      <td>2017</td>\n",
       "      <td>8</td>\n",
       "      <td>1</td>\n",
       "      <td>1</td>\n",
       "      <td>213</td>\n",
       "      <td>31</td>\n",
       "      <td>0</td>\n",
       "      <td>...</td>\n",
       "      <td>0.141260</td>\n",
       "      <td>116.0</td>\n",
       "      <td>0.766963</td>\n",
       "      <td>0</td>\n",
       "      <td>0.0</td>\n",
       "      <td>0.000000</td>\n",
       "      <td>0.0</td>\n",
       "      <td>0.0</td>\n",
       "      <td>49.189999</td>\n",
       "      <td>0</td>\n",
       "    </tr>\n",
       "    <tr>\n",
       "      <th>2334686</th>\n",
       "      <td>1</td>\n",
       "      <td>2</td>\n",
       "      <td>0</td>\n",
       "      <td>2017</td>\n",
       "      <td>8</td>\n",
       "      <td>1</td>\n",
       "      <td>1</td>\n",
       "      <td>213</td>\n",
       "      <td>31</td>\n",
       "      <td>0</td>\n",
       "      <td>...</td>\n",
       "      <td>4.076740</td>\n",
       "      <td>136.0</td>\n",
       "      <td>5.110346</td>\n",
       "      <td>0</td>\n",
       "      <td>2.0</td>\n",
       "      <td>2.263397</td>\n",
       "      <td>0.0</td>\n",
       "      <td>11.0</td>\n",
       "      <td>49.189999</td>\n",
       "      <td>0</td>\n",
       "    </tr>\n",
       "    <tr>\n",
       "      <th>2334687</th>\n",
       "      <td>1</td>\n",
       "      <td>3</td>\n",
       "      <td>26</td>\n",
       "      <td>2017</td>\n",
       "      <td>8</td>\n",
       "      <td>1</td>\n",
       "      <td>1</td>\n",
       "      <td>213</td>\n",
       "      <td>31</td>\n",
       "      <td>0</td>\n",
       "      <td>...</td>\n",
       "      <td>2738.754588</td>\n",
       "      <td>25413.0</td>\n",
       "      <td>2431.441640</td>\n",
       "      <td>1</td>\n",
       "      <td>2097.0</td>\n",
       "      <td>1942.677134</td>\n",
       "      <td>325.0</td>\n",
       "      <td>5051.0</td>\n",
       "      <td>49.189999</td>\n",
       "      <td>0</td>\n",
       "    </tr>\n",
       "    <tr>\n",
       "      <th>2334688</th>\n",
       "      <td>1</td>\n",
       "      <td>4</td>\n",
       "      <td>0</td>\n",
       "      <td>2017</td>\n",
       "      <td>8</td>\n",
       "      <td>1</td>\n",
       "      <td>1</td>\n",
       "      <td>213</td>\n",
       "      <td>31</td>\n",
       "      <td>0</td>\n",
       "      <td>...</td>\n",
       "      <td>0.090614</td>\n",
       "      <td>51.0</td>\n",
       "      <td>0.618165</td>\n",
       "      <td>0</td>\n",
       "      <td>0.0</td>\n",
       "      <td>0.159848</td>\n",
       "      <td>0.0</td>\n",
       "      <td>8.0</td>\n",
       "      <td>49.189999</td>\n",
       "      <td>0</td>\n",
       "    </tr>\n",
       "  </tbody>\n",
       "</table>\n",
       "<p>5 rows × 40 columns</p>\n",
       "</div>"
      ],
      "text/plain": [
       "         store_nbr  family  onpromotion  year  month  day  dayofweek  \\\n",
       "2334684          1       0            0  2017      8    1          1   \n",
       "2334685          1       1            0  2017      8    1          1   \n",
       "2334686          1       2            0  2017      8    1          1   \n",
       "2334687          1       3           26  2017      8    1          1   \n",
       "2334688          1       4            0  2017      8    1          1   \n",
       "\n",
       "         dayofyear  weekofyear  is_weekend  ...  c_sales_mean  c_sales_max  \\\n",
       "2334684        213          31           0  ...      6.491400        255.0   \n",
       "2334685        213          31           0  ...      0.141260        116.0   \n",
       "2334686        213          31           0  ...      4.076740        136.0   \n",
       "2334687        213          31           0  ...   2738.754588      25413.0   \n",
       "2334688        213          31           0  ...      0.090614         51.0   \n",
       "\n",
       "         c_sales_std  is_onpromotion  op_sales_median  op_sales_mean  \\\n",
       "2334684     6.250549               0              3.0       3.542113   \n",
       "2334685     0.766963               0              0.0       0.000000   \n",
       "2334686     5.110346               0              2.0       2.263397   \n",
       "2334687  2431.441640               1           2097.0    1942.677134   \n",
       "2334688     0.618165               0              0.0       0.159848   \n",
       "\n",
       "         op_sales_min  op_sales_max  dcoilwtico  is_holiday  \n",
       "2334684           0.0          19.0   49.189999           0  \n",
       "2334685           0.0           0.0   49.189999           0  \n",
       "2334686           0.0          11.0   49.189999           0  \n",
       "2334687         325.0        5051.0   49.189999           0  \n",
       "2334688           0.0           8.0   49.189999           0  \n",
       "\n",
       "[5 rows x 40 columns]"
      ]
     },
     "execution_count": 13,
     "metadata": {},
     "output_type": "execute_result"
    }
   ],
   "source": [
    "X_val.head()"
   ]
  },
  {
   "cell_type": "code",
   "execution_count": 14,
   "id": "42580e0d",
   "metadata": {
    "execution": {
     "iopub.execute_input": "2023-11-21T13:37:32.072348Z",
     "iopub.status.busy": "2023-11-21T13:37:32.072045Z",
     "iopub.status.idle": "2023-11-21T13:37:32.644251Z",
     "shell.execute_reply": "2023-11-21T13:37:32.642839Z"
    },
    "papermill": {
     "duration": 0.583117,
     "end_time": "2023-11-21T13:37:32.646744",
     "exception": false,
     "start_time": "2023-11-21T13:37:32.063627",
     "status": "completed"
    },
    "tags": []
   },
   "outputs": [
    {
     "data": {
      "text/html": [
       "<style>#sk-container-id-1 {color: black;background-color: white;}#sk-container-id-1 pre{padding: 0;}#sk-container-id-1 div.sk-toggleable {background-color: white;}#sk-container-id-1 label.sk-toggleable__label {cursor: pointer;display: block;width: 100%;margin-bottom: 0;padding: 0.3em;box-sizing: border-box;text-align: center;}#sk-container-id-1 label.sk-toggleable__label-arrow:before {content: \"▸\";float: left;margin-right: 0.25em;color: #696969;}#sk-container-id-1 label.sk-toggleable__label-arrow:hover:before {color: black;}#sk-container-id-1 div.sk-estimator:hover label.sk-toggleable__label-arrow:before {color: black;}#sk-container-id-1 div.sk-toggleable__content {max-height: 0;max-width: 0;overflow: hidden;text-align: left;background-color: #f0f8ff;}#sk-container-id-1 div.sk-toggleable__content pre {margin: 0.2em;color: black;border-radius: 0.25em;background-color: #f0f8ff;}#sk-container-id-1 input.sk-toggleable__control:checked~div.sk-toggleable__content {max-height: 200px;max-width: 100%;overflow: auto;}#sk-container-id-1 input.sk-toggleable__control:checked~label.sk-toggleable__label-arrow:before {content: \"▾\";}#sk-container-id-1 div.sk-estimator input.sk-toggleable__control:checked~label.sk-toggleable__label {background-color: #d4ebff;}#sk-container-id-1 div.sk-label input.sk-toggleable__control:checked~label.sk-toggleable__label {background-color: #d4ebff;}#sk-container-id-1 input.sk-hidden--visually {border: 0;clip: rect(1px 1px 1px 1px);clip: rect(1px, 1px, 1px, 1px);height: 1px;margin: -1px;overflow: hidden;padding: 0;position: absolute;width: 1px;}#sk-container-id-1 div.sk-estimator {font-family: monospace;background-color: #f0f8ff;border: 1px dotted black;border-radius: 0.25em;box-sizing: border-box;margin-bottom: 0.5em;}#sk-container-id-1 div.sk-estimator:hover {background-color: #d4ebff;}#sk-container-id-1 div.sk-parallel-item::after {content: \"\";width: 100%;border-bottom: 1px solid gray;flex-grow: 1;}#sk-container-id-1 div.sk-label:hover label.sk-toggleable__label {background-color: #d4ebff;}#sk-container-id-1 div.sk-serial::before {content: \"\";position: absolute;border-left: 1px solid gray;box-sizing: border-box;top: 0;bottom: 0;left: 50%;z-index: 0;}#sk-container-id-1 div.sk-serial {display: flex;flex-direction: column;align-items: center;background-color: white;padding-right: 0.2em;padding-left: 0.2em;position: relative;}#sk-container-id-1 div.sk-item {position: relative;z-index: 1;}#sk-container-id-1 div.sk-parallel {display: flex;align-items: stretch;justify-content: center;background-color: white;position: relative;}#sk-container-id-1 div.sk-item::before, #sk-container-id-1 div.sk-parallel-item::before {content: \"\";position: absolute;border-left: 1px solid gray;box-sizing: border-box;top: 0;bottom: 0;left: 50%;z-index: -1;}#sk-container-id-1 div.sk-parallel-item {display: flex;flex-direction: column;z-index: 1;position: relative;background-color: white;}#sk-container-id-1 div.sk-parallel-item:first-child::after {align-self: flex-end;width: 50%;}#sk-container-id-1 div.sk-parallel-item:last-child::after {align-self: flex-start;width: 50%;}#sk-container-id-1 div.sk-parallel-item:only-child::after {width: 0;}#sk-container-id-1 div.sk-dashed-wrapped {border: 1px dashed gray;margin: 0 0.4em 0.5em 0.4em;box-sizing: border-box;padding-bottom: 0.4em;background-color: white;}#sk-container-id-1 div.sk-label label {font-family: monospace;font-weight: bold;display: inline-block;line-height: 1.2em;}#sk-container-id-1 div.sk-label-container {text-align: center;}#sk-container-id-1 div.sk-container {/* jupyter's `normalize.less` sets `[hidden] { display: none; }` but bootstrap.min.css set `[hidden] { display: none !important; }` so we also need the `!important` here to be able to override the default hidden behavior on the sphinx rendered scikit-learn.org. See: https://github.com/scikit-learn/scikit-learn/issues/21755 */display: inline-block !important;position: relative;}#sk-container-id-1 div.sk-text-repr-fallback {display: none;}</style><div id=\"sk-container-id-1\" class=\"sk-top-container\"><div class=\"sk-text-repr-fallback\"><pre>Ridge(alpha=100)</pre><b>In a Jupyter environment, please rerun this cell to show the HTML representation or trust the notebook. <br />On GitHub, the HTML representation is unable to render, please try loading this page with nbviewer.org.</b></div><div class=\"sk-container\" hidden><div class=\"sk-item\"><div class=\"sk-estimator sk-toggleable\"><input class=\"sk-toggleable__control sk-hidden--visually\" id=\"sk-estimator-id-1\" type=\"checkbox\" checked><label for=\"sk-estimator-id-1\" class=\"sk-toggleable__label sk-toggleable__label-arrow\">Ridge</label><div class=\"sk-toggleable__content\"><pre>Ridge(alpha=100)</pre></div></div></div></div></div>"
      ],
      "text/plain": [
       "Ridge(alpha=100)"
      ]
     },
     "execution_count": 14,
     "metadata": {},
     "output_type": "execute_result"
    }
   ],
   "source": [
    "regr = linear_model.Ridge(alpha= 100 )\n",
    "regr.fit(X_train, y_train)"
   ]
  },
  {
   "cell_type": "markdown",
   "id": "3cb2da34",
   "metadata": {
    "papermill": {
     "duration": 0.009872,
     "end_time": "2023-11-21T13:37:32.667016",
     "exception": false,
     "start_time": "2023-11-21T13:37:32.657144",
     "status": "completed"
    },
    "tags": []
   },
   "source": [
    "I just tested a few alphas manually...."
   ]
  },
  {
   "cell_type": "code",
   "execution_count": 15,
   "id": "f912bc30",
   "metadata": {
    "execution": {
     "iopub.execute_input": "2023-11-21T13:37:32.688531Z",
     "iopub.status.busy": "2023-11-21T13:37:32.688211Z",
     "iopub.status.idle": "2023-11-21T13:37:32.696341Z",
     "shell.execute_reply": "2023-11-21T13:37:32.695601Z"
    },
    "papermill": {
     "duration": 0.020881,
     "end_time": "2023-11-21T13:37:32.698063",
     "exception": false,
     "start_time": "2023-11-21T13:37:32.677182",
     "status": "completed"
    },
    "tags": []
   },
   "outputs": [],
   "source": [
    "preds = regr.predict(X_val)"
   ]
  },
  {
   "cell_type": "code",
   "execution_count": 16,
   "id": "44a8f64f",
   "metadata": {
    "execution": {
     "iopub.execute_input": "2023-11-21T13:37:32.720130Z",
     "iopub.status.busy": "2023-11-21T13:37:32.719768Z",
     "iopub.status.idle": "2023-11-21T13:37:32.725464Z",
     "shell.execute_reply": "2023-11-21T13:37:32.724684Z"
    },
    "papermill": {
     "duration": 0.018631,
     "end_time": "2023-11-21T13:37:32.727530",
     "exception": false,
     "start_time": "2023-11-21T13:37:32.708899",
     "status": "completed"
    },
    "tags": []
   },
   "outputs": [
    {
     "data": {
      "text/plain": [
       "-29.67895323166158"
      ]
     },
     "execution_count": 16,
     "metadata": {},
     "output_type": "execute_result"
    }
   ],
   "source": [
    "preds.min()"
   ]
  },
  {
   "cell_type": "code",
   "execution_count": 17,
   "id": "f280f662",
   "metadata": {
    "execution": {
     "iopub.execute_input": "2023-11-21T13:37:32.749129Z",
     "iopub.status.busy": "2023-11-21T13:37:32.748791Z",
     "iopub.status.idle": "2023-11-21T13:37:32.752802Z",
     "shell.execute_reply": "2023-11-21T13:37:32.752029Z"
    },
    "papermill": {
     "duration": 0.016773,
     "end_time": "2023-11-21T13:37:32.754658",
     "exception": false,
     "start_time": "2023-11-21T13:37:32.737885",
     "status": "completed"
    },
    "tags": []
   },
   "outputs": [],
   "source": [
    "preds = preds.clip(0,15000)"
   ]
  },
  {
   "cell_type": "code",
   "execution_count": 18,
   "id": "0bc03ee4",
   "metadata": {
    "execution": {
     "iopub.execute_input": "2023-11-21T13:37:32.776456Z",
     "iopub.status.busy": "2023-11-21T13:37:32.776153Z",
     "iopub.status.idle": "2023-11-21T13:37:32.786011Z",
     "shell.execute_reply": "2023-11-21T13:37:32.785375Z"
    },
    "papermill": {
     "duration": 0.023161,
     "end_time": "2023-11-21T13:37:32.787997",
     "exception": false,
     "start_time": "2023-11-21T13:37:32.764836",
     "status": "completed"
    },
    "tags": []
   },
   "outputs": [
    {
     "data": {
      "text/plain": [
       "1.3111349314762322"
      ]
     },
     "execution_count": 18,
     "metadata": {},
     "output_type": "execute_result"
    }
   ],
   "source": [
    "rmsle_val = mean_squared_log_error(preds,y_val,squared=False)\n",
    "rmsle_val"
   ]
  },
  {
   "cell_type": "code",
   "execution_count": 19,
   "id": "62583ead",
   "metadata": {
    "execution": {
     "iopub.execute_input": "2023-11-21T13:37:32.810004Z",
     "iopub.status.busy": "2023-11-21T13:37:32.809667Z",
     "iopub.status.idle": "2023-11-21T13:37:33.560151Z",
     "shell.execute_reply": "2023-11-21T13:37:33.559162Z"
    },
    "papermill": {
     "duration": 0.764262,
     "end_time": "2023-11-21T13:37:33.562721",
     "exception": false,
     "start_time": "2023-11-21T13:37:32.798459",
     "status": "completed"
    },
    "tags": []
   },
   "outputs": [
    {
     "data": {
      "text/html": [
       "<style>#sk-container-id-2 {color: black;background-color: white;}#sk-container-id-2 pre{padding: 0;}#sk-container-id-2 div.sk-toggleable {background-color: white;}#sk-container-id-2 label.sk-toggleable__label {cursor: pointer;display: block;width: 100%;margin-bottom: 0;padding: 0.3em;box-sizing: border-box;text-align: center;}#sk-container-id-2 label.sk-toggleable__label-arrow:before {content: \"▸\";float: left;margin-right: 0.25em;color: #696969;}#sk-container-id-2 label.sk-toggleable__label-arrow:hover:before {color: black;}#sk-container-id-2 div.sk-estimator:hover label.sk-toggleable__label-arrow:before {color: black;}#sk-container-id-2 div.sk-toggleable__content {max-height: 0;max-width: 0;overflow: hidden;text-align: left;background-color: #f0f8ff;}#sk-container-id-2 div.sk-toggleable__content pre {margin: 0.2em;color: black;border-radius: 0.25em;background-color: #f0f8ff;}#sk-container-id-2 input.sk-toggleable__control:checked~div.sk-toggleable__content {max-height: 200px;max-width: 100%;overflow: auto;}#sk-container-id-2 input.sk-toggleable__control:checked~label.sk-toggleable__label-arrow:before {content: \"▾\";}#sk-container-id-2 div.sk-estimator input.sk-toggleable__control:checked~label.sk-toggleable__label {background-color: #d4ebff;}#sk-container-id-2 div.sk-label input.sk-toggleable__control:checked~label.sk-toggleable__label {background-color: #d4ebff;}#sk-container-id-2 input.sk-hidden--visually {border: 0;clip: rect(1px 1px 1px 1px);clip: rect(1px, 1px, 1px, 1px);height: 1px;margin: -1px;overflow: hidden;padding: 0;position: absolute;width: 1px;}#sk-container-id-2 div.sk-estimator {font-family: monospace;background-color: #f0f8ff;border: 1px dotted black;border-radius: 0.25em;box-sizing: border-box;margin-bottom: 0.5em;}#sk-container-id-2 div.sk-estimator:hover {background-color: #d4ebff;}#sk-container-id-2 div.sk-parallel-item::after {content: \"\";width: 100%;border-bottom: 1px solid gray;flex-grow: 1;}#sk-container-id-2 div.sk-label:hover label.sk-toggleable__label {background-color: #d4ebff;}#sk-container-id-2 div.sk-serial::before {content: \"\";position: absolute;border-left: 1px solid gray;box-sizing: border-box;top: 0;bottom: 0;left: 50%;z-index: 0;}#sk-container-id-2 div.sk-serial {display: flex;flex-direction: column;align-items: center;background-color: white;padding-right: 0.2em;padding-left: 0.2em;position: relative;}#sk-container-id-2 div.sk-item {position: relative;z-index: 1;}#sk-container-id-2 div.sk-parallel {display: flex;align-items: stretch;justify-content: center;background-color: white;position: relative;}#sk-container-id-2 div.sk-item::before, #sk-container-id-2 div.sk-parallel-item::before {content: \"\";position: absolute;border-left: 1px solid gray;box-sizing: border-box;top: 0;bottom: 0;left: 50%;z-index: -1;}#sk-container-id-2 div.sk-parallel-item {display: flex;flex-direction: column;z-index: 1;position: relative;background-color: white;}#sk-container-id-2 div.sk-parallel-item:first-child::after {align-self: flex-end;width: 50%;}#sk-container-id-2 div.sk-parallel-item:last-child::after {align-self: flex-start;width: 50%;}#sk-container-id-2 div.sk-parallel-item:only-child::after {width: 0;}#sk-container-id-2 div.sk-dashed-wrapped {border: 1px dashed gray;margin: 0 0.4em 0.5em 0.4em;box-sizing: border-box;padding-bottom: 0.4em;background-color: white;}#sk-container-id-2 div.sk-label label {font-family: monospace;font-weight: bold;display: inline-block;line-height: 1.2em;}#sk-container-id-2 div.sk-label-container {text-align: center;}#sk-container-id-2 div.sk-container {/* jupyter's `normalize.less` sets `[hidden] { display: none; }` but bootstrap.min.css set `[hidden] { display: none !important; }` so we also need the `!important` here to be able to override the default hidden behavior on the sphinx rendered scikit-learn.org. See: https://github.com/scikit-learn/scikit-learn/issues/21755 */display: inline-block !important;position: relative;}#sk-container-id-2 div.sk-text-repr-fallback {display: none;}</style><div id=\"sk-container-id-2\" class=\"sk-top-container\"><div class=\"sk-text-repr-fallback\"><pre>Ridge(alpha=100)</pre><b>In a Jupyter environment, please rerun this cell to show the HTML representation or trust the notebook. <br />On GitHub, the HTML representation is unable to render, please try loading this page with nbviewer.org.</b></div><div class=\"sk-container\" hidden><div class=\"sk-item\"><div class=\"sk-estimator sk-toggleable\"><input class=\"sk-toggleable__control sk-hidden--visually\" id=\"sk-estimator-id-2\" type=\"checkbox\" checked><label for=\"sk-estimator-id-2\" class=\"sk-toggleable__label sk-toggleable__label-arrow\">Ridge</label><div class=\"sk-toggleable__content\"><pre>Ridge(alpha=100)</pre></div></div></div></div></div>"
      ],
      "text/plain": [
       "Ridge(alpha=100)"
      ]
     },
     "execution_count": 19,
     "metadata": {},
     "output_type": "execute_result"
    }
   ],
   "source": [
    "# retrain on whole data\n",
    "regr.fit(train.drop(columns = columns_to_drop),train.sales)"
   ]
  },
  {
   "cell_type": "code",
   "execution_count": 20,
   "id": "d7d7ce55",
   "metadata": {
    "execution": {
     "iopub.execute_input": "2023-11-21T13:37:33.585954Z",
     "iopub.status.busy": "2023-11-21T13:37:33.585668Z",
     "iopub.status.idle": "2023-11-21T13:37:33.597015Z",
     "shell.execute_reply": "2023-11-21T13:37:33.596390Z"
    },
    "papermill": {
     "duration": 0.024593,
     "end_time": "2023-11-21T13:37:33.598651",
     "exception": false,
     "start_time": "2023-11-21T13:37:33.574058",
     "status": "completed"
    },
    "tags": []
   },
   "outputs": [],
   "source": [
    "preds = regr.predict(test.drop(columns = columns_to_drop))"
   ]
  },
  {
   "cell_type": "code",
   "execution_count": 21,
   "id": "13334b31",
   "metadata": {
    "execution": {
     "iopub.execute_input": "2023-11-21T13:37:33.620130Z",
     "iopub.status.busy": "2023-11-21T13:37:33.619832Z",
     "iopub.status.idle": "2023-11-21T13:37:33.624467Z",
     "shell.execute_reply": "2023-11-21T13:37:33.623892Z"
    },
    "papermill": {
     "duration": 0.017276,
     "end_time": "2023-11-21T13:37:33.626255",
     "exception": false,
     "start_time": "2023-11-21T13:37:33.608979",
     "status": "completed"
    },
    "tags": []
   },
   "outputs": [
    {
     "data": {
      "text/plain": [
       "-63.85977796759107"
      ]
     },
     "execution_count": 21,
     "metadata": {},
     "output_type": "execute_result"
    }
   ],
   "source": [
    "preds.min()"
   ]
  },
  {
   "cell_type": "code",
   "execution_count": 22,
   "id": "4a83ef7a",
   "metadata": {
    "execution": {
     "iopub.execute_input": "2023-11-21T13:37:33.648130Z",
     "iopub.status.busy": "2023-11-21T13:37:33.647838Z",
     "iopub.status.idle": "2023-11-21T13:37:33.651442Z",
     "shell.execute_reply": "2023-11-21T13:37:33.650820Z"
    },
    "papermill": {
     "duration": 0.017739,
     "end_time": "2023-11-21T13:37:33.654388",
     "exception": false,
     "start_time": "2023-11-21T13:37:33.636649",
     "status": "completed"
    },
    "tags": []
   },
   "outputs": [],
   "source": [
    "preds = preds.clip(0,15000)"
   ]
  },
  {
   "cell_type": "code",
   "execution_count": 23,
   "id": "a514e774",
   "metadata": {
    "execution": {
     "iopub.execute_input": "2023-11-21T13:37:33.677436Z",
     "iopub.status.busy": "2023-11-21T13:37:33.677097Z",
     "iopub.status.idle": "2023-11-21T13:37:33.682818Z",
     "shell.execute_reply": "2023-11-21T13:37:33.682185Z"
    },
    "papermill": {
     "duration": 0.021627,
     "end_time": "2023-11-21T13:37:33.687162",
     "exception": false,
     "start_time": "2023-11-21T13:37:33.665535",
     "status": "completed"
    },
    "tags": []
   },
   "outputs": [
    {
     "data": {
      "text/plain": [
       "array([ 2.25993366e-02, -1.40625310e-02,  3.07642930e-02,  6.71039744e+01,\n",
       "        1.38436130e+02,  2.63106558e+00, -1.09347661e+00, -3.98802093e+00,\n",
       "       -2.82318510e+00,  6.98622811e+01, -1.31865995e+00,  2.09969335e-01,\n",
       "        1.48374998e-01,  1.70313194e-01,  5.53799244e-02,  4.89580673e+00,\n",
       "        7.29438308e-01, -3.62520537e-01,  4.46604920e-02, -5.71757100e-02,\n",
       "       -3.01044580e-05,  2.17016527e-02,  2.32090970e-02, -9.97316386e-03,\n",
       "        2.56806985e-01,  2.19111582e-02,  8.31676736e-04,  1.89379586e-03,\n",
       "        1.28205749e+00,  2.48939552e-02, -4.98132743e-02, -1.96404594e-04,\n",
       "        4.25362734e-02,  5.84704231e+00,  4.27436029e-02,  2.40951133e-02,\n",
       "       -5.38703790e-03,  3.69828228e-04,  1.67442141e-01,  3.26683477e+01])"
      ]
     },
     "execution_count": 23,
     "metadata": {},
     "output_type": "execute_result"
    }
   ],
   "source": [
    "regr.coef_"
   ]
  },
  {
   "cell_type": "code",
   "execution_count": 24,
   "id": "51e45113",
   "metadata": {
    "execution": {
     "iopub.execute_input": "2023-11-21T13:37:33.709257Z",
     "iopub.status.busy": "2023-11-21T13:37:33.708949Z",
     "iopub.status.idle": "2023-11-21T13:37:33.916962Z",
     "shell.execute_reply": "2023-11-21T13:37:33.916336Z"
    },
    "papermill": {
     "duration": 0.220968,
     "end_time": "2023-11-21T13:37:33.918776",
     "exception": false,
     "start_time": "2023-11-21T13:37:33.697808",
     "status": "completed"
    },
    "tags": []
   },
   "outputs": [],
   "source": [
    "features = train.drop(columns = columns_to_drop).columns"
   ]
  },
  {
   "cell_type": "code",
   "execution_count": 25,
   "id": "af4bc31c",
   "metadata": {
    "execution": {
     "iopub.execute_input": "2023-11-21T13:37:33.974168Z",
     "iopub.status.busy": "2023-11-21T13:37:33.973666Z",
     "iopub.status.idle": "2023-11-21T13:37:33.983743Z",
     "shell.execute_reply": "2023-11-21T13:37:33.983035Z"
    },
    "papermill": {
     "duration": 0.020993,
     "end_time": "2023-11-21T13:37:33.985254",
     "exception": false,
     "start_time": "2023-11-21T13:37:33.964261",
     "status": "completed"
    },
    "tags": []
   },
   "outputs": [
    {
     "data": {
      "text/html": [
       "<div>\n",
       "<style scoped>\n",
       "    .dataframe tbody tr th:only-of-type {\n",
       "        vertical-align: middle;\n",
       "    }\n",
       "\n",
       "    .dataframe tbody tr th {\n",
       "        vertical-align: top;\n",
       "    }\n",
       "\n",
       "    .dataframe thead th {\n",
       "        text-align: right;\n",
       "    }\n",
       "</style>\n",
       "<table border=\"1\" class=\"dataframe\">\n",
       "  <thead>\n",
       "    <tr style=\"text-align: right;\">\n",
       "      <th></th>\n",
       "      <th>features</th>\n",
       "      <th>coef</th>\n",
       "    </tr>\n",
       "  </thead>\n",
       "  <tbody>\n",
       "    <tr>\n",
       "      <th>0</th>\n",
       "      <td>store_nbr</td>\n",
       "      <td>0.022599</td>\n",
       "    </tr>\n",
       "    <tr>\n",
       "      <th>1</th>\n",
       "      <td>family</td>\n",
       "      <td>-0.014063</td>\n",
       "    </tr>\n",
       "    <tr>\n",
       "      <th>2</th>\n",
       "      <td>onpromotion</td>\n",
       "      <td>0.030764</td>\n",
       "    </tr>\n",
       "    <tr>\n",
       "      <th>3</th>\n",
       "      <td>year</td>\n",
       "      <td>67.103974</td>\n",
       "    </tr>\n",
       "    <tr>\n",
       "      <th>4</th>\n",
       "      <td>month</td>\n",
       "      <td>138.436130</td>\n",
       "    </tr>\n",
       "    <tr>\n",
       "      <th>5</th>\n",
       "      <td>day</td>\n",
       "      <td>2.631066</td>\n",
       "    </tr>\n",
       "    <tr>\n",
       "      <th>6</th>\n",
       "      <td>dayofweek</td>\n",
       "      <td>-1.093477</td>\n",
       "    </tr>\n",
       "    <tr>\n",
       "      <th>7</th>\n",
       "      <td>dayofyear</td>\n",
       "      <td>-3.988021</td>\n",
       "    </tr>\n",
       "    <tr>\n",
       "      <th>8</th>\n",
       "      <td>weekofyear</td>\n",
       "      <td>-2.823185</td>\n",
       "    </tr>\n",
       "    <tr>\n",
       "      <th>9</th>\n",
       "      <td>is_weekend</td>\n",
       "      <td>69.862281</td>\n",
       "    </tr>\n",
       "    <tr>\n",
       "      <th>10</th>\n",
       "      <td>weekIdContinous</td>\n",
       "      <td>-1.318660</td>\n",
       "    </tr>\n",
       "    <tr>\n",
       "      <th>11</th>\n",
       "      <td>sales_lag2w</td>\n",
       "      <td>0.209969</td>\n",
       "    </tr>\n",
       "    <tr>\n",
       "      <th>12</th>\n",
       "      <td>sales_lag4w</td>\n",
       "      <td>0.148375</td>\n",
       "    </tr>\n",
       "    <tr>\n",
       "      <th>13</th>\n",
       "      <td>sales_lag8w</td>\n",
       "      <td>0.170313</td>\n",
       "    </tr>\n",
       "    <tr>\n",
       "      <th>14</th>\n",
       "      <td>sales_lag1y</td>\n",
       "      <td>0.055380</td>\n",
       "    </tr>\n",
       "    <tr>\n",
       "      <th>15</th>\n",
       "      <td>is_payday</td>\n",
       "      <td>4.895807</td>\n",
       "    </tr>\n",
       "    <tr>\n",
       "      <th>16</th>\n",
       "      <td>sf_monthly_mean</td>\n",
       "      <td>0.729438</td>\n",
       "    </tr>\n",
       "    <tr>\n",
       "      <th>17</th>\n",
       "      <td>sf_yearly_mean</td>\n",
       "      <td>-0.362521</td>\n",
       "    </tr>\n",
       "    <tr>\n",
       "      <th>18</th>\n",
       "      <td>s_sales_median</td>\n",
       "      <td>0.044660</td>\n",
       "    </tr>\n",
       "    <tr>\n",
       "      <th>19</th>\n",
       "      <td>s_sales_mean</td>\n",
       "      <td>-0.057176</td>\n",
       "    </tr>\n",
       "    <tr>\n",
       "      <th>20</th>\n",
       "      <td>s_sales_max</td>\n",
       "      <td>-0.000030</td>\n",
       "    </tr>\n",
       "    <tr>\n",
       "      <th>21</th>\n",
       "      <td>s_sales_std</td>\n",
       "      <td>0.021702</td>\n",
       "    </tr>\n",
       "    <tr>\n",
       "      <th>22</th>\n",
       "      <td>city</td>\n",
       "      <td>0.023209</td>\n",
       "    </tr>\n",
       "    <tr>\n",
       "      <th>23</th>\n",
       "      <td>state</td>\n",
       "      <td>-0.009973</td>\n",
       "    </tr>\n",
       "    <tr>\n",
       "      <th>24</th>\n",
       "      <td>type</td>\n",
       "      <td>0.256807</td>\n",
       "    </tr>\n",
       "    <tr>\n",
       "      <th>25</th>\n",
       "      <td>cluster</td>\n",
       "      <td>0.021911</td>\n",
       "    </tr>\n",
       "    <tr>\n",
       "      <th>26</th>\n",
       "      <td>transactions_mean</td>\n",
       "      <td>0.000832</td>\n",
       "    </tr>\n",
       "    <tr>\n",
       "      <th>27</th>\n",
       "      <td>transactions_std</td>\n",
       "      <td>0.001894</td>\n",
       "    </tr>\n",
       "    <tr>\n",
       "      <th>28</th>\n",
       "      <td>st_ratio</td>\n",
       "      <td>1.282057</td>\n",
       "    </tr>\n",
       "    <tr>\n",
       "      <th>29</th>\n",
       "      <td>c_sales_median</td>\n",
       "      <td>0.024894</td>\n",
       "    </tr>\n",
       "    <tr>\n",
       "      <th>30</th>\n",
       "      <td>c_sales_mean</td>\n",
       "      <td>-0.049813</td>\n",
       "    </tr>\n",
       "    <tr>\n",
       "      <th>31</th>\n",
       "      <td>c_sales_max</td>\n",
       "      <td>-0.000196</td>\n",
       "    </tr>\n",
       "    <tr>\n",
       "      <th>32</th>\n",
       "      <td>c_sales_std</td>\n",
       "      <td>0.042536</td>\n",
       "    </tr>\n",
       "    <tr>\n",
       "      <th>33</th>\n",
       "      <td>is_onpromotion</td>\n",
       "      <td>5.847042</td>\n",
       "    </tr>\n",
       "    <tr>\n",
       "      <th>34</th>\n",
       "      <td>op_sales_median</td>\n",
       "      <td>0.042744</td>\n",
       "    </tr>\n",
       "    <tr>\n",
       "      <th>35</th>\n",
       "      <td>op_sales_mean</td>\n",
       "      <td>0.024095</td>\n",
       "    </tr>\n",
       "    <tr>\n",
       "      <th>36</th>\n",
       "      <td>op_sales_min</td>\n",
       "      <td>-0.005387</td>\n",
       "    </tr>\n",
       "    <tr>\n",
       "      <th>37</th>\n",
       "      <td>op_sales_max</td>\n",
       "      <td>0.000370</td>\n",
       "    </tr>\n",
       "    <tr>\n",
       "      <th>38</th>\n",
       "      <td>dcoilwtico</td>\n",
       "      <td>0.167442</td>\n",
       "    </tr>\n",
       "    <tr>\n",
       "      <th>39</th>\n",
       "      <td>is_holiday</td>\n",
       "      <td>32.668348</td>\n",
       "    </tr>\n",
       "  </tbody>\n",
       "</table>\n",
       "</div>"
      ],
      "text/plain": [
       "             features        coef\n",
       "0           store_nbr    0.022599\n",
       "1              family   -0.014063\n",
       "2         onpromotion    0.030764\n",
       "3                year   67.103974\n",
       "4               month  138.436130\n",
       "5                 day    2.631066\n",
       "6           dayofweek   -1.093477\n",
       "7           dayofyear   -3.988021\n",
       "8          weekofyear   -2.823185\n",
       "9          is_weekend   69.862281\n",
       "10    weekIdContinous   -1.318660\n",
       "11        sales_lag2w    0.209969\n",
       "12        sales_lag4w    0.148375\n",
       "13        sales_lag8w    0.170313\n",
       "14        sales_lag1y    0.055380\n",
       "15          is_payday    4.895807\n",
       "16    sf_monthly_mean    0.729438\n",
       "17     sf_yearly_mean   -0.362521\n",
       "18     s_sales_median    0.044660\n",
       "19       s_sales_mean   -0.057176\n",
       "20        s_sales_max   -0.000030\n",
       "21        s_sales_std    0.021702\n",
       "22               city    0.023209\n",
       "23              state   -0.009973\n",
       "24               type    0.256807\n",
       "25            cluster    0.021911\n",
       "26  transactions_mean    0.000832\n",
       "27   transactions_std    0.001894\n",
       "28           st_ratio    1.282057\n",
       "29     c_sales_median    0.024894\n",
       "30       c_sales_mean   -0.049813\n",
       "31        c_sales_max   -0.000196\n",
       "32        c_sales_std    0.042536\n",
       "33     is_onpromotion    5.847042\n",
       "34    op_sales_median    0.042744\n",
       "35      op_sales_mean    0.024095\n",
       "36       op_sales_min   -0.005387\n",
       "37       op_sales_max    0.000370\n",
       "38         dcoilwtico    0.167442\n",
       "39         is_holiday   32.668348"
      ]
     },
     "execution_count": 25,
     "metadata": {},
     "output_type": "execute_result"
    }
   ],
   "source": [
    "feature_coeff = pd.DataFrame(data={'features':features,'coef':regr.coef_})\n",
    "#feature_coeff.plot(kind='bar')\n",
    "#plt.show()\n",
    "feature_coeff"
   ]
  },
  {
   "cell_type": "code",
   "execution_count": 26,
   "id": "0f33a628",
   "metadata": {
    "execution": {
     "iopub.execute_input": "2023-11-21T13:37:34.003531Z",
     "iopub.status.busy": "2023-11-21T13:37:34.003045Z",
     "iopub.status.idle": "2023-11-21T13:37:34.007683Z",
     "shell.execute_reply": "2023-11-21T13:37:34.007109Z"
    },
    "papermill": {
     "duration": 0.015398,
     "end_time": "2023-11-21T13:37:34.009149",
     "exception": false,
     "start_time": "2023-11-21T13:37:33.993751",
     "status": "completed"
    },
    "tags": []
   },
   "outputs": [
    {
     "data": {
      "text/plain": [
       "-135223.63264949838"
      ]
     },
     "execution_count": 26,
     "metadata": {},
     "output_type": "execute_result"
    }
   ],
   "source": [
    "regr.intercept_"
   ]
  },
  {
   "cell_type": "markdown",
   "id": "d6d85a26",
   "metadata": {
    "papermill": {
     "duration": 0.008244,
     "end_time": "2023-11-21T13:37:34.025876",
     "exception": false,
     "start_time": "2023-11-21T13:37:34.017632",
     "status": "completed"
    },
    "tags": []
   },
   "source": [
    "# Postprocessing"
   ]
  },
  {
   "cell_type": "code",
   "execution_count": 27,
   "id": "99e9e2d7",
   "metadata": {
    "execution": {
     "iopub.execute_input": "2023-11-21T13:37:34.044356Z",
     "iopub.status.busy": "2023-11-21T13:37:34.043831Z",
     "iopub.status.idle": "2023-11-21T13:37:36.710814Z",
     "shell.execute_reply": "2023-11-21T13:37:36.709939Z"
    },
    "papermill": {
     "duration": 2.678266,
     "end_time": "2023-11-21T13:37:36.712542",
     "exception": false,
     "start_time": "2023-11-21T13:37:34.034276",
     "status": "completed"
    },
    "tags": []
   },
   "outputs": [
    {
     "data": {
      "text/html": [
       "<div>\n",
       "<style scoped>\n",
       "    .dataframe tbody tr th:only-of-type {\n",
       "        vertical-align: middle;\n",
       "    }\n",
       "\n",
       "    .dataframe tbody tr th {\n",
       "        vertical-align: top;\n",
       "    }\n",
       "\n",
       "    .dataframe thead th {\n",
       "        text-align: right;\n",
       "    }\n",
       "</style>\n",
       "<table border=\"1\" class=\"dataframe\">\n",
       "  <thead>\n",
       "    <tr style=\"text-align: right;\">\n",
       "      <th></th>\n",
       "      <th>id</th>\n",
       "      <th>date</th>\n",
       "      <th>store_nbr</th>\n",
       "      <th>family</th>\n",
       "      <th>onpromotion</th>\n",
       "      <th>preds</th>\n",
       "    </tr>\n",
       "  </thead>\n",
       "  <tbody>\n",
       "    <tr>\n",
       "      <th>0</th>\n",
       "      <td>3000888</td>\n",
       "      <td>2017-08-16</td>\n",
       "      <td>1</td>\n",
       "      <td>AUTOMOTIVE</td>\n",
       "      <td>0</td>\n",
       "      <td>0.000000</td>\n",
       "    </tr>\n",
       "    <tr>\n",
       "      <th>1</th>\n",
       "      <td>3000889</td>\n",
       "      <td>2017-08-16</td>\n",
       "      <td>1</td>\n",
       "      <td>BABY CARE</td>\n",
       "      <td>0</td>\n",
       "      <td>0.000000</td>\n",
       "    </tr>\n",
       "    <tr>\n",
       "      <th>2</th>\n",
       "      <td>3000890</td>\n",
       "      <td>2017-08-16</td>\n",
       "      <td>1</td>\n",
       "      <td>BEAUTY</td>\n",
       "      <td>2</td>\n",
       "      <td>0.000000</td>\n",
       "    </tr>\n",
       "    <tr>\n",
       "      <th>3</th>\n",
       "      <td>3000891</td>\n",
       "      <td>2017-08-16</td>\n",
       "      <td>1</td>\n",
       "      <td>BEVERAGES</td>\n",
       "      <td>20</td>\n",
       "      <td>2240.337004</td>\n",
       "    </tr>\n",
       "    <tr>\n",
       "      <th>4</th>\n",
       "      <td>3000892</td>\n",
       "      <td>2017-08-16</td>\n",
       "      <td>1</td>\n",
       "      <td>BOOKS</td>\n",
       "      <td>0</td>\n",
       "      <td>0.000000</td>\n",
       "    </tr>\n",
       "  </tbody>\n",
       "</table>\n",
       "</div>"
      ],
      "text/plain": [
       "        id        date  store_nbr      family  onpromotion        preds\n",
       "0  3000888  2017-08-16          1  AUTOMOTIVE            0     0.000000\n",
       "1  3000889  2017-08-16          1   BABY CARE            0     0.000000\n",
       "2  3000890  2017-08-16          1      BEAUTY            2     0.000000\n",
       "3  3000891  2017-08-16          1   BEVERAGES           20  2240.337004\n",
       "4  3000892  2017-08-16          1       BOOKS            0     0.000000"
      ]
     },
     "execution_count": 27,
     "metadata": {},
     "output_type": "execute_result"
    }
   ],
   "source": [
    "test = pd.read_csv('/kaggle/input/store-sales-time-series-forecasting/test.csv')\n",
    "train = pd.read_csv('/kaggle/input/store-sales-time-series-forecasting/train.csv')\n",
    "\n",
    "submission_pre = pd.DataFrame(data={\"id\" : sample_submission.id,\n",
    "                                   \"preds\" : preds})\n",
    "\n",
    "submission_pre = pd.merge(test,submission_pre, on='id',how='left')\n",
    "\n",
    "# get info about which stores have 0 sales for which categories out of train\n",
    "store_info=train[['store_nbr','family','sales']].groupby(['store_nbr','family']).sum().reset_index()\n",
    "store_info = store_info.loc[store_info.sales == 0] #reduce to those without sales\n",
    "\n",
    "categories_not_sold_in_all_stores = store_info.family.unique()\n",
    "\n",
    "# set all predictions to 0 for the categories that are not sold in certain stores\n",
    "for cat in categories_not_sold_in_all_stores:\n",
    "    category = cat\n",
    "    stores_that_dont_sell_category = list(store_info.loc[(store_info.family == category)].store_nbr)\n",
    "    submission_pre.loc[submission_pre.store_nbr.isin(stores_that_dont_sell_category) & (submission_pre.family==category),['preds']] = 0\n",
    "    \n",
    "submission_pre.head()"
   ]
  },
  {
   "cell_type": "markdown",
   "id": "4ac88708",
   "metadata": {
    "papermill": {
     "duration": 0.008488,
     "end_time": "2023-11-21T13:37:36.730159",
     "exception": false,
     "start_time": "2023-11-21T13:37:36.721671",
     "status": "completed"
    },
    "tags": []
   },
   "source": [
    "# Submission"
   ]
  },
  {
   "cell_type": "code",
   "execution_count": 28,
   "id": "d0c6aa62",
   "metadata": {
    "execution": {
     "iopub.execute_input": "2023-11-21T13:37:36.749425Z",
     "iopub.status.busy": "2023-11-21T13:37:36.748519Z",
     "iopub.status.idle": "2023-11-21T13:37:36.802324Z",
     "shell.execute_reply": "2023-11-21T13:37:36.801470Z"
    },
    "papermill": {
     "duration": 0.065248,
     "end_time": "2023-11-21T13:37:36.804042",
     "exception": false,
     "start_time": "2023-11-21T13:37:36.738794",
     "status": "completed"
    },
    "tags": []
   },
   "outputs": [
    {
     "data": {
      "text/html": [
       "<div>\n",
       "<style scoped>\n",
       "    .dataframe tbody tr th:only-of-type {\n",
       "        vertical-align: middle;\n",
       "    }\n",
       "\n",
       "    .dataframe tbody tr th {\n",
       "        vertical-align: top;\n",
       "    }\n",
       "\n",
       "    .dataframe thead th {\n",
       "        text-align: right;\n",
       "    }\n",
       "</style>\n",
       "<table border=\"1\" class=\"dataframe\">\n",
       "  <thead>\n",
       "    <tr style=\"text-align: right;\">\n",
       "      <th></th>\n",
       "      <th>id</th>\n",
       "      <th>sales</th>\n",
       "    </tr>\n",
       "  </thead>\n",
       "  <tbody>\n",
       "    <tr>\n",
       "      <th>0</th>\n",
       "      <td>3000888</td>\n",
       "      <td>0.000000</td>\n",
       "    </tr>\n",
       "    <tr>\n",
       "      <th>1</th>\n",
       "      <td>3000889</td>\n",
       "      <td>0.000000</td>\n",
       "    </tr>\n",
       "    <tr>\n",
       "      <th>2</th>\n",
       "      <td>3000890</td>\n",
       "      <td>0.000000</td>\n",
       "    </tr>\n",
       "    <tr>\n",
       "      <th>3</th>\n",
       "      <td>3000891</td>\n",
       "      <td>2240.337004</td>\n",
       "    </tr>\n",
       "    <tr>\n",
       "      <th>4</th>\n",
       "      <td>3000892</td>\n",
       "      <td>0.000000</td>\n",
       "    </tr>\n",
       "  </tbody>\n",
       "</table>\n",
       "</div>"
      ],
      "text/plain": [
       "        id        sales\n",
       "0  3000888     0.000000\n",
       "1  3000889     0.000000\n",
       "2  3000890     0.000000\n",
       "3  3000891  2240.337004\n",
       "4  3000892     0.000000"
      ]
     },
     "execution_count": 28,
     "metadata": {},
     "output_type": "execute_result"
    }
   ],
   "source": [
    "# generate submission file \n",
    "submission = submission_pre[['id','preds']]\n",
    "submission = submission.rename(columns={'preds':'sales'})\n",
    "\n",
    "submission.to_csv('submission.csv', index=False)\n",
    "submission.head()"
   ]
  },
  {
   "cell_type": "code",
   "execution_count": null,
   "id": "5e3b1b64",
   "metadata": {
    "papermill": {
     "duration": 0.008833,
     "end_time": "2023-11-21T13:37:36.821937",
     "exception": false,
     "start_time": "2023-11-21T13:37:36.813104",
     "status": "completed"
    },
    "tags": []
   },
   "outputs": [],
   "source": []
  }
 ],
 "metadata": {
  "kaggle": {
   "accelerator": "none",
   "dataSources": [
    {
     "databundleVersionId": 2887556,
     "sourceId": 29781,
     "sourceType": "competition"
    },
    {
     "sourceId": 150976677,
     "sourceType": "kernelVersion"
    }
   ],
   "dockerImageVersionId": 30587,
   "isGpuEnabled": false,
   "isInternetEnabled": true,
   "language": "python",
   "sourceType": "notebook"
  },
  "kernelspec": {
   "display_name": "Python 3",
   "language": "python",
   "name": "python3"
  },
  "language_info": {
   "codemirror_mode": {
    "name": "ipython",
    "version": 3
   },
   "file_extension": ".py",
   "mimetype": "text/x-python",
   "name": "python",
   "nbconvert_exporter": "python",
   "pygments_lexer": "ipython3",
   "version": "3.10.12"
  },
  "papermill": {
   "default_parameters": {},
   "duration": 28.186344,
   "end_time": "2023-11-21T13:37:37.348310",
   "environment_variables": {},
   "exception": null,
   "input_path": "__notebook__.ipynb",
   "output_path": "__notebook__.ipynb",
   "parameters": {},
   "start_time": "2023-11-21T13:37:09.161966",
   "version": "2.4.0"
  }
 },
 "nbformat": 4,
 "nbformat_minor": 5
}
