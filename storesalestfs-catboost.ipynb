{
 "cells": [
  {
   "cell_type": "code",
   "execution_count": 1,
   "id": "ef374538",
   "metadata": {
    "_cell_guid": "b1076dfc-b9ad-4769-8c92-a6c4dae69d19",
    "_uuid": "8f2839f25d086af736a60e9eeb907d3b93b6e0e5",
    "execution": {
     "iopub.execute_input": "2023-11-23T10:09:37.492635Z",
     "iopub.status.busy": "2023-11-23T10:09:37.491894Z",
     "iopub.status.idle": "2023-11-23T10:09:39.927164Z",
     "shell.execute_reply": "2023-11-23T10:09:39.924980Z"
    },
    "papermill": {
     "duration": 2.45025,
     "end_time": "2023-11-23T10:09:39.929881",
     "exception": false,
     "start_time": "2023-11-23T10:09:37.479631",
     "status": "completed"
    },
    "tags": []
   },
   "outputs": [
    {
     "name": "stdout",
     "output_type": "stream",
     "text": [
      "pandas version:  2.0.3\n",
      "Catboost version:  1.2.2\n",
      "/kaggle/input/store-sales-time-series-forecasting/oil.csv\n",
      "/kaggle/input/store-sales-time-series-forecasting/sample_submission.csv\n",
      "/kaggle/input/store-sales-time-series-forecasting/holidays_events.csv\n",
      "/kaggle/input/store-sales-time-series-forecasting/stores.csv\n",
      "/kaggle/input/store-sales-time-series-forecasting/train.csv\n",
      "/kaggle/input/store-sales-time-series-forecasting/test.csv\n",
      "/kaggle/input/store-sales-time-series-forecasting/transactions.csv\n",
      "/kaggle/input/storesalestfs-featureenigneering/__results__.html\n",
      "/kaggle/input/storesalestfs-featureenigneering/__notebook__.ipynb\n",
      "/kaggle/input/storesalestfs-featureenigneering/__output__.json\n",
      "/kaggle/input/storesalestfs-featureenigneering/train_features.csv\n",
      "/kaggle/input/storesalestfs-featureenigneering/test_features.csv\n",
      "/kaggle/input/storesalestfs-featureenigneering/custom.css\n"
     ]
    }
   ],
   "source": [
    "# This Python 3 environment comes with many helpful analytics libraries installed\n",
    "# It is defined by the kaggle/python Docker image: https://github.com/kaggle/docker-python\n",
    "# For example, here's several helpful packages to load\n",
    "\n",
    "import numpy as np # linear algebra\n",
    "import pandas as pd # data processing, CSV file I/O (e.g. pd.read_csv)\n",
    "print (\"pandas version:  {}\".format(pd.__version__))\n",
    "import time\n",
    "from sklearn.preprocessing import LabelEncoder\n",
    "from sklearn.metrics import mean_squared_error\n",
    "import matplotlib.pyplot as plt\n",
    "\n",
    "import catboost\n",
    "from catboost import CatBoostRegressor, Pool\n",
    "\n",
    "print(\"Catboost version:  {}\".format(catboost.__version__))\n",
    "\n",
    "import os\n",
    "for dirname, _, filenames in os.walk('/kaggle/input'):\n",
    "    for filename in filenames:\n",
    "        print(os.path.join(dirname, filename))\n",
    "\n",
    "# You can write up to 20GB to the current directory (/kaggle/working/) that gets preserved as output when you create a version using \"Save & Run All\" \n",
    "# You can also write temporary files to /kaggle/temp/, but they won't be saved outside of the current session"
   ]
  },
  {
   "cell_type": "markdown",
   "id": "b1b6fc3c",
   "metadata": {
    "papermill": {
     "duration": 0.009601,
     "end_time": "2023-11-23T10:09:39.949477",
     "exception": false,
     "start_time": "2023-11-23T10:09:39.939876",
     "status": "completed"
    },
    "tags": []
   },
   "source": [
    "This notebook follows the structure of the LightGBM notbook for this competition."
   ]
  },
  {
   "cell_type": "code",
   "execution_count": 2,
   "id": "97fc21c4",
   "metadata": {
    "execution": {
     "iopub.execute_input": "2023-11-23T10:09:39.971454Z",
     "iopub.status.busy": "2023-11-23T10:09:39.970864Z",
     "iopub.status.idle": "2023-11-23T10:10:05.644703Z",
     "shell.execute_reply": "2023-11-23T10:10:05.643809Z"
    },
    "papermill": {
     "duration": 25.688366,
     "end_time": "2023-11-23T10:10:05.647935",
     "exception": false,
     "start_time": "2023-11-23T10:09:39.959569",
     "status": "completed"
    },
    "tags": []
   },
   "outputs": [],
   "source": [
    "# read the output file of the prepare data notebook here\n",
    "train = pd.read_csv('/kaggle/input/storesalestfs-featureenigneering/train_features.csv')\n",
    "test = pd.read_csv('/kaggle/input/storesalestfs-featureenigneering/test_features.csv')\n",
    "# and sample submission\n",
    "sample_submission = pd.read_csv('/kaggle/input/store-sales-time-series-forecasting/sample_submission.csv')"
   ]
  },
  {
   "cell_type": "code",
   "execution_count": 3,
   "id": "c4835d78",
   "metadata": {
    "execution": {
     "iopub.execute_input": "2023-11-23T10:10:05.670028Z",
     "iopub.status.busy": "2023-11-23T10:10:05.669403Z",
     "iopub.status.idle": "2023-11-23T10:10:06.477408Z",
     "shell.execute_reply": "2023-11-23T10:10:06.476203Z"
    },
    "papermill": {
     "duration": 0.822264,
     "end_time": "2023-11-23T10:10:06.480296",
     "exception": false,
     "start_time": "2023-11-23T10:10:05.658032",
     "status": "completed"
    },
    "tags": []
   },
   "outputs": [],
   "source": [
    "# append train and test temporarily\n",
    "train = pd.concat( [train,test])"
   ]
  },
  {
   "cell_type": "code",
   "execution_count": 4,
   "id": "f0a29406",
   "metadata": {
    "execution": {
     "iopub.execute_input": "2023-11-23T10:10:06.501867Z",
     "iopub.status.busy": "2023-11-23T10:10:06.501411Z",
     "iopub.status.idle": "2023-11-23T10:10:06.518865Z",
     "shell.execute_reply": "2023-11-23T10:10:06.517381Z"
    },
    "papermill": {
     "duration": 0.031326,
     "end_time": "2023-11-23T10:10:06.521495",
     "exception": false,
     "start_time": "2023-11-23T10:10:06.490169",
     "status": "completed"
    },
    "tags": []
   },
   "outputs": [
    {
     "data": {
      "text/plain": [
       "id                     int64\n",
       "date                  object\n",
       "store_nbr              int64\n",
       "family                object\n",
       "sales                float64\n",
       "onpromotion            int64\n",
       "year                   int64\n",
       "month                  int64\n",
       "day                    int64\n",
       "dayofweek              int64\n",
       "dayofyear              int64\n",
       "weekofyear             int64\n",
       "is_weekend              bool\n",
       "weekIdContinous        int64\n",
       "sales_lag2w          float64\n",
       "sales_lag4w          float64\n",
       "sales_lag8w          float64\n",
       "sales_lag1y          float64\n",
       "is_payday              int64\n",
       "sf_monthly_mean      float64\n",
       "sf_yearly_mean       float64\n",
       "s_sales_median       float64\n",
       "s_sales_mean         float64\n",
       "s_sales_max          float64\n",
       "s_sales_std          float64\n",
       "city                  object\n",
       "state                 object\n",
       "type                  object\n",
       "cluster                int64\n",
       "transactions_mean    float64\n",
       "transactions_std     float64\n",
       "st_ratio             float64\n",
       "c_sales_median       float64\n",
       "c_sales_mean         float64\n",
       "c_sales_max          float64\n",
       "c_sales_std          float64\n",
       "is_onpromotion         int64\n",
       "op_sales_median      float64\n",
       "op_sales_mean        float64\n",
       "op_sales_min         float64\n",
       "op_sales_max         float64\n",
       "dcoilwtico           float64\n",
       "is_national_hol         bool\n",
       "is_local_hol            bool\n",
       "is_holiday              bool\n",
       "dtype: object"
      ]
     },
     "execution_count": 4,
     "metadata": {},
     "output_type": "execute_result"
    }
   ],
   "source": [
    "train.dtypes"
   ]
  },
  {
   "cell_type": "code",
   "execution_count": 5,
   "id": "85e0e680",
   "metadata": {
    "execution": {
     "iopub.execute_input": "2023-11-23T10:10:06.544062Z",
     "iopub.status.busy": "2023-11-23T10:10:06.543620Z",
     "iopub.status.idle": "2023-11-23T10:10:10.342067Z",
     "shell.execute_reply": "2023-11-23T10:10:10.341136Z"
    },
    "papermill": {
     "duration": 3.812142,
     "end_time": "2023-11-23T10:10:10.344427",
     "exception": false,
     "start_time": "2023-11-23T10:10:06.532285",
     "status": "completed"
    },
    "tags": []
   },
   "outputs": [
    {
     "data": {
      "text/plain": [
       "id                     int64\n",
       "date                  object\n",
       "store_nbr             object\n",
       "family                object\n",
       "sales                float64\n",
       "onpromotion            int64\n",
       "year                   int64\n",
       "month                  int64\n",
       "day                    int64\n",
       "dayofweek              int64\n",
       "dayofyear              int64\n",
       "weekofyear             int64\n",
       "is_weekend              bool\n",
       "weekIdContinous        int64\n",
       "sales_lag2w          float64\n",
       "sales_lag4w          float64\n",
       "sales_lag8w          float64\n",
       "sales_lag1y          float64\n",
       "is_payday              int64\n",
       "sf_monthly_mean      float64\n",
       "sf_yearly_mean       float64\n",
       "s_sales_median       float64\n",
       "s_sales_mean         float64\n",
       "s_sales_max          float64\n",
       "s_sales_std          float64\n",
       "city                  object\n",
       "state                 object\n",
       "type                  object\n",
       "cluster               object\n",
       "transactions_mean    float64\n",
       "transactions_std     float64\n",
       "st_ratio             float64\n",
       "c_sales_median       float64\n",
       "c_sales_mean         float64\n",
       "c_sales_max          float64\n",
       "c_sales_std          float64\n",
       "is_onpromotion         int64\n",
       "op_sales_median      float64\n",
       "op_sales_mean        float64\n",
       "op_sales_min         float64\n",
       "op_sales_max         float64\n",
       "dcoilwtico           float64\n",
       "is_national_hol         bool\n",
       "is_local_hol            bool\n",
       "is_holiday              bool\n",
       "dtype: object"
      ]
     },
     "execution_count": 5,
     "metadata": {},
     "output_type": "execute_result"
    }
   ],
   "source": [
    "categorical_columns = ['store_nbr', 'cluster' , 'type', 'city', 'state' , 'family']\n",
    "# convert categorical columns to dtype string\n",
    "for feature in categorical_columns:\n",
    "    train[feature] = train[feature].astype('str')\n",
    "train.dtypes"
   ]
  },
  {
   "cell_type": "code",
   "execution_count": 6,
   "id": "78a54358",
   "metadata": {
    "execution": {
     "iopub.execute_input": "2023-11-23T10:10:10.367067Z",
     "iopub.status.busy": "2023-11-23T10:10:10.366642Z",
     "iopub.status.idle": "2023-11-23T10:10:10.385006Z",
     "shell.execute_reply": "2023-11-23T10:10:10.383807Z"
    },
    "papermill": {
     "duration": 0.032761,
     "end_time": "2023-11-23T10:10:10.387520",
     "exception": false,
     "start_time": "2023-11-23T10:10:10.354759",
     "status": "completed"
    },
    "tags": []
   },
   "outputs": [
    {
     "data": {
      "text/plain": [
       "(28512, 45)"
      ]
     },
     "execution_count": 6,
     "metadata": {},
     "output_type": "execute_result"
    }
   ],
   "source": [
    "# split train and test again\n",
    "test = train.loc[train.id >= 3000888]\n",
    "test.shape"
   ]
  },
  {
   "cell_type": "code",
   "execution_count": 7,
   "id": "a1e1b0f1",
   "metadata": {
    "execution": {
     "iopub.execute_input": "2023-11-23T10:10:10.410386Z",
     "iopub.status.busy": "2023-11-23T10:10:10.409749Z",
     "iopub.status.idle": "2023-11-23T10:10:11.165650Z",
     "shell.execute_reply": "2023-11-23T10:10:11.164452Z"
    },
    "papermill": {
     "duration": 0.770157,
     "end_time": "2023-11-23T10:10:11.168045",
     "exception": false,
     "start_time": "2023-11-23T10:10:10.397888",
     "status": "completed"
    },
    "tags": []
   },
   "outputs": [
    {
     "data": {
      "text/plain": [
       "(2361414, 45)"
      ]
     },
     "execution_count": 7,
     "metadata": {},
     "output_type": "execute_result"
    }
   ],
   "source": [
    "train = train.loc[train.id < 3000888]\n",
    "train.shape"
   ]
  },
  {
   "cell_type": "markdown",
   "id": "79d31d00",
   "metadata": {
    "papermill": {
     "duration": 0.010626,
     "end_time": "2023-11-23T10:10:11.189369",
     "exception": false,
     "start_time": "2023-11-23T10:10:11.178743",
     "status": "completed"
    },
    "tags": []
   },
   "source": [
    "# Model: CatBoost"
   ]
  },
  {
   "cell_type": "code",
   "execution_count": 8,
   "id": "12bee855",
   "metadata": {
    "execution": {
     "iopub.execute_input": "2023-11-23T10:10:11.212767Z",
     "iopub.status.busy": "2023-11-23T10:10:11.211608Z",
     "iopub.status.idle": "2023-11-23T10:10:11.217527Z",
     "shell.execute_reply": "2023-11-23T10:10:11.216635Z"
    },
    "papermill": {
     "duration": 0.01988,
     "end_time": "2023-11-23T10:10:11.219749",
     "exception": false,
     "start_time": "2023-11-23T10:10:11.199869",
     "status": "completed"
    },
    "tags": []
   },
   "outputs": [],
   "source": [
    "columns_to_drop = ['sales','id','date','is_national_hol','is_local_hol']"
   ]
  },
  {
   "cell_type": "code",
   "execution_count": 9,
   "id": "733f695d",
   "metadata": {
    "execution": {
     "iopub.execute_input": "2023-11-23T10:10:11.242903Z",
     "iopub.status.busy": "2023-11-23T10:10:11.241967Z",
     "iopub.status.idle": "2023-11-23T10:10:13.089770Z",
     "shell.execute_reply": "2023-11-23T10:10:13.088579Z"
    },
    "papermill": {
     "duration": 1.862239,
     "end_time": "2023-11-23T10:10:13.092555",
     "exception": false,
     "start_time": "2023-11-23T10:10:11.230316",
     "status": "completed"
    },
    "tags": []
   },
   "outputs": [],
   "source": [
    "# create validation set based on time, I use 2 weeks because the test set is 2 weeks\n",
    "#train.date.max()\n",
    "X_train = train.loc[train.date < '2017-08-01']\n",
    "X_train.tail()\n",
    "y_train = X_train.sales\n",
    "X_train = X_train.drop(columns_to_drop, axis = 1)\n",
    "X_val = train.loc[train.date >= '2017-08-01']\n",
    "y_val = X_val.sales\n",
    "X_val = X_val.drop(columns_to_drop, axis = 1)"
   ]
  },
  {
   "cell_type": "code",
   "execution_count": 10,
   "id": "8f6ee172",
   "metadata": {
    "execution": {
     "iopub.execute_input": "2023-11-23T10:10:13.116228Z",
     "iopub.status.busy": "2023-11-23T10:10:13.115829Z",
     "iopub.status.idle": "2023-11-23T10:10:13.148042Z",
     "shell.execute_reply": "2023-11-23T10:10:13.146809Z"
    },
    "papermill": {
     "duration": 0.046974,
     "end_time": "2023-11-23T10:10:13.150799",
     "exception": false,
     "start_time": "2023-11-23T10:10:13.103825",
     "status": "completed"
    },
    "tags": []
   },
   "outputs": [
    {
     "data": {
      "text/html": [
       "<div>\n",
       "<style scoped>\n",
       "    .dataframe tbody tr th:only-of-type {\n",
       "        vertical-align: middle;\n",
       "    }\n",
       "\n",
       "    .dataframe tbody tr th {\n",
       "        vertical-align: top;\n",
       "    }\n",
       "\n",
       "    .dataframe thead th {\n",
       "        text-align: right;\n",
       "    }\n",
       "</style>\n",
       "<table border=\"1\" class=\"dataframe\">\n",
       "  <thead>\n",
       "    <tr style=\"text-align: right;\">\n",
       "      <th></th>\n",
       "      <th>store_nbr</th>\n",
       "      <th>family</th>\n",
       "      <th>onpromotion</th>\n",
       "      <th>year</th>\n",
       "      <th>month</th>\n",
       "      <th>day</th>\n",
       "      <th>dayofweek</th>\n",
       "      <th>dayofyear</th>\n",
       "      <th>weekofyear</th>\n",
       "      <th>is_weekend</th>\n",
       "      <th>...</th>\n",
       "      <th>c_sales_mean</th>\n",
       "      <th>c_sales_max</th>\n",
       "      <th>c_sales_std</th>\n",
       "      <th>is_onpromotion</th>\n",
       "      <th>op_sales_median</th>\n",
       "      <th>op_sales_mean</th>\n",
       "      <th>op_sales_min</th>\n",
       "      <th>op_sales_max</th>\n",
       "      <th>dcoilwtico</th>\n",
       "      <th>is_holiday</th>\n",
       "    </tr>\n",
       "  </thead>\n",
       "  <tbody>\n",
       "    <tr>\n",
       "      <th>0</th>\n",
       "      <td>1</td>\n",
       "      <td>AUTOMOTIVE</td>\n",
       "      <td>0</td>\n",
       "      <td>2014</td>\n",
       "      <td>1</td>\n",
       "      <td>1</td>\n",
       "      <td>2</td>\n",
       "      <td>1</td>\n",
       "      <td>1</td>\n",
       "      <td>False</td>\n",
       "      <td>...</td>\n",
       "      <td>6.491400</td>\n",
       "      <td>255.0</td>\n",
       "      <td>6.250549</td>\n",
       "      <td>0</td>\n",
       "      <td>3.0</td>\n",
       "      <td>3.542113</td>\n",
       "      <td>0.0</td>\n",
       "      <td>19.0</td>\n",
       "      <td>98.17</td>\n",
       "      <td>True</td>\n",
       "    </tr>\n",
       "    <tr>\n",
       "      <th>1</th>\n",
       "      <td>1</td>\n",
       "      <td>BABY CARE</td>\n",
       "      <td>0</td>\n",
       "      <td>2014</td>\n",
       "      <td>1</td>\n",
       "      <td>1</td>\n",
       "      <td>2</td>\n",
       "      <td>1</td>\n",
       "      <td>1</td>\n",
       "      <td>False</td>\n",
       "      <td>...</td>\n",
       "      <td>0.141260</td>\n",
       "      <td>116.0</td>\n",
       "      <td>0.766963</td>\n",
       "      <td>0</td>\n",
       "      <td>0.0</td>\n",
       "      <td>0.000000</td>\n",
       "      <td>0.0</td>\n",
       "      <td>0.0</td>\n",
       "      <td>98.17</td>\n",
       "      <td>True</td>\n",
       "    </tr>\n",
       "    <tr>\n",
       "      <th>2</th>\n",
       "      <td>1</td>\n",
       "      <td>BEAUTY</td>\n",
       "      <td>0</td>\n",
       "      <td>2014</td>\n",
       "      <td>1</td>\n",
       "      <td>1</td>\n",
       "      <td>2</td>\n",
       "      <td>1</td>\n",
       "      <td>1</td>\n",
       "      <td>False</td>\n",
       "      <td>...</td>\n",
       "      <td>4.076740</td>\n",
       "      <td>136.0</td>\n",
       "      <td>5.110346</td>\n",
       "      <td>0</td>\n",
       "      <td>2.0</td>\n",
       "      <td>2.263397</td>\n",
       "      <td>0.0</td>\n",
       "      <td>11.0</td>\n",
       "      <td>98.17</td>\n",
       "      <td>True</td>\n",
       "    </tr>\n",
       "    <tr>\n",
       "      <th>3</th>\n",
       "      <td>1</td>\n",
       "      <td>BEVERAGES</td>\n",
       "      <td>0</td>\n",
       "      <td>2014</td>\n",
       "      <td>1</td>\n",
       "      <td>1</td>\n",
       "      <td>2</td>\n",
       "      <td>1</td>\n",
       "      <td>1</td>\n",
       "      <td>False</td>\n",
       "      <td>...</td>\n",
       "      <td>2738.754588</td>\n",
       "      <td>25413.0</td>\n",
       "      <td>2431.441640</td>\n",
       "      <td>0</td>\n",
       "      <td>1093.0</td>\n",
       "      <td>1266.943522</td>\n",
       "      <td>0.0</td>\n",
       "      <td>3366.0</td>\n",
       "      <td>98.17</td>\n",
       "      <td>True</td>\n",
       "    </tr>\n",
       "    <tr>\n",
       "      <th>4</th>\n",
       "      <td>1</td>\n",
       "      <td>BOOKS</td>\n",
       "      <td>0</td>\n",
       "      <td>2014</td>\n",
       "      <td>1</td>\n",
       "      <td>1</td>\n",
       "      <td>2</td>\n",
       "      <td>1</td>\n",
       "      <td>1</td>\n",
       "      <td>False</td>\n",
       "      <td>...</td>\n",
       "      <td>0.090614</td>\n",
       "      <td>51.0</td>\n",
       "      <td>0.618165</td>\n",
       "      <td>0</td>\n",
       "      <td>0.0</td>\n",
       "      <td>0.159848</td>\n",
       "      <td>0.0</td>\n",
       "      <td>8.0</td>\n",
       "      <td>98.17</td>\n",
       "      <td>True</td>\n",
       "    </tr>\n",
       "  </tbody>\n",
       "</table>\n",
       "<p>5 rows × 40 columns</p>\n",
       "</div>"
      ],
      "text/plain": [
       "  store_nbr      family  onpromotion  year  month  day  dayofweek  dayofyear  \\\n",
       "0         1  AUTOMOTIVE            0  2014      1    1          2          1   \n",
       "1         1   BABY CARE            0  2014      1    1          2          1   \n",
       "2         1      BEAUTY            0  2014      1    1          2          1   \n",
       "3         1   BEVERAGES            0  2014      1    1          2          1   \n",
       "4         1       BOOKS            0  2014      1    1          2          1   \n",
       "\n",
       "   weekofyear  is_weekend  ...  c_sales_mean  c_sales_max  c_sales_std  \\\n",
       "0           1       False  ...      6.491400        255.0     6.250549   \n",
       "1           1       False  ...      0.141260        116.0     0.766963   \n",
       "2           1       False  ...      4.076740        136.0     5.110346   \n",
       "3           1       False  ...   2738.754588      25413.0  2431.441640   \n",
       "4           1       False  ...      0.090614         51.0     0.618165   \n",
       "\n",
       "   is_onpromotion  op_sales_median  op_sales_mean  op_sales_min  op_sales_max  \\\n",
       "0               0              3.0       3.542113           0.0          19.0   \n",
       "1               0              0.0       0.000000           0.0           0.0   \n",
       "2               0              2.0       2.263397           0.0          11.0   \n",
       "3               0           1093.0    1266.943522           0.0        3366.0   \n",
       "4               0              0.0       0.159848           0.0           8.0   \n",
       "\n",
       "   dcoilwtico  is_holiday  \n",
       "0       98.17        True  \n",
       "1       98.17        True  \n",
       "2       98.17        True  \n",
       "3       98.17        True  \n",
       "4       98.17        True  \n",
       "\n",
       "[5 rows x 40 columns]"
      ]
     },
     "execution_count": 10,
     "metadata": {},
     "output_type": "execute_result"
    }
   ],
   "source": [
    "X_train.head()"
   ]
  },
  {
   "cell_type": "code",
   "execution_count": 11,
   "id": "a3ec745e",
   "metadata": {
    "execution": {
     "iopub.execute_input": "2023-11-23T10:10:13.175228Z",
     "iopub.status.busy": "2023-11-23T10:10:13.174835Z",
     "iopub.status.idle": "2023-11-23T10:10:20.949060Z",
     "shell.execute_reply": "2023-11-23T10:10:20.947998Z"
    },
    "papermill": {
     "duration": 7.789453,
     "end_time": "2023-11-23T10:10:20.951707",
     "exception": false,
     "start_time": "2023-11-23T10:10:13.162254",
     "status": "completed"
    },
    "tags": []
   },
   "outputs": [],
   "source": [
    "train_pool = Pool(X_train, label=np.log1p(y_train), cat_features=categorical_columns)\n",
    "val_pool = Pool(X_val, label=np.log1p(y_val), cat_features=categorical_columns)"
   ]
  },
  {
   "cell_type": "code",
   "execution_count": 12,
   "id": "59263861",
   "metadata": {
    "execution": {
     "iopub.execute_input": "2023-11-23T10:10:20.976600Z",
     "iopub.status.busy": "2023-11-23T10:10:20.975493Z",
     "iopub.status.idle": "2023-11-23T10:10:20.981856Z",
     "shell.execute_reply": "2023-11-23T10:10:20.980787Z"
    },
    "papermill": {
     "duration": 0.021196,
     "end_time": "2023-11-23T10:10:20.984206",
     "exception": false,
     "start_time": "2023-11-23T10:10:20.963010",
     "status": "completed"
    },
    "tags": []
   },
   "outputs": [],
   "source": [
    "# Specify CatBoost parameters for regression NOT YET RUN WITH THESE PARAMS\n",
    "params = {\n",
    "    'iterations': 200,\n",
    "    'loss_function': 'RMSE',  # Loss function for regression\n",
    "    'eval_metric': 'RMSE',  # Evaluation metric for regression\n",
    "    'learning_rate': 0.29844759163525564, \n",
    "    'depth': 15, \n",
    "    'subsample': 0.44116710254766295, \n",
    "    'colsample_bylevel': 0.8200575737708942, \n",
    "    'min_data_in_leaf': 38\n",
    "}"
   ]
  },
  {
   "cell_type": "code",
   "execution_count": 13,
   "id": "07fdd5d6",
   "metadata": {
    "execution": {
     "iopub.execute_input": "2023-11-23T10:10:21.008580Z",
     "iopub.status.busy": "2023-11-23T10:10:21.008160Z",
     "iopub.status.idle": "2023-11-23T10:30:53.311709Z",
     "shell.execute_reply": "2023-11-23T10:30:53.310780Z"
    },
    "papermill": {
     "duration": 1232.31842,
     "end_time": "2023-11-23T10:30:53.314053",
     "exception": false,
     "start_time": "2023-11-23T10:10:20.995633",
     "status": "completed"
    },
    "tags": []
   },
   "outputs": [
    {
     "name": "stdout",
     "output_type": "stream",
     "text": [
      "0:\tlearn: 1.9203152\ttest: 1.8404454\tbest: 1.8404454 (0)\ttotal: 8.45s\tremaining: 28m 1s\n",
      "20:\tlearn: 0.3964602\ttest: 0.3868944\tbest: 0.3868944 (20)\ttotal: 2m 30s\tremaining: 21m 24s\n",
      "40:\tlearn: 0.3736203\ttest: 0.3770447\tbest: 0.3770447 (40)\ttotal: 4m 52s\tremaining: 18m 52s\n",
      "60:\tlearn: 0.3627786\ttest: 0.3731297\tbest: 0.3731297 (60)\ttotal: 7m 10s\tremaining: 16m 20s\n",
      "80:\tlearn: 0.3537175\ttest: 0.3722934\tbest: 0.3713876 (79)\ttotal: 9m 33s\tremaining: 14m 3s\n",
      "100:\tlearn: 0.3466543\ttest: 0.3700628\tbest: 0.3700628 (100)\ttotal: 11m 51s\tremaining: 11m 37s\n",
      "120:\tlearn: 0.3417461\ttest: 0.3686607\tbest: 0.3685498 (119)\ttotal: 14m 10s\tremaining: 9m 15s\n",
      "140:\tlearn: 0.3356872\ttest: 0.3680488\tbest: 0.3680488 (140)\ttotal: 16m 30s\tremaining: 6m 54s\n",
      "160:\tlearn: 0.3313027\ttest: 0.3684355\tbest: 0.3675911 (155)\ttotal: 18m 45s\tremaining: 4m 32s\n",
      "Stopped by overfitting detector  (20 iterations wait)\n",
      "\n",
      "bestTest = 0.3675910898\n",
      "bestIteration = 155\n",
      "\n",
      "Shrink model to first 156 iterations.\n"
     ]
    },
    {
     "data": {
      "text/plain": [
       "<catboost.core.CatBoostRegressor at 0x7c22ca302590>"
      ]
     },
     "execution_count": 13,
     "metadata": {},
     "output_type": "execute_result"
    }
   ],
   "source": [
    "model = CatBoostRegressor(**params)\n",
    "model.fit(\n",
    "    train_pool,\n",
    "    eval_set=val_pool,\n",
    "    use_best_model=True,  # Use the best model based on the evaluation metric\n",
    "    early_stopping_rounds = 20,\n",
    "    verbose=20,  # Print metrics every 100 iterations\n",
    "    \n",
    ")"
   ]
  },
  {
   "cell_type": "code",
   "execution_count": 14,
   "id": "7735e13e",
   "metadata": {
    "execution": {
     "iopub.execute_input": "2023-11-23T10:30:53.340682Z",
     "iopub.status.busy": "2023-11-23T10:30:53.339749Z",
     "iopub.status.idle": "2023-11-23T10:30:53.731991Z",
     "shell.execute_reply": "2023-11-23T10:30:53.730784Z"
    },
    "papermill": {
     "duration": 0.408336,
     "end_time": "2023-11-23T10:30:53.734520",
     "exception": false,
     "start_time": "2023-11-23T10:30:53.326184",
     "status": "completed"
    },
    "tags": []
   },
   "outputs": [
    {
     "data": {
      "image/png": "[encoded data removed]",
      "text/plain": [
       "<Figure size 1000x600 with 1 Axes>"
      ]
     },
     "metadata": {},
     "output_type": "display_data"
    }
   ],
   "source": [
    "# Access the training and evaluation metrics\n",
    "train_metric = model.evals_result_['learn']['RMSE']\n",
    "eval_metric = model.evals_result_['validation']['RMSE']\n",
    "\n",
    "# Plot the training and validation metrics over iterations\n",
    "plt.figure(figsize=(10, 6))\n",
    "plt.plot(train_metric, label='Train RMSE')\n",
    "plt.plot(eval_metric, label='Eval RMSE')\n",
    "plt.xlabel('Iteration')\n",
    "plt.ylabel('RMSE')\n",
    "plt.title('CatBoost Training and Evaluation Metrics')\n",
    "plt.legend()\n",
    "plt.show()"
   ]
  },
  {
   "cell_type": "code",
   "execution_count": 15,
   "id": "d9842814",
   "metadata": {
    "execution": {
     "iopub.execute_input": "2023-11-23T10:30:53.762460Z",
     "iopub.status.busy": "2023-11-23T10:30:53.762073Z",
     "iopub.status.idle": "2023-11-23T10:30:54.129685Z",
     "shell.execute_reply": "2023-11-23T10:30:54.128595Z"
    },
    "papermill": {
     "duration": 0.384286,
     "end_time": "2023-11-23T10:30:54.132107",
     "exception": false,
     "start_time": "2023-11-23T10:30:53.747821",
     "status": "completed"
    },
    "tags": []
   },
   "outputs": [
    {
     "name": "stdout",
     "output_type": "stream",
     "text": [
      "store_nbr: 0.003574688159540087\n",
      "is_payday: 0.13864950974862092\n",
      "state: 0.16918477649697294\n",
      "year: 0.18733166988045585\n",
      "s_sales_max: 0.2583299205625952\n",
      "op_sales_max: 0.26778180352184805\n",
      "op_sales_min: 0.2748103364486512\n",
      "sf_yearly_mean: 0.28024410938242666\n",
      "month: 0.34453467460421705\n",
      "city: 0.4035278951159153\n",
      "family: 0.4346131359598204\n",
      "type: 0.4559901052604208\n",
      "s_sales_mean: 0.5412383071655175\n",
      "transactions_mean: 0.5451483406493678\n",
      "s_sales_median: 0.5803237570525871\n",
      "onpromotion: 0.6669624185929334\n",
      "cluster: 0.6736366298857454\n",
      "is_holiday: 0.6870302656025027\n",
      "transactions_std: 0.760058545346284\n",
      "st_ratio: 0.8481873805436406\n",
      "c_sales_median: 0.8606982043541281\n",
      "s_sales_std: 1.0116580200487013\n",
      "is_onpromotion: 1.1406012924686382\n",
      "c_sales_std: 1.174238543339214\n",
      "weekofyear: 1.26893884979679\n",
      "c_sales_mean: 1.526928042166523\n",
      "op_sales_mean: 1.565445347026097\n",
      "dcoilwtico: 1.6731565291542725\n",
      "is_weekend: 1.8632145343962685\n",
      "c_sales_max: 1.8665985769736813\n",
      "weekIdContinous: 2.0217823994338575\n",
      "sales_lag1y: 2.2571987420290136\n",
      "dayofweek: 2.88587813517693\n",
      "op_sales_median: 3.0518114623848707\n",
      "sales_lag8w: 4.583087059942495\n",
      "sales_lag4w: 4.746245228312976\n",
      "day: 5.473013547397641\n",
      "dayofyear: 7.943755937372515\n",
      "sales_lag2w: 10.130606916581938\n",
      "sf_monthly_mean: 34.43398436166338\n"
     ]
    }
   ],
   "source": [
    "feature_importance = model.get_feature_importance(type='FeatureImportance')\n",
    "feature_names = X_train.columns \n",
    "# Create a dictionary mapping feature names to their importances\n",
    "feature_importance_dict = dict(zip(feature_names, feature_importance))\n",
    "\n",
    "# Sort the features by importance\n",
    "sorted_feature_importance = sorted(feature_importance_dict.items(), key=lambda x: x[1], reverse=False)\n",
    "\n",
    "for feature, importance in sorted_feature_importance:\n",
    "    print(f\"{feature}: {importance}\")\n"
   ]
  },
  {
   "cell_type": "code",
   "execution_count": 16,
   "id": "d4ef200f",
   "metadata": {
    "execution": {
     "iopub.execute_input": "2023-11-23T10:30:54.159925Z",
     "iopub.status.busy": "2023-11-23T10:30:54.159078Z",
     "iopub.status.idle": "2023-11-23T10:30:54.902578Z",
     "shell.execute_reply": "2023-11-23T10:30:54.901691Z"
    },
    "papermill": {
     "duration": 0.760215,
     "end_time": "2023-11-23T10:30:54.905280",
     "exception": false,
     "start_time": "2023-11-23T10:30:54.145065",
     "status": "completed"
    },
    "tags": []
   },
   "outputs": [
    {
     "data": {
      "image/png": "[encoded data removed]",
      "text/plain": [
       "<Figure size 1000x1000 with 1 Axes>"
      ]
     },
     "metadata": {},
     "output_type": "display_data"
    }
   ],
   "source": [
    "sorted_feature_importance\n",
    "# Extract data for plotting\n",
    "labels, values = zip(*sorted_feature_importance)\n",
    "# Create a bar plot\n",
    "plt.figure(figsize=(10, 10))\n",
    "bars = plt.barh(labels, values)\n",
    "plt.xlabel('Values')\n",
    "plt.ylabel('Features')\n",
    "plt.title('Bar Plot of Feature Importance')\n",
    "# Add labels to the bars\n",
    "for bar, value in zip(bars, values):\n",
    "    plt.text(bar.get_width(), bar.get_y() + bar.get_height() / 2, f'{value:.2f}', ha='left', va='center')\n",
    "\n",
    "plt.show()"
   ]
  },
  {
   "cell_type": "markdown",
   "id": "029d0cd9",
   "metadata": {
    "papermill": {
     "duration": 0.014576,
     "end_time": "2023-11-23T10:30:54.934933",
     "exception": false,
     "start_time": "2023-11-23T10:30:54.920357",
     "status": "completed"
    },
    "tags": []
   },
   "source": [
    "Retrain on whole dataset"
   ]
  },
  {
   "cell_type": "code",
   "execution_count": 17,
   "id": "ba88e601",
   "metadata": {
    "execution": {
     "iopub.execute_input": "2023-11-23T10:30:54.966972Z",
     "iopub.status.busy": "2023-11-23T10:30:54.966297Z",
     "iopub.status.idle": "2023-11-23T10:31:03.336760Z",
     "shell.execute_reply": "2023-11-23T10:31:03.335768Z"
    },
    "papermill": {
     "duration": 8.389505,
     "end_time": "2023-11-23T10:31:03.339317",
     "exception": false,
     "start_time": "2023-11-23T10:30:54.949812",
     "status": "completed"
    },
    "tags": []
   },
   "outputs": [],
   "source": [
    "traint_pool = Pool(train.drop(columns_to_drop, axis = 1), label = np.log1p(train.sales), cat_features=categorical_columns)\n",
    "test_pool = Pool(test.drop(columns_to_drop, axis = 1), cat_features=categorical_columns)"
   ]
  },
  {
   "cell_type": "code",
   "execution_count": 18,
   "id": "d36f08ec",
   "metadata": {
    "execution": {
     "iopub.execute_input": "2023-11-23T10:31:03.371555Z",
     "iopub.status.busy": "2023-11-23T10:31:03.370441Z",
     "iopub.status.idle": "2023-11-23T10:56:49.155991Z",
     "shell.execute_reply": "2023-11-23T10:56:49.154660Z"
    },
    "papermill": {
     "duration": 1545.804561,
     "end_time": "2023-11-23T10:56:49.158878",
     "exception": false,
     "start_time": "2023-11-23T10:31:03.354317",
     "status": "completed"
    },
    "tags": []
   },
   "outputs": [
    {
     "name": "stdout",
     "output_type": "stream",
     "text": [
      "0:\tlearn: 1.9147551\ttotal: 8.55s\tremaining: 28m 21s\n",
      "50:\tlearn: 0.3678452\ttotal: 6m 27s\tremaining: 18m 52s\n",
      "100:\tlearn: 0.3471762\ttotal: 12m 51s\tremaining: 12m 35s\n",
      "150:\tlearn: 0.3323773\ttotal: 19m 21s\tremaining: 6m 16s\n",
      "199:\tlearn: 0.3234447\ttotal: 25m 42s\tremaining: 0us\n"
     ]
    },
    {
     "data": {
      "text/plain": [
       "<catboost.core.CatBoostRegressor at 0x7c22ca302590>"
      ]
     },
     "execution_count": 18,
     "metadata": {},
     "output_type": "execute_result"
    }
   ],
   "source": [
    "model.fit(traint_pool,verbose=50)"
   ]
  },
  {
   "cell_type": "code",
   "execution_count": 19,
   "id": "6012fe7a",
   "metadata": {
    "execution": {
     "iopub.execute_input": "2023-11-23T10:56:49.193342Z",
     "iopub.status.busy": "2023-11-23T10:56:49.192850Z",
     "iopub.status.idle": "2023-11-23T10:56:49.238316Z",
     "shell.execute_reply": "2023-11-23T10:56:49.236687Z"
    },
    "papermill": {
     "duration": 0.066893,
     "end_time": "2023-11-23T10:56:49.241845",
     "exception": false,
     "start_time": "2023-11-23T10:56:49.174952",
     "status": "completed"
    },
    "tags": []
   },
   "outputs": [],
   "source": [
    "preds = np.expm1(model.predict(test_pool)) # transform predictions back immediatelly"
   ]
  },
  {
   "cell_type": "code",
   "execution_count": 20,
   "id": "71745368",
   "metadata": {
    "execution": {
     "iopub.execute_input": "2023-11-23T10:56:49.277752Z",
     "iopub.status.busy": "2023-11-23T10:56:49.277256Z",
     "iopub.status.idle": "2023-11-23T10:56:49.285084Z",
     "shell.execute_reply": "2023-11-23T10:56:49.283807Z"
    },
    "papermill": {
     "duration": 0.028415,
     "end_time": "2023-11-23T10:56:49.287638",
     "exception": false,
     "start_time": "2023-11-23T10:56:49.259223",
     "status": "completed"
    },
    "tags": []
   },
   "outputs": [
    {
     "data": {
      "text/plain": [
       "-0.20818836785062805"
      ]
     },
     "execution_count": 20,
     "metadata": {},
     "output_type": "execute_result"
    }
   ],
   "source": [
    "preds.min()"
   ]
  },
  {
   "cell_type": "code",
   "execution_count": 21,
   "id": "e679740e",
   "metadata": {
    "execution": {
     "iopub.execute_input": "2023-11-23T10:56:49.322002Z",
     "iopub.status.busy": "2023-11-23T10:56:49.321427Z",
     "iopub.status.idle": "2023-11-23T10:56:49.330075Z",
     "shell.execute_reply": "2023-11-23T10:56:49.329002Z"
    },
    "papermill": {
     "duration": 0.028581,
     "end_time": "2023-11-23T10:56:49.332377",
     "exception": false,
     "start_time": "2023-11-23T10:56:49.303796",
     "status": "completed"
    },
    "tags": []
   },
   "outputs": [
    {
     "data": {
      "text/plain": [
       "13395.903912490394"
      ]
     },
     "execution_count": 21,
     "metadata": {},
     "output_type": "execute_result"
    }
   ],
   "source": [
    "preds.max()"
   ]
  },
  {
   "cell_type": "code",
   "execution_count": 22,
   "id": "65c28397",
   "metadata": {
    "execution": {
     "iopub.execute_input": "2023-11-23T10:56:49.367629Z",
     "iopub.status.busy": "2023-11-23T10:56:49.367136Z",
     "iopub.status.idle": "2023-11-23T10:56:49.373318Z",
     "shell.execute_reply": "2023-11-23T10:56:49.372031Z"
    },
    "papermill": {
     "duration": 0.027028,
     "end_time": "2023-11-23T10:56:49.375857",
     "exception": false,
     "start_time": "2023-11-23T10:56:49.348829",
     "status": "completed"
    },
    "tags": []
   },
   "outputs": [],
   "source": [
    "preds = preds.clip(0,20000)"
   ]
  },
  {
   "cell_type": "markdown",
   "id": "ef266f7d",
   "metadata": {
    "papermill": {
     "duration": 0.015971,
     "end_time": "2023-11-23T10:56:49.408059",
     "exception": false,
     "start_time": "2023-11-23T10:56:49.392088",
     "status": "completed"
    },
    "tags": []
   },
   "source": [
    "# Postprocessing"
   ]
  },
  {
   "cell_type": "code",
   "execution_count": 23,
   "id": "903e50da",
   "metadata": {
    "execution": {
     "iopub.execute_input": "2023-11-23T10:56:49.444557Z",
     "iopub.status.busy": "2023-11-23T10:56:49.444095Z",
     "iopub.status.idle": "2023-11-23T10:56:53.978135Z",
     "shell.execute_reply": "2023-11-23T10:56:53.976894Z"
    },
    "papermill": {
     "duration": 4.556047,
     "end_time": "2023-11-23T10:56:53.981638",
     "exception": false,
     "start_time": "2023-11-23T10:56:49.425591",
     "status": "completed"
    },
    "tags": []
   },
   "outputs": [
    {
     "data": {
      "text/html": [
       "<div>\n",
       "<style scoped>\n",
       "    .dataframe tbody tr th:only-of-type {\n",
       "        vertical-align: middle;\n",
       "    }\n",
       "\n",
       "    .dataframe tbody tr th {\n",
       "        vertical-align: top;\n",
       "    }\n",
       "\n",
       "    .dataframe thead th {\n",
       "        text-align: right;\n",
       "    }\n",
       "</style>\n",
       "<table border=\"1\" class=\"dataframe\">\n",
       "  <thead>\n",
       "    <tr style=\"text-align: right;\">\n",
       "      <th></th>\n",
       "      <th>id</th>\n",
       "      <th>date</th>\n",
       "      <th>store_nbr</th>\n",
       "      <th>family</th>\n",
       "      <th>onpromotion</th>\n",
       "      <th>preds</th>\n",
       "    </tr>\n",
       "  </thead>\n",
       "  <tbody>\n",
       "    <tr>\n",
       "      <th>0</th>\n",
       "      <td>3000888</td>\n",
       "      <td>2017-08-16</td>\n",
       "      <td>1</td>\n",
       "      <td>AUTOMOTIVE</td>\n",
       "      <td>0</td>\n",
       "      <td>5.159646</td>\n",
       "    </tr>\n",
       "    <tr>\n",
       "      <th>1</th>\n",
       "      <td>3000889</td>\n",
       "      <td>2017-08-16</td>\n",
       "      <td>1</td>\n",
       "      <td>BABY CARE</td>\n",
       "      <td>0</td>\n",
       "      <td>0.000000</td>\n",
       "    </tr>\n",
       "    <tr>\n",
       "      <th>2</th>\n",
       "      <td>3000890</td>\n",
       "      <td>2017-08-16</td>\n",
       "      <td>1</td>\n",
       "      <td>BEAUTY</td>\n",
       "      <td>2</td>\n",
       "      <td>6.214798</td>\n",
       "    </tr>\n",
       "    <tr>\n",
       "      <th>3</th>\n",
       "      <td>3000891</td>\n",
       "      <td>2017-08-16</td>\n",
       "      <td>1</td>\n",
       "      <td>BEVERAGES</td>\n",
       "      <td>20</td>\n",
       "      <td>2589.604449</td>\n",
       "    </tr>\n",
       "    <tr>\n",
       "      <th>4</th>\n",
       "      <td>3000892</td>\n",
       "      <td>2017-08-16</td>\n",
       "      <td>1</td>\n",
       "      <td>BOOKS</td>\n",
       "      <td>0</td>\n",
       "      <td>0.022087</td>\n",
       "    </tr>\n",
       "  </tbody>\n",
       "</table>\n",
       "</div>"
      ],
      "text/plain": [
       "        id        date  store_nbr      family  onpromotion        preds\n",
       "0  3000888  2017-08-16          1  AUTOMOTIVE            0     5.159646\n",
       "1  3000889  2017-08-16          1   BABY CARE            0     0.000000\n",
       "2  3000890  2017-08-16          1      BEAUTY            2     6.214798\n",
       "3  3000891  2017-08-16          1   BEVERAGES           20  2589.604449\n",
       "4  3000892  2017-08-16          1       BOOKS            0     0.022087"
      ]
     },
     "execution_count": 23,
     "metadata": {},
     "output_type": "execute_result"
    }
   ],
   "source": [
    "test = pd.read_csv('/kaggle/input/store-sales-time-series-forecasting/test.csv')\n",
    "train = pd.read_csv('/kaggle/input/store-sales-time-series-forecasting/train.csv')\n",
    "\n",
    "submission_pre = pd.DataFrame(data={\"id\" : sample_submission.id,\n",
    "                                   \"preds\" : preds})\n",
    "\n",
    "submission_pre = pd.merge(test,submission_pre, on='id',how='left')\n",
    "\n",
    "# get info about which stores have 0 sales for which categories out of train\n",
    "store_info=train[['store_nbr','family','sales']].groupby(['store_nbr','family']).sum().reset_index()\n",
    "store_info = store_info.loc[store_info.sales == 0] #reduce to those without sales\n",
    "\n",
    "categories_not_sold_in_all_stores = store_info.family.unique()\n",
    "\n",
    "# set all predictions to 0 for the categories that are not sold in certain stores\n",
    "for cat in categories_not_sold_in_all_stores:\n",
    "    category = cat\n",
    "    stores_that_dont_sell_category = list(store_info.loc[(store_info.family == category)].store_nbr)\n",
    "    submission_pre.loc[submission_pre.store_nbr.isin(stores_that_dont_sell_category) & (submission_pre.family==category),['preds']] = 0\n",
    "    \n",
    "submission_pre.head()"
   ]
  },
  {
   "cell_type": "markdown",
   "id": "6801090b",
   "metadata": {
    "papermill": {
     "duration": 0.0162,
     "end_time": "2023-11-23T10:56:54.020467",
     "exception": false,
     "start_time": "2023-11-23T10:56:54.004267",
     "status": "completed"
    },
    "tags": []
   },
   "source": [
    "# Submission"
   ]
  },
  {
   "cell_type": "code",
   "execution_count": 24,
   "id": "b2f22cf5",
   "metadata": {
    "execution": {
     "iopub.execute_input": "2023-11-23T10:56:54.056437Z",
     "iopub.status.busy": "2023-11-23T10:56:54.055930Z",
     "iopub.status.idle": "2023-11-23T10:56:54.196180Z",
     "shell.execute_reply": "2023-11-23T10:56:54.194817Z"
    },
    "papermill": {
     "duration": 0.163159,
     "end_time": "2023-11-23T10:56:54.200045",
     "exception": false,
     "start_time": "2023-11-23T10:56:54.036886",
     "status": "completed"
    },
    "tags": []
   },
   "outputs": [
    {
     "data": {
      "text/html": [
       "<div>\n",
       "<style scoped>\n",
       "    .dataframe tbody tr th:only-of-type {\n",
       "        vertical-align: middle;\n",
       "    }\n",
       "\n",
       "    .dataframe tbody tr th {\n",
       "        vertical-align: top;\n",
       "    }\n",
       "\n",
       "    .dataframe thead th {\n",
       "        text-align: right;\n",
       "    }\n",
       "</style>\n",
       "<table border=\"1\" class=\"dataframe\">\n",
       "  <thead>\n",
       "    <tr style=\"text-align: right;\">\n",
       "      <th></th>\n",
       "      <th>id</th>\n",
       "      <th>sales</th>\n",
       "    </tr>\n",
       "  </thead>\n",
       "  <tbody>\n",
       "    <tr>\n",
       "      <th>0</th>\n",
       "      <td>3000888</td>\n",
       "      <td>5.159646</td>\n",
       "    </tr>\n",
       "    <tr>\n",
       "      <th>1</th>\n",
       "      <td>3000889</td>\n",
       "      <td>0.000000</td>\n",
       "    </tr>\n",
       "    <tr>\n",
       "      <th>2</th>\n",
       "      <td>3000890</td>\n",
       "      <td>6.214798</td>\n",
       "    </tr>\n",
       "    <tr>\n",
       "      <th>3</th>\n",
       "      <td>3000891</td>\n",
       "      <td>2589.604449</td>\n",
       "    </tr>\n",
       "    <tr>\n",
       "      <th>4</th>\n",
       "      <td>3000892</td>\n",
       "      <td>0.022087</td>\n",
       "    </tr>\n",
       "  </tbody>\n",
       "</table>\n",
       "</div>"
      ],
      "text/plain": [
       "        id        sales\n",
       "0  3000888     5.159646\n",
       "1  3000889     0.000000\n",
       "2  3000890     6.214798\n",
       "3  3000891  2589.604449\n",
       "4  3000892     0.022087"
      ]
     },
     "execution_count": 24,
     "metadata": {},
     "output_type": "execute_result"
    }
   ],
   "source": [
    "# generate submission file \n",
    "submission = submission_pre[['id','preds']]\n",
    "submission = submission.rename(columns={'preds':'sales'})\n",
    "\n",
    "submission.to_csv('submission.csv', index=False)\n",
    "submission.head()"
   ]
  },
  {
   "cell_type": "code",
   "execution_count": null,
   "id": "ab5d3417",
   "metadata": {
    "papermill": {
     "duration": 0.018277,
     "end_time": "2023-11-23T10:56:54.235928",
     "exception": false,
     "start_time": "2023-11-23T10:56:54.217651",
     "status": "completed"
    },
    "tags": []
   },
   "outputs": [],
   "source": []
  }
 ],
 "metadata": {
  "kaggle": {
   "accelerator": "none",
   "dataSources": [
    {
     "databundleVersionId": 2887556,
     "sourceId": 29781,
     "sourceType": "competition"
    },
    {
     "sourceId": 151657838,
     "sourceType": "kernelVersion"
    }
   ],
   "dockerImageVersionId": 30587,
   "isGpuEnabled": false,
   "isInternetEnabled": true,
   "language": "python",
   "sourceType": "notebook"
  },
  "kernelspec": {
   "display_name": "Python 3",
   "language": "python",
   "name": "python3"
  },
  "language_info": {
   "codemirror_mode": {
    "name": "ipython",
    "version": 3
   },
   "file_extension": ".py",
   "mimetype": "text/x-python",
   "name": "python",
   "nbconvert_exporter": "python",
   "pygments_lexer": "ipython3",
   "version": "3.10.12"
  },
  "papermill": {
   "default_parameters": {},
   "duration": 2841.868999,
   "end_time": "2023-11-23T10:56:55.889793",
   "environment_variables": {},
   "exception": null,
   "input_path": "__notebook__.ipynb",
   "output_path": "__notebook__.ipynb",
   "parameters": {},
   "start_time": "2023-11-23T10:09:34.020794",
   "version": "2.4.0"
  }
 },
 "nbformat": 4,
 "nbformat_minor": 5
}
